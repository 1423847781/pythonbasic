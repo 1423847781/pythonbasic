{
 "cells": [
  {
   "cell_type": "markdown",
   "metadata": {},
   "source": [
    "### 高阶函数\n",
    "高阶函数英文叫Higher-order function。什么是高阶函数？\n",
    "\n",
    "**编写高阶函数，就是让函数的参数能够接收别的函数。**"
   ]
  },
  {
   "cell_type": "markdown",
   "metadata": {},
   "source": [
    "### 变量可以指向函数\n",
    "以Python内置的求绝对值的函数abs()为例，调用该函数用以下代码：abs(-10)"
   ]
  },
  {
   "cell_type": "markdown",
   "metadata": {},
   "source": [
    "###  函数名也是变量\n",
    "那么函数名是什么呢？函数名其实就是指向函数的变量！对于abs()这个函数，完全可以把函数名abs看成变量，它指向一个可以计算绝对值的函数！"
   ]
  },
  {
   "cell_type": "code",
   "execution_count": 5,
   "metadata": {},
   "outputs": [
    {
     "data": {
      "text/plain": [
       "<function __main__.abc>"
      ]
     },
     "execution_count": 5,
     "metadata": {},
     "output_type": "execute_result"
    }
   ],
   "source": [
    "abs(-10)\n",
    "\n",
    "def abc(num):\n",
    "    if num>= 0:\n",
    "        return '绝对值是：%s'%num\n",
    "    else:\n",
    "        return '绝对值是：%s'%-num\n",
    "\n",
    "abs = abc\n",
    "abs(-10)\n",
    "abs"
   ]
  },
  {
   "cell_type": "markdown",
   "metadata": {},
   "source": [
    "### 传入函数\n",
    "既然变量可以指向函数，函数的参数能接收变量，那么一个函数就可以接收另一个函数作为参数，这种函数就称之为高阶函数。\n",
    "一个最简单的高阶函数："
   ]
  },
  {
   "cell_type": "code",
   "execution_count": 2,
   "metadata": {},
   "outputs": [
    {
     "data": {
      "text/plain": [
       "600"
      ]
     },
     "execution_count": 2,
     "metadata": {},
     "output_type": "execute_result"
    }
   ],
   "source": [
    "# def add(x, y, f):\n",
    "#     return f(x) + f(y)\n",
    "\n",
    "def mathAction(x,y,fun):\n",
    "    return fun(x,y)\n",
    "\n",
    "\n",
    "def add(x1,x2):\n",
    "    return x1+x2\n",
    "\n",
    "def cf(x1,x2):\n",
    "    return x1*x2\n",
    "\n",
    "num1 = 30\n",
    "num2 = 20\n",
    "mathAction(num1,num2,add)\n",
    "mathAction(num1,num2,cf)\n"
   ]
  },
  {
   "cell_type": "code",
   "execution_count": 12,
   "metadata": {},
   "outputs": [
    {
     "data": {
      "text/plain": [
       "6"
      ]
     },
     "execution_count": 12,
     "metadata": {},
     "output_type": "execute_result"
    }
   ],
   "source": [
    "def cf2(a,b):\n",
    "    def temp():\n",
    "        return a*b\n",
    "    return temp\n",
    "a = cf2(2,3)\n",
    "a\n",
    "a()\n",
    "###函数可以返回函数"
   ]
  },
  {
   "cell_type": "markdown",
   "metadata": {},
   "source": [
    "### map/reduce\n",
    "Python内建了map()和reduce()函数。\n",
    "\n",
    "如果你读过Google的那篇大名鼎鼎的论文“MapReduce: Simplified Data Processing on Large Clusters”，你就能大概明白map/reduce的概念。\n",
    "\n",
    "我们先看map。map()函数接收两个参数，一个是函数，一个是Iterable，map将传入的函数依次作用到序列的每个元素，并把结果作为新的Iterator返回。\n",
    "\n",
    "举例说明，比如我们有一个函数f(x)=x2，要把这个函数作用在一个list [1, 2, 3, 4, 5, 6, 7, 8, 9]上，就可以用map()实现如下"
   ]
  },
  {
   "cell_type": "code",
   "execution_count": 3,
   "metadata": {},
   "outputs": [
    {
     "data": {
      "text/plain": [
       "<map at 0x29cde074978>"
      ]
     },
     "execution_count": 3,
     "metadata": {},
     "output_type": "execute_result"
    }
   ],
   "source": [
    "def f(x):\n",
    "    return x * x\n",
    "r = map(f, [1, 2, 3, 4, 5, 6, 7, 8, 9])\n",
    "# list(r)\n",
    "r"
   ]
  },
  {
   "cell_type": "code",
   "execution_count": 6,
   "metadata": {},
   "outputs": [
    {
     "data": {
      "text/plain": [
       "True"
      ]
     },
     "execution_count": 6,
     "metadata": {},
     "output_type": "execute_result"
    }
   ],
   "source": [
    "from collections import Iterable,Iterator\n",
    "ll = [1,2,3,4,5,6]\n",
    "#map(加工的逻辑，加工的材料)\n",
    "# map(fn,ll)\n",
    "\n",
    "a = map(lambda x:x+10,ll)\n",
    "isinstance(a,Iterable)\n",
    "isinstance(a,Iterator)\n",
    "# list(a)\n"
   ]
  },
  {
   "cell_type": "code",
   "execution_count": 15,
   "metadata": {},
   "outputs": [
    {
     "name": "stdout",
     "output_type": "stream",
     "text": [
      "<map object at 0x00000000049BC1D0>\n",
      "['绝对值是：1', '绝对值是：3', '绝对值是：2', '绝对值是：4', '绝对值是：6', '绝对值是：7', '绝对值是：8', '绝对值是：9']\n",
      "[1, -3, 2, -4, -6, 7, 8, 9]\n"
     ]
    }
   ],
   "source": [
    "def abc(num):\n",
    "    if num>= 0:\n",
    "        return '绝对值是：%s'%num\n",
    "    else:\n",
    "        return '绝对值是：%s'%-num\n",
    "L = [1,-3,2,-4,-6,7,8,9]\n",
    "newL = map(abc,L)\n",
    "print(newL)\n",
    "print(list(newL))\n",
    "print(L)"
   ]
  },
  {
   "cell_type": "code",
   "execution_count": 4,
   "metadata": {},
   "outputs": [
    {
     "name": "stdout",
     "output_type": "stream",
     "text": [
      "[1, 4, 9, 16, 25, 36, 49, 64, 81]\n"
     ]
    }
   ],
   "source": [
    "#不需要map()函数，写一个循环，也可以计算出结果：\n",
    "L = []\n",
    "for n in [1, 2, 3, 4, 5, 6, 7, 8, 9]:\n",
    "    L.append(f(n))\n",
    "print(L)"
   ]
  },
  {
   "cell_type": "markdown",
   "metadata": {},
   "source": [
    "**map()作为高阶函数，事实上它把运算规则抽象了**\n",
    "\n",
    "因此，我们不但可以计算简单的f(x)=x2，还可以计算任意复杂的函数，比如，把这个list所有数字转为字符串"
   ]
  },
  {
   "cell_type": "code",
   "execution_count": 5,
   "metadata": {},
   "outputs": [
    {
     "data": {
      "text/plain": [
       "['1', '2', '3', '4', '5', '6', '7', '8', '9']"
      ]
     },
     "execution_count": 5,
     "metadata": {},
     "output_type": "execute_result"
    }
   ],
   "source": [
    "list(map(str, [1, 2, 3, 4, 5, 6, 7, 8, 9]))"
   ]
  },
  {
   "cell_type": "markdown",
   "metadata": {},
   "source": [
    "### reduce的用法\n",
    "reduce把一个函数作用在一个序列[x1, x2, x3, ...]上，这个函数必须接收两个参数，reduce把结果继续和序列的下一个元素做累积计算，其效果就是：\n",
    "\n",
    "reduce(f, [x1, x2, x3, x4]) = f(f(f(x1, x2), x3), x4)"
   ]
  },
  {
   "cell_type": "code",
   "execution_count": 6,
   "metadata": {},
   "outputs": [
    {
     "data": {
      "text/plain": [
       "13579"
      ]
     },
     "execution_count": 6,
     "metadata": {},
     "output_type": "execute_result"
    }
   ],
   "source": [
    "# 求和运算可以直接用Python内建函数sum()，没必要动用reduce。\n",
    "# 但是如果要把序列[1, 3, 5, 7, 9]变换成整数13579，reduce就可以派上用场：\n",
    "\n",
    "from functools import reduce\n",
    "def fn(x, y):\n",
    "    return x * 10 + y\n",
    "reduce(fn, [1, 3, 5, 7, 9])\n",
    "# x=1,y=3,return 13\n",
    "# x=13,y=5,return 135\n",
    "# x=135,y=7,return 1357\n",
    "# x=1357,y=9,retuen 13579\n",
    "# x=13579\n"
   ]
  },
  {
   "cell_type": "code",
   "execution_count": 2,
   "metadata": {},
   "outputs": [
    {
     "name": "stdout",
     "output_type": "stream",
     "text": [
      "result: 1\n",
      "newContent: 2\n",
      "result: 3\n",
      "newContent: 3\n",
      "result: 6\n",
      "newContent: 4\n",
      "result: 10\n",
      "newContent: 5\n",
      "result: 15\n",
      "newContent: 6\n",
      "result: 21\n",
      "newContent: 7\n"
     ]
    },
    {
     "data": {
      "text/plain": [
       "28"
      ]
     },
     "execution_count": 2,
     "metadata": {},
     "output_type": "execute_result"
    }
   ],
   "source": [
    "from functools import reduce\n",
    "tt = [1,2,3,4,5,6,7]\n",
    "def fn(result,newContent):\n",
    "    print('result:',result)\n",
    "    print('newContent:',newContent)\n",
    "    return result + newContent\n",
    "\n",
    "reduce(fn,tt)"
   ]
  },
  {
   "cell_type": "code",
   "execution_count": 4,
   "metadata": {},
   "outputs": [
    {
     "name": "stdout",
     "output_type": "stream",
     "text": [
      "result: 1\n",
      "newContent: 2\n",
      "result: 3\n",
      "newContent: 3\n",
      "result: 6\n",
      "newContent: 4\n",
      "result: 10\n",
      "newContent: 5\n",
      "result: 15\n",
      "newContent: 6\n",
      "result: 21\n",
      "newContent: 7\n"
     ]
    },
    {
     "data": {
      "text/plain": [
       "28"
      ]
     },
     "execution_count": 4,
     "metadata": {},
     "output_type": "execute_result"
    }
   ],
   "source": [
    "def reduceFn(fn,listContent):\n",
    "    result = listContent[0]\n",
    "    for i,item in enumerate(listContent):\n",
    "        if i != 0 :\n",
    "            result = fn(result,item)\n",
    "    return result\n",
    "\n",
    "tt = [1,2,3,4,5,6,7]\n",
    "def fn(result,newContent):\n",
    "    print('result:',result)\n",
    "    print('newContent:',newContent)\n",
    "    return result + newContent\n",
    "\n",
    "reduceFn(fn,tt)\n",
    "\n",
    "        "
   ]
  },
  {
   "cell_type": "code",
   "execution_count": null,
   "metadata": {},
   "outputs": [],
   "source": [
    "#高阶函数：\n",
    "#map/reduce/fliter/sorted/\n",
    "#匿名函数"
   ]
  },
  {
   "cell_type": "code",
   "execution_count": 18,
   "metadata": {},
   "outputs": [
    {
     "data": {
      "text/plain": [
       "249480"
      ]
     },
     "execution_count": 18,
     "metadata": {},
     "output_type": "execute_result"
    }
   ],
   "source": [
    "from functools import reduce\n",
    "L = [1,4,7,9,10,99]\n",
    "\n",
    "def bb(x,y):\n",
    "    return x*y\n",
    "    \n",
    "reduce(bb,L)"
   ]
  },
  {
   "cell_type": "code",
   "execution_count": 7,
   "metadata": {},
   "outputs": [
    {
     "data": {
      "text/plain": [
       "13579"
      ]
     },
     "execution_count": 7,
     "metadata": {},
     "output_type": "execute_result"
    }
   ],
   "source": [
    "# 考虑到字符串str也是一个序列，对上面的例子稍加改动，配合map()，我们就可以写出把str转换为int的函数：\n",
    "from functools import reduce\n",
    "def fn(x, y):\n",
    "    return x * 10 + y\n",
    "def char2num(s):\n",
    "    digits = {'0': 0, '1': 1, '2': 2, '3': 3, '4': 4, '5': 5, '6': 6, '7': 7, '8': 8, '9': 9}\n",
    "    return digits[s]\n",
    "reduce(fn, map(char2num, '13579'))"
   ]
  },
  {
   "cell_type": "code",
   "execution_count": 8,
   "metadata": {
    "collapsed": true
   },
   "outputs": [],
   "source": [
    "#整理成一个str2int的函数就是：\n",
    "\n",
    "from functools import reduce\n",
    "\n",
    "DIGITS = {'0': 0, '1': 1, '2': 2, '3': 3, '4': 4, '5': 5, '6': 6, '7': 7, '8': 8, '9': 9}\n",
    "\n",
    "def str2int(s):\n",
    "    def fn(x, y):\n",
    "        return x * 10 + y\n",
    "    def char2num(s):\n",
    "        return DIGITS[s]\n",
    "    return reduce(fn, map(char2num, s))"
   ]
  },
  {
   "cell_type": "code",
   "execution_count": 7,
   "metadata": {},
   "outputs": [],
   "source": [
    "#用lambda函数进一步简化成：\n",
    "from functools import reduce\n",
    "DIGITS = {'0': 0, '1': 1, '2': 2, '3': 3, '4': 4, '5': 5, '6': 6, '7': 7, '8': 8, '9': 9}\n",
    "def char2num(s):\n",
    "    return DIGITS[s]\n",
    "\n",
    "def str2int(s):\n",
    "    return reduce(lambda x, y: x * 10 + y, map(char2num, s))"
   ]
  },
  {
   "cell_type": "code",
   "execution_count": 17,
   "metadata": {},
   "outputs": [
    {
     "data": {
      "text/plain": [
       "90"
      ]
     },
     "execution_count": 17,
     "metadata": {},
     "output_type": "execute_result"
    }
   ],
   "source": [
    "def mathAction(x,y,fun):\n",
    "    return fun(x,y)\n",
    "\n",
    "def funname(x,y):\n",
    "    return x-y\n",
    "\n",
    "mathAction(100,10,lambda x,y:x-y)"
   ]
  },
  {
   "cell_type": "code",
   "execution_count": 20,
   "metadata": {},
   "outputs": [
    {
     "data": {
      "text/plain": [
       "<function __main__.<lambda>>"
      ]
     },
     "execution_count": 20,
     "metadata": {},
     "output_type": "execute_result"
    }
   ],
   "source": [
    "funname1 = lambda x,y:x-y\n",
    "funname1"
   ]
  },
  {
   "cell_type": "code",
   "execution_count": 21,
   "metadata": {},
   "outputs": [
    {
     "data": {
      "text/plain": [
       "89"
      ]
     },
     "execution_count": 21,
     "metadata": {},
     "output_type": "execute_result"
    }
   ],
   "source": [
    "funname1(99,10)"
   ]
  },
  {
   "cell_type": "code",
   "execution_count": 26,
   "metadata": {},
   "outputs": [
    {
     "name": "stdout",
     "output_type": "stream",
     "text": [
      "<generator object map1 at 0x00000000049609E8>\n"
     ]
    },
    {
     "data": {
      "text/plain": [
       "['绝对值是：1',\n",
       " '绝对值是：3',\n",
       " '绝对值是：2',\n",
       " '绝对值是：4',\n",
       " '绝对值是：6',\n",
       " '绝对值是：7',\n",
       " '绝对值是：8',\n",
       " '绝对值是：9']"
      ]
     },
     "execution_count": 26,
     "metadata": {},
     "output_type": "execute_result"
    }
   ],
   "source": [
    "# map1(fn,[列表])\n",
    "# ===>[新的列表]\n",
    "\n",
    "def map1(fn,L):\n",
    "    newL = []\n",
    "    for item in L:\n",
    "#         newL.append(fn(item))\n",
    "        yield fn(item)\n",
    "#     return newL\n",
    "\n",
    "def abc(num):\n",
    "    if num>= 0:\n",
    "        return '绝对值是：%s'%num\n",
    "    else:\n",
    "        return '绝对值是：%s'%-num\n",
    "\n",
    "L = [1,-3,2,-4,-6,7,8,9]\n",
    "nL = map1(abc,L)\n",
    "print(nL)\n",
    "\n",
    "# for x in nL:\n",
    "#     print(x)\n",
    "\n",
    "list(nL)\n"
   ]
  },
  {
   "cell_type": "code",
   "execution_count": 30,
   "metadata": {},
   "outputs": [
    {
     "data": {
      "text/plain": [
       "13579"
      ]
     },
     "execution_count": 30,
     "metadata": {},
     "output_type": "execute_result"
    }
   ],
   "source": [
    "def fn(x, y):\n",
    "    return x * 10 + y\n",
    "L = [1, 3, 5, 7, 9]\n",
    "def reduce2(fn,L):\n",
    "    xhNum = len(L)-1#总共需要循环多少次\n",
    "    x = L[0]\n",
    "    y = L[1]\n",
    "    i = 0#现在第几次循环\n",
    "    while i<xhNum:\n",
    "        x = fn(x,y)\n",
    "        if i+2>xhNum:\n",
    "            break\n",
    "        y = L[i+2]\n",
    "        i = i + 1\n",
    "    return x\n",
    "    \n",
    "\n",
    "reduce2(fn,L)\n",
    "#13579"
   ]
  },
  {
   "cell_type": "code",
   "execution_count": 31,
   "metadata": {},
   "outputs": [
    {
     "data": {
      "text/plain": [
       "249480"
      ]
     },
     "execution_count": 31,
     "metadata": {},
     "output_type": "execute_result"
    }
   ],
   "source": [
    "L = [1,4,7,9,10,99]\n",
    "\n",
    "def bb(x,y):\n",
    "    return x*y\n",
    "\n",
    "def reduce2(fn,L):\n",
    "    xhNum = len(L)-1#总共需要循环多少次\n",
    "    x = L[0]\n",
    "    y = L[1]\n",
    "    i = 0#现在第几次循环\n",
    "    while i<xhNum:\n",
    "        x = fn(x,y)\n",
    "        if i+2>xhNum:\n",
    "            break\n",
    "        y = L[i+2]\n",
    "        i = i + 1\n",
    "    return x\n",
    "reduce2(bb,L)"
   ]
  },
  {
   "cell_type": "code",
   "execution_count": null,
   "metadata": {
    "collapsed": true
   },
   "outputs": [],
   "source": []
  }
 ],
 "metadata": {
  "kernelspec": {
   "display_name": "Python 3",
   "language": "python",
   "name": "python3"
  },
  "language_info": {
   "codemirror_mode": {
    "name": "ipython",
    "version": 3
   },
   "file_extension": ".py",
   "mimetype": "text/x-python",
   "name": "python",
   "nbconvert_exporter": "python",
   "pygments_lexer": "ipython3",
   "version": "3.6.5"
  }
 },
 "nbformat": 4,
 "nbformat_minor": 2
}
