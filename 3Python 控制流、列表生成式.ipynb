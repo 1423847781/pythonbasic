{
 "cells": [
  {
   "cell_type": "markdown",
   "metadata": {},
   "source": [
    "# Python 控制流"
   ]
  },
  {
   "cell_type": "markdown",
   "metadata": {},
   "source": [
    "* Python的三种控制流\n",
    "* 认识分支结构if\n",
    "* 认识循环结构while\n",
    "* 认识循环结构for\n",
    "* Break语句\n",
    "* Continue语句"
   ]
  },
  {
   "cell_type": "markdown",
   "metadata": {},
   "source": [
    "### 1、Python的三种控制流"
   ]
  },
  {
   "cell_type": "markdown",
   "metadata": {},
   "source": [
    "本课时包括以下知识点：\n",
    "* 什么是控制流？\n",
    "* Python里面有哪些控制流"
   ]
  },
  {
   "cell_type": "markdown",
   "metadata": {},
   "source": [
    "## Python的三种控制流 — 什么是控制流？"
   ]
  },
  {
   "cell_type": "markdown",
   "metadata": {},
   "source": [
    "Python中程序代码的执行是有顺序的，有的程序代码会从上到下按顺序执行，有的\n",
    "程序代码会跳转着执行，有的程序代码会选择不同的分支去执行，有的程序代码会\n",
    "循环地执行。那么到底什么样的程序应该自上而下执行，什么样的程序应该选择分\n",
    "支执行，什么样的程序应该循环着执行呢？在Python中是有相应的控制语句进行标\n",
    "识的，控制语句他能控制某些代码段的执行方式，我们把这些不同功能的控制语句\n",
    "称为控制流。下面我们通过实例来看一下控制流的功能。"
   ]
  },
  {
   "cell_type": "code",
   "execution_count": 1,
   "metadata": {},
   "outputs": [
    {
     "name": "stdout",
     "output_type": "stream",
     "text": [
      "0\n",
      "1\n",
      "0\n",
      "1\n",
      "0\n",
      "1\n"
     ]
    }
   ],
   "source": [
    "#控制流\n",
    "\n",
    "#控制流功能\n",
    "#要实现：重复执行3段同样的程序\n",
    "\n",
    "#方式一：\n",
    "i = 0\n",
    "print (i)\n",
    "i = i + 1\n",
    "print (i)\n",
    "\n",
    "i = 0\n",
    "print (i)\n",
    "i = i + 1\n",
    "print (i)\n",
    "\n",
    "i = 0\n",
    "print (i)\n",
    "i = i + 1\n",
    "print (i)"
   ]
  },
  {
   "cell_type": "code",
   "execution_count": 2,
   "metadata": {},
   "outputs": [
    {
     "name": "stdout",
     "output_type": "stream",
     "text": [
      "输出：[1, 2, 3]\n",
      "输出：1\n",
      "输出：2\n",
      "输出：3\n",
      "输出：[4, 5, 6]\n",
      "输出：4\n",
      "输出：5\n",
      "输出：6\n",
      "输出：[7, 8, 9]\n",
      "输出：7\n",
      "输出：8\n",
      "输出：9\n"
     ]
    }
   ],
   "source": [
    "#方式二：\n",
    "# for k in range(0, 30):\n",
    "#     print(k)\n",
    "    \n",
    "    \n",
    "    \n",
    "#for 循环中的一项 in 可循环的对象：\n",
    "    #缩进一个TAB健，执行循环的代码块\n",
    "    #当可循环对象里的每一个子项被循环过后，那么就会跳出循环\n",
    "    \n",
    "arr1 = [\n",
    "            [1,2,3],\n",
    "            [4,5,6],\n",
    "            [7,8,9]\n",
    "        ]\n",
    "\n",
    "for item in arr1:\n",
    "    print('输出：'+str(item))\n",
    "    for i in item:\n",
    "        print('输出：'+str(i))\n",
    "\n",
    "#print('循环结束')"
   ]
  },
  {
   "cell_type": "code",
   "execution_count": 2,
   "metadata": {},
   "outputs": [
    {
     "name": "stdout",
     "output_type": "stream",
     "text": [
      "小明很乖\n"
     ]
    }
   ],
   "source": [
    "#再比如，要实现：如果小明吃了饭了，输出小明很乖，如果小明没吃饭，输出小明不乖的功能。\n",
    "#平常情况按顺序执行的话，无法实现这样的功能，我们可以用控制流中的分支结构 elif\n",
    "xiaoming = \"eat\"\n",
    "if xiaoming == \"eat\":\n",
    "    print (\"小明很乖\")\n",
    "else:\n",
    "    print (\"小明不乖\")\n",
    "    \n",
    "    \n",
    "#if 条件判断表达式：\n",
    "    #条件为真的时候执行缩进语句\n",
    "#条件语句完成后，直接执行这条语句\n",
    "\n",
    "#if 条件判断表达式：\n",
    "    #条件为真的时候执行缩进语句\n",
    "#else:\n",
    "    #条件为假执行这条语句\n",
    "\n",
    "    \n",
    "    \n"
   ]
  },
  {
   "cell_type": "code",
   "execution_count": 8,
   "metadata": {},
   "outputs": [
    {
     "name": "stdout",
     "output_type": "stream",
     "text": [
      "请输入你的年龄16\n",
      "你未满18，不可访问\n"
     ]
    }
   ],
   "source": [
    "age = input('请输入你的年龄')\n",
    "if int(age)>18:\n",
    "    print('请继续访问本网站')\n",
    "else :\n",
    "    print('你未满18，不可访问')"
   ]
  },
  {
   "cell_type": "markdown",
   "metadata": {},
   "source": [
    "### Python的三种控制流"
   ]
  },
  {
   "cell_type": "markdown",
   "metadata": {},
   "source": [
    "在Python中通常的情况下程序的执行是从上往下执行的，而某些时候我们为了改变 程序的执行顺序，故而使用控制流语句控制程序怎么执行，而在Python中，有三种 控制流类型，一种是顺序结构，就是指按顺序执行的结构，第二中是分支结构，第 三中是循环结构。下面我们分别简单地来通过实例认识这三种结构。"
   ]
  },
  {
   "cell_type": "code",
   "execution_count": 3,
   "metadata": {},
   "outputs": [
    {
     "name": "stdout",
     "output_type": "stream",
     "text": [
      "7\n",
      "6\n",
      "12\n"
     ]
    }
   ],
   "source": [
    "#顺序结构\n",
    "a = 7\n",
    "print (a)\n",
    "a = a - 1\n",
    "print (a)\n",
    "a = a + 6\n",
    "print (a)"
   ]
  },
  {
   "cell_type": "code",
   "execution_count": 3,
   "metadata": {},
   "outputs": [
    {
     "name": "stdout",
     "output_type": "stream",
     "text": [
      "40\n",
      "其余情况\n"
     ]
    }
   ],
   "source": [
    "#分支结构\n",
    "#if level == 4 ==1\n",
    "# if level == 11 ==>2\n",
    "# ifel level == 15\n",
    "a = input() #输入框让你进行输入的话，你得到的是一个字符串\n",
    "a = int(a)\n",
    "#print(a)\n",
    "if a == 4:\n",
    "    print (\"可以拥有一级大招\")\n",
    "elif a==11:\n",
    "    print (\"可以拥有二级大招\")\n",
    "elif a ==15:\n",
    "    print('可以拥有三级大招')\n",
    "else:\n",
    "    print('其余情况')\n",
    "    \n",
    "    \n",
    "# switch(level){\n",
    "#     case 4:\n",
    "#         print()\n",
    "#     case 11:\n",
    "#         print()\n",
    "# }\n",
    "#python里面没有switch"
   ]
  },
  {
   "cell_type": "markdown",
   "metadata": {},
   "source": [
    "### 语法\n",
    "```\n",
    "if 表达式 ：\n",
    "  缩进代码（为真的时候显示） \n",
    "  缩进代码（为真的时候显示） \n",
    "else:\n",
    "  缩进代码（为假的时候显示）\n",
    "```\n",
    "    "
   ]
  },
  {
   "cell_type": "code",
   "execution_count": 8,
   "metadata": {},
   "outputs": [
    {
     "name": "stdout",
     "output_type": "stream",
     "text": [
      "a是假的\n"
     ]
    }
   ],
   "source": [
    "#循环结构\n",
    "a = -3>2\n",
    "while a:\n",
    "    print (\"hello\")\n",
    "    print(a)\n",
    "    a = a - 1\n",
    "else:\n",
    "    print('a是假的')\n",
    "    \n",
    "#while 条件判断：\n",
    "    #条件为真的时候，就会一直循环缩进代码块"
   ]
  },
  {
   "cell_type": "code",
   "execution_count": 9,
   "metadata": {},
   "outputs": [
    {
     "ename": "KeyboardInterrupt",
     "evalue": "",
     "output_type": "error",
     "traceback": [
      "\u001b[1;31m---------------------------------------------------------------------------\u001b[0m",
      "\u001b[1;31mKeyboardInterrupt\u001b[0m                         Traceback (most recent call last)",
      "\u001b[1;32m<ipython-input-9-667bed243434>\u001b[0m in \u001b[0;36m<module>\u001b[1;34m()\u001b[0m\n\u001b[0;32m      2\u001b[0m \u001b[1;32mwhile\u001b[0m \u001b[1;32mTrue\u001b[0m\u001b[1;33m:\u001b[0m\u001b[1;33m\u001b[0m\u001b[0m\n\u001b[0;32m      3\u001b[0m     \u001b[1;31m#print('nihao')\u001b[0m\u001b[1;33m\u001b[0m\u001b[1;33m\u001b[0m\u001b[0m\n\u001b[1;32m----> 4\u001b[1;33m     \u001b[0mn\u001b[0m\u001b[1;33m=\u001b[0m\u001b[0mn\u001b[0m\u001b[1;33m+\u001b[0m\u001b[1;36m1\u001b[0m\u001b[1;33m\u001b[0m\u001b[0m\n\u001b[0m\u001b[0;32m      5\u001b[0m \u001b[1;33m\u001b[0m\u001b[0m\n\u001b[0;32m      6\u001b[0m \u001b[0mprint\u001b[0m\u001b[1;33m(\u001b[0m\u001b[1;34m'finally'\u001b[0m\u001b[1;33m)\u001b[0m\u001b[1;33m\u001b[0m\u001b[0m\n",
      "\u001b[1;31mKeyboardInterrupt\u001b[0m: "
     ]
    }
   ],
   "source": [
    "n= 2\n",
    "while True:\n",
    "    #print('nihao')\n",
    "    n=n+1\n",
    "\n",
    "print('finally')\n",
    "print(n)   \n",
    "#一定要尽量避免死循环,否则后面的语句永远不会被执行"
   ]
  },
  {
   "cell_type": "markdown",
   "metadata": {},
   "source": [
    "## 2、认识分支结构if"
   ]
  },
  {
   "cell_type": "markdown",
   "metadata": {},
   "source": [
    "本课时包括以下知识点：\n",
    "·认识if语句\n",
    "·if语句使用实例"
   ]
  },
  {
   "cell_type": "markdown",
   "metadata": {},
   "source": [
    "认识if语句：\n",
    "Python中if语句是用来判断选择执行哪个语句块的，下面我们通过实例认识if语句"
   ]
  },
  {
   "cell_type": "raw",
   "metadata": {},
   "source": [
    "#if语句\n",
    "#if语句的格式用法：\n",
    "'''\n",
    "if 是这样:\n",
    "    执行该部分语句\n",
    "    执行该部分语句\n",
    "    执行该部分语句\n",
    "    执行该部分语句\n",
    "    执行该部分语句\n",
    "elif 或者是这样：\n",
    "    执行elif部分语句\n",
    "    执行elif部分语句\n",
    "    执行elif部分语句\n",
    "    执行elif部分语句\n",
    "    执行elif部分语句\n",
    "else 或者以上情况都不是：\n",
    "    执行该部分语句\n",
    "    执行该部分语句\n",
    "'''"
   ]
  },
  {
   "cell_type": "markdown",
   "metadata": {},
   "source": [
    "在Python中if语句的使用是有格式的规定的，下面我们通过实例来讲解if语句的使\n",
    "用实例"
   ]
  },
  {
   "cell_type": "code",
   "execution_count": 1,
   "metadata": {},
   "outputs": [
    {
     "name": "stdout",
     "output_type": "stream",
     "text": [
      "hehe\n"
     ]
    }
   ],
   "source": [
    "#一种情况的if用法\n",
    "a = 9\n",
    "if a == 8:                         #这里的等号注意是==\n",
    "    print (\"hello\")\n",
    "\n",
    "\n",
    "if a!=8:\n",
    "    print (\"hehe\")"
   ]
  },
  {
   "cell_type": "code",
   "execution_count": 8,
   "metadata": {},
   "outputs": [
    {
     "name": "stdout",
     "output_type": "stream",
     "text": [
      "He\n"
     ]
    }
   ],
   "source": [
    "#两种选择情况下的if用法\n",
    "a = 10\n",
    "if a == 8:\n",
    "    print \"She\"\n",
    "else:\n",
    "    print \"He\""
   ]
  },
  {
   "cell_type": "code",
   "execution_count": 21,
   "metadata": {},
   "outputs": [
    {
     "name": "stdout",
     "output_type": "stream",
     "text": [
      "7\n"
     ]
    }
   ],
   "source": [
    "#三种选择情况下的if用法\n",
    "a = 5\n",
    "if a == 7:\n",
    "    print (\"I\")\n",
    "elif a > 7:\n",
    "    print (\"he\")\n",
    "elif a < 7:\n",
    "    print(7)\n",
    "elif a < 6:\n",
    "    print (\"hello\")\n",
    "else:\n",
    "    print (\"she\")"
   ]
  },
  {
   "cell_type": "markdown",
   "metadata": {},
   "source": [
    "### if语句使用要点\n",
    ">“要点：各分支尽量不重复，并且尽量包含全部可能性”\n",
    "\n",
    "比如我们要按成绩高低分为优良差，比如这样划分的条件是比较合理的0<=成绩<80为差，80<=成绩<90为良，90<=成绩<=100为优。\n",
    "而这样划分的条件是不合理的：\n",
    "1. 0<成绩<=80为差，80<=成绩<90为良，90<=成绩<100。80重合了；\n",
    "2. 0<成绩<80为差，80<成绩<90为良，90<=成绩<100。比如如果一个人成绩是0分、100分、80分、90分这种临界条件的时候就没办法判断执行哪部分语句了。"
   ]
  },
  {
   "cell_type": "code",
   "execution_count": 7,
   "metadata": {
    "collapsed": true
   },
   "outputs": [],
   "source": [
    "a = 80\n",
    "a = 0\n",
    "if 0 < a < 80:\n",
    "    print (\"差\")\n",
    "elif 80 <= a <= 100:\n",
    "    print (\"好\")    "
   ]
  },
  {
   "cell_type": "markdown",
   "metadata": {},
   "source": [
    "### 3、认识循环结构while"
   ]
  },
  {
   "cell_type": "markdown",
   "metadata": {},
   "source": [
    "本课时包括以下知识点：\n",
    "* 什么是while语句\n",
    "* while语句的使用"
   ]
  },
  {
   "cell_type": "markdown",
   "metadata": {},
   "source": [
    "Python中while语句是用来控制一段语句重复执行的，那么下面我们通过实例认识\n",
    "while语句。"
   ]
  },
  {
   "cell_type": "raw",
   "metadata": {},
   "source": [
    "#while\n",
    "#while语句使用结构\n",
    "while 条件为真：\n",
    "    循环执行“该部分语句\n",
    "    执行该部分语句\n",
    "    执行该部分语句”\n",
    "else：\n",
    "    如果条件为假，执行该部分语句\n",
    "\n",
    "#else部分可以省略"
   ]
  },
  {
   "cell_type": "markdown",
   "metadata": {},
   "source": [
    "Python中while语句的使用是有规律的，下面我们通过实例讲解while语句的使用方\n",
    "法。"
   ]
  },
  {
   "cell_type": "code",
   "execution_count": 1,
   "metadata": {},
   "outputs": [
    {
     "name": "stdout",
     "output_type": "stream",
     "text": [
      "ABC\n"
     ]
    }
   ],
   "source": [
    "#两个简单的while语句实例\n",
    "#这是一个死循环\n",
    "\n",
    "#第一个是最简单没有else部分的\n",
    "a = True\n",
    "while a:\n",
    "    print (\"ABC\")\n",
    "    a = not a"
   ]
  },
  {
   "cell_type": "code",
   "execution_count": null,
   "metadata": {},
   "outputs": [],
   "source": [
    "#第二个是有else部分的\n",
    "b !=2\n",
    "while b:\n",
    "    print (\"ABC\")\n",
    "    \n",
    "else:\n",
    "    print (\"DEF\")"
   ]
  },
  {
   "cell_type": "code",
   "execution_count": 2,
   "metadata": {},
   "outputs": [
    {
     "name": "stdout",
     "output_type": "stream",
     "text": [
      "1\n",
      "2\n",
      "3\n",
      "4\n",
      "5\n",
      "hello\n",
      "hello\n",
      "hello\n",
      "hello\n",
      "test\n"
     ]
    }
   ],
   "source": [
    "#我们再来看一下比较复杂一点的有嵌套的while语句\n",
    "a = 1\n",
    "while a < 10:\n",
    "    if a <= 5:\n",
    "        print (a)\n",
    "    else:\n",
    "        print (\"hello\")\n",
    "    a = a + 1\n",
    "else:\n",
    "    print (\"test\")"
   ]
  },
  {
   "cell_type": "markdown",
   "metadata": {},
   "source": [
    "### 4、认识循环结构for"
   ]
  },
  {
   "cell_type": "markdown",
   "metadata": {},
   "source": [
    "本课时包括以下知识点：\n",
    "* 什么是for语句\n",
    "* for语句的使用"
   ]
  },
  {
   "cell_type": "markdown",
   "metadata": {},
   "source": [
    "Python中的for语句是另外的一种循环语句，下面我们继续通过实例认识for语句。"
   ]
  },
  {
   "cell_type": "markdown",
   "metadata": {},
   "source": [
    "### for语句格式：\n",
    "```\n",
    "for i in 集合：\n",
    "    执行该部分\n",
    "else：\n",
    "    执行该部分\n",
    "```"
   ]
  },
  {
   "cell_type": "markdown",
   "metadata": {},
   "source": [
    "Python中的for语句的使用有自己的原则，下面我们通过实例进行讲解for语句的使\n",
    "用方法。"
   ]
  },
  {
   "cell_type": "code",
   "execution_count": 3,
   "metadata": {},
   "outputs": [
    {
     "name": "stdout",
     "output_type": "stream",
     "text": [
      "1\n",
      "4\n",
      "64\n",
      "81\n",
      "0\n"
     ]
    }
   ],
   "source": [
    "#第一个for语句\n",
    "for i in [1, 2, 8, 9, 0]:\n",
    "    print (i*i)"
   ]
  },
  {
   "cell_type": "code",
   "execution_count": 10,
   "metadata": {
    "scrolled": true
   },
   "outputs": [
    {
     "name": "stdout",
     "output_type": "stream",
     "text": [
      "0\n",
      "3\n",
      "6\n",
      "9\n",
      "小明\n",
      "小红\n",
      "小黑\n"
     ]
    }
   ],
   "source": [
    "# for(var i = 0;i<10;i++)\n",
    "# for i in range(10):\n",
    "#     print(i)\n",
    "\n",
    "for i in range(0,10,3):\n",
    "    print(i)\n",
    "    \n",
    "    \n",
    "tt = [\n",
    "    {'name':'小明','age':'10'},\n",
    "    {'name':'小红','age':'12'},\n",
    "    {'name':'小黑','age':'11'}\n",
    "]\n",
    "\n",
    "for item in tt:\n",
    "    print(item['name'])"
   ]
  },
  {
   "cell_type": "code",
   "execution_count": 10,
   "metadata": {},
   "outputs": [
    {
     "name": "stdout",
     "output_type": "stream",
     "text": [
      "hello\n",
      "1\n",
      "hello\n",
      "2\n",
      "hello\n",
      "3\n",
      "hello\n",
      "4\n",
      "hello\n",
      "5\n",
      "hello\n",
      "6\n"
     ]
    }
   ],
   "source": [
    "#学会使用range函数，第二个for语句\n",
    "for i in range(1, 7):# [1, 2, 3, 4, 5 , 6]\n",
    "    print (\"hello\")\n",
    "    print(i)"
   ]
  },
  {
   "cell_type": "code",
   "execution_count": 13,
   "metadata": {},
   "outputs": [
    {
     "name": "stdout",
     "output_type": "stream",
     "text": [
      "hello\n",
      "hello\n"
     ]
    }
   ],
   "source": [
    "#学会使用range函数，第二个for语句\n",
    "for i in range(1, 7, 3):\n",
    "    print (\"hello\")"
   ]
  },
  {
   "cell_type": "code",
   "execution_count": 15,
   "metadata": {},
   "outputs": [
    {
     "name": "stdout",
     "output_type": "stream",
     "text": [
      "1\n",
      "4\n",
      "7\n",
      "10\n",
      "13\n",
      "16\n",
      "19\n"
     ]
    }
   ],
   "source": [
    "for i in range(1, 20, 3):\n",
    "    print(i)"
   ]
  },
  {
   "cell_type": "code",
   "execution_count": 14,
   "metadata": {},
   "outputs": [
    {
     "name": "stdout",
     "output_type": "stream",
     "text": [
      "first\n",
      "字典：你好\n",
      "second\n",
      "字典：世界\n"
     ]
    }
   ],
   "source": [
    "#常见的集合\n",
    "char1=u\"你好世界\"       #U代表这是Unicode编码\n",
    "tem1=(\"元组：你好\",\"元组：世界\")\n",
    "list1=[\"列表：你好\",\"列表：世界\"]\n",
    "dict1={\"first\":\"字典：你好\",\"second\":\"字典：世界\"}\n",
    "\n",
    "for i in dict1:\n",
    "    print (i)\n",
    "    print(dict1[i])\n",
    "\n",
    "#Python中For语句与“迭代器”经常合用，“迭代器”指任何可以进行迭代操作的对象，比如字符串、列表、元组、字典、文件等等"
   ]
  },
  {
   "cell_type": "code",
   "execution_count": 17,
   "metadata": {},
   "outputs": [
    {
     "name": "stdout",
     "output_type": "stream",
     "text": [
      "1\n",
      "奇数\n",
      "2\n",
      "偶数\n",
      "3\n",
      "奇数\n",
      "4\n",
      "偶数\n"
     ]
    }
   ],
   "source": [
    "#最后看一个带嵌套的for语句\n",
    "\n",
    "for i in range(1, 5):\n",
    "    if i % 2 == 0:\n",
    "        print (i)\n",
    "        print (\"偶数\")\n",
    "    else:\n",
    "        print (i)\n",
    "        print (\"奇数\")"
   ]
  },
  {
   "cell_type": "markdown",
   "metadata": {},
   "source": [
    "### 5、Break语句"
   ]
  },
  {
   "cell_type": "raw",
   "metadata": {},
   "source": [
    "本课时包括以下知识点：\n",
    "·什么是Break语句\n",
    "·Break语句的使用方法"
   ]
  },
  {
   "cell_type": "markdown",
   "metadata": {},
   "source": [
    "Break语句的功能正如其名字一样，是用来打破（Break）程序的执行的。Break语\n",
    "句常用于循环结构中，在循环结构中出现Break语句的时候，能将该循环强制停止，\n",
    "然后退出该循环。"
   ]
  },
  {
   "cell_type": "markdown",
   "metadata": {},
   "source": [
    "Break语句应该如何使用呢？下面我们通过实例为大家讲解。"
   ]
  },
  {
   "cell_type": "code",
   "execution_count": 15,
   "metadata": {},
   "outputs": [
    {
     "name": "stdout",
     "output_type": "stream",
     "text": [
      "0\n",
      "1\n",
      "2\n",
      "3\n",
      "4\n",
      "6\n",
      "7\n",
      "8\n",
      "9\n"
     ]
    },
    {
     "data": {
      "text/plain": [
       "range(0, 10)"
      ]
     },
     "execution_count": 15,
     "metadata": {},
     "output_type": "execute_result"
    }
   ],
   "source": [
    "#break语句用在while循环中\n",
    "# a = 1\n",
    "# while True:\n",
    "#     print (a)\n",
    "#     a = a + 1\n",
    "# #     if a == 5:\n",
    "# #         break\n",
    "# print('循环块后面的语句')\n",
    "\n",
    "\n",
    "for i in range(10):\n",
    "    if i==5:\n",
    "        #break\n",
    "        continue\n",
    "    print(i)\n",
    "    \n",
    "range(10)"
   ]
  },
  {
   "cell_type": "code",
   "execution_count": 32,
   "metadata": {},
   "outputs": [
    {
     "name": "stdout",
     "output_type": "stream",
     "text": [
      "[0, 1, 2, 3, 4, 5, 6, 7, 8, 9]\n",
      "0\n",
      "1\n",
      "2\n",
      "3\n",
      "4\n",
      "5\n",
      "6\n",
      "7\n"
     ]
    }
   ],
   "source": [
    "list1 = list(range(0,10))\n",
    "print(list1)\n",
    "#break语句在for循环中\n",
    "for i in list1:\n",
    "    print (i)\n",
    "    if i>6:\n",
    "        break"
   ]
  },
  {
   "cell_type": "code",
   "execution_count": 33,
   "metadata": {},
   "outputs": [
    {
     "name": "stdout",
     "output_type": "stream",
     "text": [
      "11 1\n",
      "11 2\n",
      "11 3\n",
      "11 4\n",
      "11 5\n",
      "12 1\n",
      "12 2\n",
      "12 3\n",
      "12 4\n",
      "12 5\n",
      "13 1\n",
      "13 2\n",
      "13 3\n",
      "13 4\n",
      "13 5\n"
     ]
    }
   ],
   "source": [
    "#break语句在双层循环语句中\n",
    "a = 10\n",
    "while a <= 12:\n",
    "    a = a + 1\n",
    "    #break\n",
    "    for i in range(1, 7):\n",
    "        print (a, i)\n",
    "        if i == 5:\n",
    "            break"
   ]
  },
  {
   "cell_type": "code",
   "execution_count": 23,
   "metadata": {},
   "outputs": [
    {
     "name": "stdout",
     "output_type": "stream",
     "text": [
      "1\n",
      "2\n",
      "3\n",
      "4\n",
      "5\n"
     ]
    }
   ],
   "source": [
    "a = 10\n",
    "while a <= 12:\n",
    "    a = a + 1\n",
    "    for i in range(1, 7):\n",
    "        print i\n",
    "        if i == 5:\n",
    "            break\n",
    "    if a == 11:\n",
    "        break "
   ]
  },
  {
   "cell_type": "markdown",
   "metadata": {},
   "source": [
    "### 6、Continue语句"
   ]
  },
  {
   "cell_type": "markdown",
   "metadata": {},
   "source": [
    "本课时包括以下知识点：\n",
    "* 什么是Continue语句\n",
    "* Continue语句的使用方法\n",
    "* Break语句与Continue语句的区别"
   ]
  },
  {
   "cell_type": "markdown",
   "metadata": {},
   "source": [
    "Continue语句的功能是强制停止循环中的这一次执行，直接跳到下一次执行。"
   ]
  },
  {
   "cell_type": "markdown",
   "metadata": {},
   "source": [
    "Continue语句应该如何使用呢？下面我们通过实例为大家讲解。"
   ]
  },
  {
   "cell_type": "code",
   "execution_count": 36,
   "metadata": {},
   "outputs": [
    {
     "name": "stdout",
     "output_type": "stream",
     "text": [
      "1\n",
      "2\n",
      "3\n",
      "4\n",
      "6\n",
      "7\n",
      "8\n",
      "9\n",
      "10\n"
     ]
    }
   ],
   "source": [
    "#continue语句在while循环中\n",
    "#首先我们得知道循环是分很多次的，而continue语句是终止该次循环，而不是终止该循环。\n",
    "a = 1\n",
    "# while a < 7:\n",
    "#     a = a + 1\n",
    "#     if a == 3:\n",
    "#         break\n",
    "#     print (a)\n",
    "a = 0\n",
    "while a<10:\n",
    "    a = a +1\n",
    "    if a==5 :\n",
    "        continue\n",
    "    \n",
    "    print(a)"
   ]
  },
  {
   "cell_type": "code",
   "execution_count": 17,
   "metadata": {},
   "outputs": [
    {
     "name": "stdout",
     "output_type": "stream",
     "text": [
      "1\n",
      "2\n",
      "4\n",
      "5\n",
      "6\n"
     ]
    }
   ],
   "source": [
    "#continue语句在for循环中,并比较以下两个程序a和程序b\n",
    "#程序a\n",
    "for i in range(1, 7):\n",
    "    if i == 3:\n",
    "        continue\n",
    "    print (i)"
   ]
  },
  {
   "cell_type": "code",
   "execution_count": 22,
   "metadata": {},
   "outputs": [
    {
     "name": "stdout",
     "output_type": "stream",
     "text": [
      "1\n",
      "2\n",
      "3\n",
      "4\n",
      "5\n",
      "6\n"
     ]
    }
   ],
   "source": [
    "#程序b\n",
    "for i in range(1, 7):\n",
    "    print (i)\n",
    "    if i == 3:\n",
    "        continue"
   ]
  },
  {
   "cell_type": "code",
   "execution_count": 23,
   "metadata": {},
   "outputs": [
    {
     "name": "stdout",
     "output_type": "stream",
     "text": [
      "7\n",
      "8\n",
      "7\n",
      "8\n",
      "7\n",
      "8\n",
      "7\n",
      "8\n",
      "7\n",
      "8\n"
     ]
    }
   ],
   "source": [
    "#continue语句在双层循环语句中\n",
    "a = 1\n",
    "while a < 7:\n",
    "    a = a + 1\n",
    "    if a == 4:\n",
    "        continue \n",
    "    for i in range(7, 10):\n",
    "        if i == 9:\n",
    "            continue\n",
    "        print (i)"
   ]
  },
  {
   "cell_type": "markdown",
   "metadata": {},
   "source": [
    "Continue语句与Break语句是有区别的，下面我们通过实例进行讲解。"
   ]
  },
  {
   "cell_type": "markdown",
   "metadata": {},
   "source": [
    "continue语句指的是结束执行本次循环中剩余的语句，然后继续下一轮的循环。\n",
    "而break语句指的是直接结束这个循环，包括结束执行该循环地剩余的所有次循环。"
   ]
  },
  {
   "cell_type": "markdown",
   "metadata": {},
   "source": [
    "区分程序c和程序d"
   ]
  },
  {
   "cell_type": "code",
   "execution_count": 24,
   "metadata": {},
   "outputs": [
    {
     "name": "stdout",
     "output_type": "stream",
     "text": [
      "10\n",
      "11\n",
      "12\n",
      "13\n",
      "14\n",
      "16\n",
      "17\n",
      "18\n"
     ]
    }
   ],
   "source": [
    "#程序c\n",
    "for i in range(10, 19):\n",
    "    if i == 15:\n",
    "        continue\n",
    "    print (i)"
   ]
  },
  {
   "cell_type": "code",
   "execution_count": 26,
   "metadata": {},
   "outputs": [
    {
     "name": "stdout",
     "output_type": "stream",
     "text": [
      "10\n",
      "11\n",
      "12\n",
      "13\n",
      "14\n"
     ]
    }
   ],
   "source": [
    "#程序d\n",
    "for i in range(10, 19):\n",
    "    if i == 15:\n",
    "        break\n",
    "    print (i)"
   ]
  },
  {
   "cell_type": "markdown",
   "metadata": {},
   "source": [
    "# 7、列表生成式"
   ]
  },
  {
   "cell_type": "code",
   "execution_count": 19,
   "metadata": {
    "collapsed": true
   },
   "outputs": [],
   "source": [
    "alist= range(10)"
   ]
  },
  {
   "cell_type": "code",
   "execution_count": 20,
   "metadata": {},
   "outputs": [
    {
     "name": "stdout",
     "output_type": "stream",
     "text": [
      "0\n",
      "1\n",
      "2\n",
      "3\n",
      "4\n",
      "5\n",
      "6\n",
      "7\n",
      "8\n",
      "9\n"
     ]
    },
    {
     "data": {
      "text/plain": [
       "range(0, 10)"
      ]
     },
     "execution_count": 20,
     "metadata": {},
     "output_type": "execute_result"
    }
   ],
   "source": [
    "for i in alist:\n",
    "    print(i)\n",
    "alist"
   ]
  },
  {
   "cell_type": "code",
   "execution_count": 21,
   "metadata": {},
   "outputs": [
    {
     "data": {
      "text/plain": [
       "[-1, -4, -16, -25, -49, -64]"
      ]
     },
     "execution_count": 21,
     "metadata": {},
     "output_type": "execute_result"
    }
   ],
   "source": [
    "[-x*x for x in alist if x%3]\n",
    "# [0,1,2,3...10].map(function(i){ return i*i})"
   ]
  },
  {
   "cell_type": "code",
   "execution_count": 17,
   "metadata": {},
   "outputs": [
    {
     "data": {
      "text/plain": [
       "[0, 4, 16, 36, 64]"
      ]
     },
     "execution_count": 17,
     "metadata": {},
     "output_type": "execute_result"
    }
   ],
   "source": [
    "[ i*i  for i in range(10) if i%2==0]#列表生成式"
   ]
  },
  {
   "cell_type": "markdown",
   "metadata": {},
   "source": [
    "### 信用卡，积分>1000可以换一个水瓶，积分>10000的时候可以东南亚旅游3天，积分100000提升信用卡额度50w"
   ]
  },
  {
   "cell_type": "code",
   "execution_count": null,
   "metadata": {
    "collapsed": true
   },
   "outputs": [],
   "source": [
    "manList = [\n",
    "    {'name':'小红','score':'5000'},\n",
    "    {'name':'小黑','score':'55000'},\n",
    "    {'name':'小王','score':'500'},\n",
    "    {'name':'小陈','score':'4000'},\n",
    "    {'name':'小李','score':'200000'}\n",
    "]"
   ]
  }
 ],
 "metadata": {
  "kernelspec": {
   "display_name": "Python 3",
   "language": "python",
   "name": "python3"
  },
  "language_info": {
   "codemirror_mode": {
    "name": "ipython",
    "version": 3
   },
   "file_extension": ".py",
   "mimetype": "text/x-python",
   "name": "python",
   "nbconvert_exporter": "python",
   "pygments_lexer": "ipython3",
   "version": "3.6.5"
  }
 },
 "nbformat": 4,
 "nbformat_minor": 1
}
