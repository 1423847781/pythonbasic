{
 "cells": [
  {
   "cell_type": "markdown",
   "metadata": {},
   "source": [
    "```\n",
    "import random\n",
    "#产生随机值的模块\n",
    "\n",
    "random.random()            #获取一个随机的浮点值;\n",
    "help(random.random)        #查看随机范围：0-1;\n",
    "random.uniform(1,10)       #仍然取的是浮点数，只是相比random增加了一个区间;\n",
    "\n",
    "random.randint(1,7)        #随机1-7\n",
    "\n",
    "random.randrange(1,10)     #顾头不顾尾\n",
    "\n",
    "random.choice(\"\")          #可以传入一个序列\n",
    "\n",
    "random.sample(\"序列\",长度)  #在序列里随机取两位处理；序列可以使字符串，列表;\n",
    "```"
   ]
  },
  {
   "cell_type": "code",
   "execution_count": 16,
   "metadata": {},
   "outputs": [
    {
     "data": {
      "text/plain": [
       "['小黑', '小明']"
      ]
     },
     "execution_count": 16,
     "metadata": {},
     "output_type": "execute_result"
    }
   ],
   "source": [
    "# import random\n",
    "\n",
    "random.random() #【0,1)\n",
    "\n",
    "def auniform(a,b):\n",
    "    return (b-a)*random.randoom + a\n",
    "\n",
    "random.uniform(1,100)\n",
    "\n",
    "\n",
    "random.randint(1,7) #[随机出1到7的整数，这里包含1和7]\n",
    "\n",
    "random.randrange(1,7) #随机出整数，顾头不顾尾\n",
    "\n",
    "students = ['小明','小红','小黑','小李']\n",
    "\n",
    "random.choice(students)\n",
    "\n",
    "random.sample(students,2)\n",
    "\n",
    "\n"
   ]
  },
  {
   "cell_type": "code",
   "execution_count": 45,
   "metadata": {},
   "outputs": [
    {
     "data": {
      "text/plain": [
       "['开明', '钊贤']"
      ]
     },
     "execution_count": 45,
     "metadata": {},
     "output_type": "execute_result"
    }
   ],
   "source": [
    "# import random\n",
    "studentList = ['潘磊','徐征','心帮','志豪','钊贤','超伟','鹏飞','嘉杰']\n",
    "studentList[random.randint(0,7)]\n",
    "random.choice(studentList)\n",
    "# ['书豪','鹏飞', '潘磊', '志豪', '心’帮']\n",
    "# ['开明，,'徐征','钊贤‘,'超伟'，'嘉杰']\n",
    "dashen = ['书豪','开明','钊贤']\n",
    "random.sample(dashen,2)"
   ]
  },
  {
   "cell_type": "code",
   "execution_count": 34,
   "metadata": {},
   "outputs": [
    {
     "name": "stdout",
     "output_type": "stream",
     "text": [
      "恭喜你获得赵云一个\n"
     ]
    }
   ],
   "source": [
    "#抽宝箱\n",
    "boxList = [\n",
    "    {'name':'李白','gl':0.05},\n",
    "    {'name':'吕布','gl':0.1},\n",
    "    {'name':'赵云','gl':0.1},\n",
    "    {'name':'孙尚香','gl':0.05},\n",
    "    {'name':'10金币','gl':0.7}\n",
    "   ]\n",
    "a = random.random()\n",
    "libai = 1-boxList[0]['gl']\n",
    "lvbu = libai - boxList[1]['gl']\n",
    "zhaoyun = lvbu - boxList[2]['gl']\n",
    "sunshangxiang = zhaoyun - boxList[3]['gl']\n",
    "if a<1 and a >= libai:\n",
    "    print('恭喜你获得李白英雄一个')\n",
    "elif a<libai and a>= lvbu :\n",
    "    print('恭喜你获得吕布一个')\n",
    "elif a<lvbu and a>= zhaoyun :\n",
    "    print('恭喜你获得赵云一个')\n",
    "elif a<zhaoyun and a>= sunshangxiang :\n",
    "    print('恭喜你获得孙尚香一个')\n",
    "else:\n",
    "    print('恭喜你获得10金币')\n",
    "# help(random.random)\n",
    "\n"
   ]
  },
  {
   "cell_type": "code",
   "execution_count": 39,
   "metadata": {},
   "outputs": [
    {
     "data": {
      "text/plain": [
       "3"
      ]
     },
     "execution_count": 39,
     "metadata": {},
     "output_type": "execute_result"
    }
   ],
   "source": [
    "int(random.random()*19+1)"
   ]
  },
  {
   "cell_type": "code",
   "execution_count": 40,
   "metadata": {},
   "outputs": [
    {
     "name": "stdout",
     "output_type": "stream",
     "text": [
      "Help on built-in function random:\n",
      "\n",
      "random(...) method of random.Random instance\n",
      "    random() -> x in the interval [0, 1).\n",
      "\n"
     ]
    }
   ],
   "source": [
    "help(random.random)"
   ]
  },
  {
   "cell_type": "code",
   "execution_count": 42,
   "metadata": {},
   "outputs": [
    {
     "data": {
      "text/plain": [
       "0.5883382324655386"
      ]
     },
     "execution_count": 42,
     "metadata": {},
     "output_type": "execute_result"
    }
   ],
   "source": [
    "random.random()"
   ]
  },
  {
   "cell_type": "code",
   "execution_count": 46,
   "metadata": {},
   "outputs": [
    {
     "data": {
      "text/plain": [
       "0.6860809315588403"
      ]
     },
     "execution_count": 46,
     "metadata": {},
     "output_type": "execute_result"
    }
   ],
   "source": [
    "random.random()"
   ]
  },
  {
   "cell_type": "code",
   "execution_count": 49,
   "metadata": {},
   "outputs": [
    {
     "data": {
      "text/plain": [
       "0.32738561095497265"
      ]
     },
     "execution_count": 49,
     "metadata": {},
     "output_type": "execute_result"
    }
   ],
   "source": [
    "import random\n",
    "random.random()"
   ]
  },
  {
   "cell_type": "code",
   "execution_count": 51,
   "metadata": {},
   "outputs": [
    {
     "data": {
      "text/plain": [
       "4"
      ]
     },
     "execution_count": 51,
     "metadata": {},
     "output_type": "execute_result"
    }
   ],
   "source": [
    "random.randint(1,7)"
   ]
  },
  {
   "cell_type": "code",
   "execution_count": null,
   "metadata": {},
   "outputs": [],
   "source": []
  }
 ],
 "metadata": {
  "kernelspec": {
   "display_name": "Python 3",
   "language": "python",
   "name": "python3"
  },
  "language_info": {
   "codemirror_mode": {
    "name": "ipython",
    "version": 3
   },
   "file_extension": ".py",
   "mimetype": "text/x-python",
   "name": "python",
   "nbconvert_exporter": "python",
   "pygments_lexer": "ipython3",
   "version": "3.6.5"
  }
 },
 "nbformat": 4,
 "nbformat_minor": 2
}
