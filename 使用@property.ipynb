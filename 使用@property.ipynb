{
 "cells": [
  {
   "cell_type": "markdown",
   "metadata": {},
   "source": [
    "### 使用@property\n",
    "在绑定属性时，如果我们直接把属性暴露出去，虽然写起来很简单，但是，没办法检查参数，导致可以把成绩随便改"
   ]
  },
  {
   "cell_type": "code",
   "execution_count": 2,
   "metadata": {
    "collapsed": true
   },
   "outputs": [],
   "source": [
    "class Student(Man):\n",
    "    name = 'xx'\n",
    "    def __init__(self):\n",
    "        self.num = 'xx'\n",
    "        Man.__init__(self)\n",
    "        \n",
    "#     def getItem(''):\n",
    "#         pass\n",
    "#     def getattr('')：\n",
    "#         pass\n",
    "#     def setItem(''):\n",
    "#         pass\n",
    "#     def setattr('')\n",
    "        \n",
    "    pass\n",
    "s = Student()\n",
    "s.score = 9999"
   ]
  },
  {
   "cell_type": "code",
   "execution_count": 5,
   "metadata": {},
   "outputs": [
    {
     "data": {
      "text/plain": [
       "99"
      ]
     },
     "execution_count": 5,
     "metadata": {},
     "output_type": "execute_result"
    }
   ],
   "source": [
    "class Student():\n",
    "    def __init__(self,name,score):\n",
    "        self.name = name\n",
    "        self.score = score\n",
    "        \n",
    "    def getScore(self):\n",
    "        #判断跟之前的数据是不是发生改变。\n",
    "        return self.score\n",
    "    \n",
    "    def setScore(self,value):\n",
    "        #去触发数据的更新\n",
    "        self.score = value\n",
    "        \n",
    "        \n",
    "s1 = Student('xm',99)\n",
    "        \n",
    "# s1.getScore()       \n",
    "# s1.setScore(88)       \n",
    "# s1.getScore()\n",
    "s1.score = 66"
   ]
  },
  {
   "cell_type": "code",
   "execution_count": 16,
   "metadata": {},
   "outputs": [
    {
     "data": {
      "text/plain": [
       "33.333333333333336"
      ]
     },
     "execution_count": 16,
     "metadata": {},
     "output_type": "execute_result"
    }
   ],
   "source": [
    "class Student():\n",
    "    def __init__(self,name,score):\n",
    "        self.name = name\n",
    "        self.__score= score\n",
    "        self.yuwen = 66\n",
    "        self.shuxue = 55\n",
    "        self.yingyu = 77\n",
    "    \n",
    "    @property\n",
    "    def score(self):\n",
    "        #判断跟之前的数据是不是发生改变。\n",
    "        \n",
    "        return 'helloWorld'\n",
    "        \n",
    "#         return self.__score\n",
    "    @score.setter\n",
    "    def score(self,value):\n",
    "        #去触发数据的更新\n",
    "        self.__score = value\n",
    "        \n",
    "    @property\n",
    "    def zongfen(self):\n",
    "        result = self.yuwen + self.shuxue + self.yingyu\n",
    "        return result\n",
    "    \n",
    "    @zongfen.setter\n",
    "    def zongfen(self,value):\n",
    "        num =  value/3\n",
    "        self.yuwen = num\n",
    "        self.shuxue = num \n",
    "        self.yingyu = num\n",
    "        \n",
    "        \n",
    "        \n",
    "        \n",
    "s1 = Student('xm',99)        \n",
    "dir(s1)     \n",
    "# s1.score\n",
    "\n",
    "s1.zongfen = 100\n",
    "\n",
    "s1.yuwen"
   ]
  },
  {
   "cell_type": "markdown",
   "metadata": {},
   "source": [
    "这显然不合逻辑。为了限制score的范围，可以通过一个set_score()方法来设置成绩，再通过一个get_score()来获取成绩，这样，在set_score()方法里，就可以检查参数"
   ]
  },
  {
   "cell_type": "code",
   "execution_count": 3,
   "metadata": {
    "collapsed": true
   },
   "outputs": [],
   "source": [
    "class Student(object):\n",
    "\n",
    "    def get_score(self):\n",
    "         return self._score\n",
    "\n",
    "    def set_score(self, value):\n",
    "        if not isinstance(value, int):\n",
    "            raise ValueError('score must be an integer!')\n",
    "        if value < 0 or value > 100:\n",
    "            raise ValueError('score must between 0 ~ 100!')\n",
    "        self._score = value\n",
    "        \n",
    "smallStuent = Student()\n",
    "smallStuent.set_score()\n",
    "#实质为了让代码看起来更加优雅和方便\n",
    "\n",
    "# smallStuent.score = xx"
   ]
  },
  {
   "cell_type": "code",
   "execution_count": 8,
   "metadata": {},
   "outputs": [
    {
     "name": "stdout",
     "output_type": "stream",
     "text": [
      "这个值不符合规范\n"
     ]
    },
    {
     "data": {
      "text/plain": [
       "'小黑'"
      ]
     },
     "execution_count": 8,
     "metadata": {},
     "output_type": "execute_result"
    }
   ],
   "source": [
    "#Python内置的@property装饰器就是负责把一个方法变成属性调用的：\n",
    "\n",
    "# class Student(object):\n",
    "\n",
    "#     @property\n",
    "#     def score(self):\n",
    "#         return self._score\n",
    "\n",
    "#     @score.setter\n",
    "#     def score(self, value):\n",
    "#         if not isinstance(value, int):\n",
    "#             raise ValueError('score must be an integer!')\n",
    "#         if value < 0 or value > 100:\n",
    "#             raise ValueError('score must between 0 ~ 100!')\n",
    "#         self._score = value\n",
    "        \n",
    "        \n",
    "class Student():\n",
    "    def __init__(self):\n",
    "        self.__name = '小黑'\n",
    "    \n",
    "    @property \n",
    "    def name(self):\n",
    "        return self.__name\n",
    "    \n",
    "    @name.setter\n",
    "    def name(self,value):\n",
    "        if value.find('小')==-1 :\n",
    "            print('这个值不符合规范')\n",
    "        else:\n",
    "            self.__name = value\n",
    "        \n",
    "        \n",
    "#     def get_name(self):\n",
    "#         return self.__name\n",
    "    \n",
    "#     def set_name(self,value):\n",
    "#         if value.find('小')==-1 :\n",
    "#             return '这个值不符合规范'\n",
    "#         else:\n",
    "#             self.__name = value\n",
    "        \n",
    "a = Student()\n",
    "a.name\n",
    "a.name = 'xiao刘'\n",
    "a.name"
   ]
  },
  {
   "cell_type": "code",
   "execution_count": 5,
   "metadata": {},
   "outputs": [
    {
     "ename": "ValueError",
     "evalue": "score must between 0 ~ 100!",
     "output_type": "error",
     "traceback": [
      "\u001b[1;31m---------------------------------------------------------------------------\u001b[0m",
      "\u001b[1;31mValueError\u001b[0m                                Traceback (most recent call last)",
      "\u001b[1;32m<ipython-input-5-178e70c8f158>\u001b[0m in \u001b[0;36m<module>\u001b[1;34m()\u001b[0m\n\u001b[0;32m      2\u001b[0m \u001b[0ms\u001b[0m\u001b[1;33m.\u001b[0m\u001b[0mscore\u001b[0m \u001b[1;33m=\u001b[0m \u001b[1;36m60\u001b[0m \u001b[1;31m# OK，实际转化为s.set_score(60)\u001b[0m\u001b[1;33m\u001b[0m\u001b[0m\n\u001b[0;32m      3\u001b[0m \u001b[0ms\u001b[0m\u001b[1;33m.\u001b[0m\u001b[0mscore\u001b[0m \u001b[1;31m# OK，实际转化为s.get_score()\u001b[0m\u001b[1;33m\u001b[0m\u001b[0m\n\u001b[1;32m----> 4\u001b[1;33m \u001b[0ms\u001b[0m\u001b[1;33m.\u001b[0m\u001b[0mscore\u001b[0m \u001b[1;33m=\u001b[0m \u001b[1;36m9999\u001b[0m\u001b[1;33m\u001b[0m\u001b[0m\n\u001b[0m",
      "\u001b[1;32m<ipython-input-4-9e3ecf210422>\u001b[0m in \u001b[0;36mscore\u001b[1;34m(self, value)\u001b[0m\n\u001b[0;32m     12\u001b[0m             \u001b[1;32mraise\u001b[0m \u001b[0mValueError\u001b[0m\u001b[1;33m(\u001b[0m\u001b[1;34m'score must be an integer!'\u001b[0m\u001b[1;33m)\u001b[0m\u001b[1;33m\u001b[0m\u001b[0m\n\u001b[0;32m     13\u001b[0m         \u001b[1;32mif\u001b[0m \u001b[0mvalue\u001b[0m \u001b[1;33m<\u001b[0m \u001b[1;36m0\u001b[0m \u001b[1;32mor\u001b[0m \u001b[0mvalue\u001b[0m \u001b[1;33m>\u001b[0m \u001b[1;36m100\u001b[0m\u001b[1;33m:\u001b[0m\u001b[1;33m\u001b[0m\u001b[0m\n\u001b[1;32m---> 14\u001b[1;33m             \u001b[1;32mraise\u001b[0m \u001b[0mValueError\u001b[0m\u001b[1;33m(\u001b[0m\u001b[1;34m'score must between 0 ~ 100!'\u001b[0m\u001b[1;33m)\u001b[0m\u001b[1;33m\u001b[0m\u001b[0m\n\u001b[0m\u001b[0;32m     15\u001b[0m         \u001b[0mself\u001b[0m\u001b[1;33m.\u001b[0m\u001b[0m_score\u001b[0m \u001b[1;33m=\u001b[0m \u001b[0mvalue\u001b[0m\u001b[1;33m\u001b[0m\u001b[0m\n",
      "\u001b[1;31mValueError\u001b[0m: score must between 0 ~ 100!"
     ]
    }
   ],
   "source": [
    "s = Student()\n",
    "s.score = 60 # OK，实际转化为s.set_score(60)\n",
    "s.score # OK，实际转化为s.get_score()\n",
    "s.score = 9999"
   ]
  },
  {
   "cell_type": "code",
   "execution_count": 6,
   "metadata": {
    "collapsed": true
   },
   "outputs": [],
   "source": [
    "#定义只读属性，只定义getter方法，不定义setter方法就是一个只读属性：\n",
    "\n",
    "class Student(object):\n",
    "\n",
    "    @property\n",
    "    def birth(self):\n",
    "        return self._birth\n",
    "\n",
    "    @birth.setter\n",
    "    def birth(self, value):\n",
    "        self._birth = value\n",
    "\n",
    "    @property\n",
    "    def age(self):\n",
    "        return 2015 - self._birth"
   ]
  },
  {
   "cell_type": "markdown",
   "metadata": {},
   "source": [
    "### 小结\n",
    "@property广泛应用在类的定义中，可以让调用者写出简短的代码，同时保证对参数进行必要的检查，这样，程序运行时就减少了出错的可能性。"
   ]
  },
  {
   "cell_type": "code",
   "execution_count": null,
   "metadata": {
    "collapsed": true
   },
   "outputs": [],
   "source": []
  }
 ],
 "metadata": {
  "kernelspec": {
   "display_name": "Python 3",
   "language": "python",
   "name": "python3"
  },
  "language_info": {
   "codemirror_mode": {
    "name": "ipython",
    "version": 3
   },
   "file_extension": ".py",
   "mimetype": "text/x-python",
   "name": "python",
   "nbconvert_exporter": "python",
   "pygments_lexer": "ipython3",
   "version": "3.6.5"
  }
 },
 "nbformat": 4,
 "nbformat_minor": 2
}
