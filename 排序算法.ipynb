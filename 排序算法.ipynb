{
 "cells": [
  {
   "cell_type": "markdown",
   "metadata": {},
   "source": [
    "### sorted\n",
    "#### 排序算法\n",
    "排序也是在程序中经常用到的算法。无论使用冒泡排序还是快速排序，排序的核心是比较两个元素的大小。如果是数字，我们可以直接比较，但如果是字符串或者两个dict呢？直接比较数学上的大小是没有意义的，因此，比较的过程必须通过函数抽象出来。\n",
    "\n",
    "Python内置的sorted()函数就可以对list进行排序："
   ]
  },
  {
   "cell_type": "code",
   "execution_count": 1,
   "metadata": {},
   "outputs": [
    {
     "data": {
      "text/plain": [
       "[-21, -12, 5, 9, 36]"
      ]
     },
     "execution_count": 1,
     "metadata": {},
     "output_type": "execute_result"
    }
   ],
   "source": [
    "sorted([36, 5, -12, 9, -21])"
   ]
  },
  {
   "cell_type": "code",
   "execution_count": 2,
   "metadata": {},
   "outputs": [
    {
     "data": {
      "text/plain": [
       "[-9, -2, 5, 8]"
      ]
     },
     "execution_count": 2,
     "metadata": {},
     "output_type": "execute_result"
    }
   ],
   "source": [
    "L = [8,-2,5,-9]\n",
    "sorted(L)"
   ]
  },
  {
   "cell_type": "code",
   "execution_count": 3,
   "metadata": {},
   "outputs": [
    {
     "data": {
      "text/plain": [
       "[-2, 5, 8, -9]"
      ]
     },
     "execution_count": 3,
     "metadata": {},
     "output_type": "execute_result"
    }
   ],
   "source": [
    "sorted(L,key=abs)"
   ]
  },
  {
   "cell_type": "code",
   "execution_count": 4,
   "metadata": {},
   "outputs": [
    {
     "data": {
      "text/plain": [
       "[-2, 5, 8, -9]"
      ]
     },
     "execution_count": 4,
     "metadata": {},
     "output_type": "execute_result"
    }
   ],
   "source": [
    "def aa(x):\n",
    "    if x>=0:\n",
    "        return x\n",
    "    else:\n",
    "        return -x\n",
    "sorted(L,key=aa)"
   ]
  },
  {
   "cell_type": "code",
   "execution_count": 9,
   "metadata": {},
   "outputs": [
    {
     "data": {
      "text/plain": [
       "[{'age': 1983, 'name': '小紫'},\n",
       " {'age': 1989, 'name': '小白'},\n",
       " {'age': 1990, 'name': '小红'},\n",
       " {'age': 1999, 'name': '小菜'},\n",
       " {'age': 1992, 'name': '小黑'},\n",
       " {'age': 1998, 'name': '小蓝'}]"
      ]
     },
     "execution_count": 9,
     "metadata": {},
     "output_type": "execute_result"
    }
   ],
   "source": [
    "#根据某个人，算出整个班，跟他年龄相近程度从小到大排序\n",
    "L = [1990,1970,1989,1993,1997,1994]\n",
    "L = [\n",
    "    {'name':'小红','age':1990},\n",
    "    {'name':'小黑','age':1992},\n",
    "    {'name':'小蓝','age':1998},\n",
    "    {'name':'小白','age':1989},\n",
    "    {'name':'小紫','age':1983},\n",
    "    {'name':'小菜','age':1999},\n",
    "    ]\n",
    "student = 1995\n",
    "def bb(x):\n",
    "    return abs(1995-x['age'])\n",
    "\n",
    "\n",
    "sorted(L,key=bb,reverse=True)"
   ]
  },
  {
   "cell_type": "code",
   "execution_count": 6,
   "metadata": {},
   "outputs": [
    {
     "data": {
      "text/plain": [
       "[36, -21, -12, 9, 5]"
      ]
     },
     "execution_count": 6,
     "metadata": {},
     "output_type": "execute_result"
    }
   ],
   "source": [
    "#sorted()函数也是一个高阶函数，它还可以接收一个key函数来实现自定义的排序，例如按绝对值大小排序：\n",
    "sorted([36, 5, -12, 9, -21], key=abs,reverse=True)"
   ]
  },
  {
   "cell_type": "code",
   "execution_count": 3,
   "metadata": {
    "collapsed": true
   },
   "outputs": [],
   "source": [
    "#key指定的函数将作用于list的每一个元素上，并根据key函数返回的结果进行排序。对比原始的list和经过key=abs处理过的list：\n",
    "# list = [36, 5, -12, 9, -21]\n",
    "# keys = [36, 5,  12, 9,  21]"
   ]
  },
  {
   "cell_type": "markdown",
   "metadata": {},
   "source": [
    "默认情况下，对字符串排序，是按照ASCII的大小比较的，由于'Z' < 'a'，结果，大写字母Z会排在小写字母a的前面。\n",
    "\n",
    "**现在，我们提出排序应该忽略大小写，按照字母序排序。**\n",
    "\n",
    "要实现这个算法，不必对现有代码大加改动，只要我们能用一个key函数把字符串映射为忽略大小写排序即可。\n",
    "\n",
    "忽略大小写来比较两个字符串，实际上就是先把字符串都变成大写（或者都变成小写），再比较。"
   ]
  },
  {
   "cell_type": "code",
   "execution_count": 4,
   "metadata": {},
   "outputs": [
    {
     "data": {
      "text/plain": [
       "['about', 'bob', 'Credit', 'Zoo']"
      ]
     },
     "execution_count": 4,
     "metadata": {},
     "output_type": "execute_result"
    }
   ],
   "source": [
    "#sorted传入key函数，即可实现忽略大小写的排序：\n",
    "sorted(['bob', 'about', 'Zoo', 'Credit'], key=str.lower)"
   ]
  },
  {
   "cell_type": "code",
   "execution_count": 5,
   "metadata": {},
   "outputs": [
    {
     "data": {
      "text/plain": [
       "['Zoo', 'Credit', 'bob', 'about']"
      ]
     },
     "execution_count": 5,
     "metadata": {},
     "output_type": "execute_result"
    }
   ],
   "source": [
    "#反向排序，不必改动key函数，可以传入第三个参数reverse=True：\n",
    "sorted(['bob', 'about', 'Zoo', 'Credit'], key=str.lower, reverse=True)"
   ]
  },
  {
   "cell_type": "code",
   "execution_count": 4,
   "metadata": {},
   "outputs": [
    {
     "data": {
      "text/plain": [
       "[77, 29, 18, 13, 8, 6, 2, 1]"
      ]
     },
     "execution_count": 4,
     "metadata": {},
     "output_type": "execute_result"
    }
   ],
   "source": [
    "sorted([13,2,6,8,1,77,18,29],reverse=True)"
   ]
  },
  {
   "cell_type": "code",
   "execution_count": 3,
   "metadata": {},
   "outputs": [
    {
     "name": "stdout",
     "output_type": "stream",
     "text": [
      "Help on built-in function sorted in module builtins:\n",
      "\n",
      "sorted(iterable, /, *, key=None, reverse=False)\n",
      "    Return a new list containing all items from the iterable in ascending order.\n",
      "    \n",
      "    A custom key function can be supplied to customize the sort order, and the\n",
      "    reverse flag can be set to request the result in descending order.\n",
      "\n"
     ]
    }
   ],
   "source": [
    "help(sorted)"
   ]
  },
  {
   "cell_type": "code",
   "execution_count": 7,
   "metadata": {},
   "outputs": [
    {
     "data": {
      "text/plain": [
       "[{'id': 77, 'name': '小红', 'yuwen': 55, 'shuxue': 80},\n",
       " {'id': 123, 'name': '小明', 'yuwen': 90, 'shuxue': 60},\n",
       " {'id': 23, 'name': '小明', 'yuwen': 100, 'shuxue': 60},\n",
       " {'id': 13, 'name': '小红', 'yuwen': 100, 'shuxue': 66}]"
      ]
     },
     "execution_count": 7,
     "metadata": {},
     "output_type": "execute_result"
    }
   ],
   "source": [
    "students = [\n",
    "    {\n",
    "        'id':23,\n",
    "        'name':'小明',\n",
    "        'yuwen':100,\n",
    "        'shuxue':60\n",
    "    },\n",
    "    {\n",
    "        'id':13,\n",
    "        'name':'小红',\n",
    "        'yuwen':100,\n",
    "        'shuxue':66\n",
    "    },\n",
    "    {\n",
    "        'id':123,\n",
    "        'name':'小明',\n",
    "        'yuwen':90,\n",
    "        'shuxue':60\n",
    "    },\n",
    "    {\n",
    "        'id':77,\n",
    "        'name':'小红',\n",
    "        'yuwen':55,\n",
    "        'shuxue':80\n",
    "    }\n",
    "]\n",
    "\n",
    "def abc(item):\n",
    "    return item['id']\n",
    "\n",
    "def fn(item):\n",
    "    return item['shuxue']+item['yuwen']\n",
    "\n",
    "sorted(students,key=fn,reverse=False)\n",
    "\n",
    "\n",
    "# [160,166,150,135]\n",
    "\n",
    "\n",
    "\n",
    "\n"
   ]
  },
  {
   "cell_type": "code",
   "execution_count": null,
   "metadata": {},
   "outputs": [],
   "source": []
  }
 ],
 "metadata": {
  "kernelspec": {
   "display_name": "Python 3",
   "language": "python",
   "name": "python3"
  },
  "language_info": {
   "codemirror_mode": {
    "name": "ipython",
    "version": 3
   },
   "file_extension": ".py",
   "mimetype": "text/x-python",
   "name": "python",
   "nbconvert_exporter": "python",
   "pygments_lexer": "ipython3",
   "version": "3.6.5"
  }
 },
 "nbformat": 4,
 "nbformat_minor": 2
}
