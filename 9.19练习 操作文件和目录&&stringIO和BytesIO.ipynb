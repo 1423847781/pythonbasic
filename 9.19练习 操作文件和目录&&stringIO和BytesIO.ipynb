{
 "cells": [
  {
   "cell_type": "code",
   "execution_count": 1,
   "metadata": {},
   "outputs": [
    {
     "data": {
      "text/plain": [
       "'nt'"
      ]
     },
     "execution_count": 1,
     "metadata": {},
     "output_type": "execute_result"
    }
   ],
   "source": [
    "import os\n",
    "os.name"
   ]
  },
  {
   "cell_type": "code",
   "execution_count": 9,
   "metadata": {},
   "outputs": [
    {
     "data": {
      "text/plain": [
       "['C:\\\\ProgramData\\\\Anaconda3',\n",
       " 'C:\\\\ProgramData\\\\Anaconda3\\\\Library\\\\mingw-w64\\\\bin',\n",
       " 'C:\\\\ProgramData\\\\Anaconda3\\\\Library\\\\usr\\\\bin',\n",
       " 'C:\\\\ProgramData\\\\Anaconda3\\\\Library\\\\bin',\n",
       " 'C:\\\\ProgramData\\\\Anaconda3\\\\Scripts',\n",
       " 'C:\\\\WINDOWS\\\\system32',\n",
       " 'C:\\\\WINDOWS',\n",
       " 'C:\\\\WINDOWS\\\\System32\\\\Wbem',\n",
       " 'C:\\\\WINDOWS\\\\System32\\\\WindowsPowerShell\\\\v1.0\\\\',\n",
       " 'C:\\\\WINDOWS\\\\System32\\\\OpenSSH\\\\',\n",
       " 'C:\\\\Program Files\\\\nodejs\\\\',\n",
       " 'C:\\\\Program Files\\\\Intel\\\\WiFi\\\\bin\\\\',\n",
       " 'C:\\\\Program Files\\\\Common Files\\\\Intel\\\\WirelessCommon\\\\',\n",
       " 'C:\\\\Program Files (x86)\\\\NVIDIA Corporation\\\\PhysX\\\\Common',\n",
       " 'C:\\\\Program Files\\\\Microsoft VS Code\\\\bin',\n",
       " 'C:\\\\Users\\\\爱的拥抱\\\\AppData\\\\Local\\\\Microsoft\\\\WindowsApps',\n",
       " 'C:\\\\Users\\\\爱的拥抱\\\\AppData\\\\Roaming\\\\npm',\n",
       " 'C:\\\\Users\\\\爱的拥抱\\\\AppData\\\\Local\\\\Programs\\\\Microsoft VS Code\\\\bin',\n",
       " 'C:\\\\Program Files\\\\Intel\\\\WiFi\\\\bin\\\\',\n",
       " 'C:\\\\Program Files\\\\Common Files\\\\Intel\\\\WirelessCommon\\\\']"
      ]
     },
     "execution_count": 9,
     "metadata": {},
     "output_type": "execute_result"
    }
   ],
   "source": [
    "\n",
    "path= os.environ.get('PATH')\n",
    "path.split(';')"
   ]
  },
  {
   "cell_type": "code",
   "execution_count": 10,
   "metadata": {},
   "outputs": [
    {
     "data": {
      "text/plain": [
       "'C:\\\\WINDOWS'"
      ]
     },
     "execution_count": 10,
     "metadata": {},
     "output_type": "execute_result"
    }
   ],
   "source": [
    "os.environ.get('windir')"
   ]
  },
  {
   "cell_type": "markdown",
   "metadata": {},
   "source": [
    "# 操作文件和目录、"
   ]
  },
  {
   "cell_type": "code",
   "execution_count": 19,
   "metadata": {},
   "outputs": [
    {
     "data": {
      "text/plain": [
       "['__all__',\n",
       " '__builtins__',\n",
       " '__cached__',\n",
       " '__doc__',\n",
       " '__file__',\n",
       " '__loader__',\n",
       " '__name__',\n",
       " '__package__',\n",
       " '__spec__',\n",
       " '_get_bothseps',\n",
       " '_getfinalpathname',\n",
       " '_getfullpathname',\n",
       " '_getvolumepathname',\n",
       " 'abspath',\n",
       " 'altsep',\n",
       " 'basename',\n",
       " 'commonpath',\n",
       " 'commonprefix',\n",
       " 'curdir',\n",
       " 'defpath',\n",
       " 'devnull',\n",
       " 'dirname',\n",
       " 'exists',\n",
       " 'expanduser',\n",
       " 'expandvars',\n",
       " 'extsep',\n",
       " 'genericpath',\n",
       " 'getatime',\n",
       " 'getctime',\n",
       " 'getmtime',\n",
       " 'getsize',\n",
       " 'isabs',\n",
       " 'isdir',\n",
       " 'isfile',\n",
       " 'islink',\n",
       " 'ismount',\n",
       " 'join',\n",
       " 'lexists',\n",
       " 'normcase',\n",
       " 'normpath',\n",
       " 'os',\n",
       " 'pardir',\n",
       " 'pathsep',\n",
       " 'realpath',\n",
       " 'relpath',\n",
       " 'samefile',\n",
       " 'sameopenfile',\n",
       " 'samestat',\n",
       " 'sep',\n",
       " 'split',\n",
       " 'splitdrive',\n",
       " 'splitext',\n",
       " 'splitunc',\n",
       " 'stat',\n",
       " 'supports_unicode_filenames',\n",
       " 'sys']"
      ]
     },
     "execution_count": 19,
     "metadata": {},
     "output_type": "execute_result"
    }
   ],
   "source": [
    "os.path.abspath('./')#查看当前目录的绝对路径：\n",
    "\n",
    "dir(os.path)"
   ]
  },
  {
   "cell_type": "code",
   "execution_count": 26,
   "metadata": {},
   "outputs": [
    {
     "data": {
      "text/plain": [
       "'F:\\\\Python学习\\\\Python基础\\\\Python\\\\basic\\\\image.png'"
      ]
     },
     "execution_count": 26,
     "metadata": {},
     "output_type": "execute_result"
    }
   ],
   "source": [
    "\n",
    "adsPath =os.path.abspath('./')\n",
    "os.path.join(adsPath,'image.png')"
   ]
  },
  {
   "cell_type": "code",
   "execution_count": 30,
   "metadata": {},
   "outputs": [],
   "source": [
    "\n",
    "# os.remove('./student1.txt')\n",
    "\n",
    "os.rmdir('./aaa')"
   ]
  },
  {
   "cell_type": "code",
   "execution_count": 2,
   "metadata": {},
   "outputs": [
    {
     "data": {
      "text/plain": [
       "('F:\\\\Python学习\\\\Python基础\\\\Python\\x08asic', 'image.png')"
      ]
     },
     "execution_count": 2,
     "metadata": {},
     "output_type": "execute_result"
    }
   ],
   "source": [
    "os.path.split('F:\\Python学习\\Python基础\\Python\\basic\\image.png')"
   ]
  },
  {
   "cell_type": "code",
   "execution_count": 34,
   "metadata": {},
   "outputs": [
    {
     "data": {
      "text/plain": [
       "('F:\\\\Python学习\\\\Python基础\\\\Python\\x08asic\\\\image', '.png')"
      ]
     },
     "execution_count": 34,
     "metadata": {},
     "output_type": "execute_result"
    }
   ],
   "source": [
    "os.path.splitext('F:\\Python学习\\Python基础\\Python\\basic\\image.png')"
   ]
  },
  {
   "cell_type": "code",
   "execution_count": 38,
   "metadata": {},
   "outputs": [],
   "source": [
    "os.rename('ll.py','gg.txt')#更改文件名称"
   ]
  },
  {
   "cell_type": "code",
   "execution_count": 52,
   "metadata": {},
   "outputs": [
    {
     "data": {
      "text/plain": [
       "'复制成功'"
      ]
     },
     "execution_count": 52,
     "metadata": {},
     "output_type": "execute_result"
    }
   ],
   "source": [
    "# with open('读取的路径') as f:\n",
    "#     contenrt=f.read()\n",
    "    \n",
    "# with open('写入的路径')as f:\n",
    "#     f.write(content)\n",
    "    \n",
    "    \n",
    "def copyfile(a,b):\n",
    "    \n",
    "    with open(a,'r') as f:\n",
    "        content=f.read()\n",
    "    \n",
    "    with open(b,'w') as f:\n",
    "        f.write(content)\n",
    "    return '复制成功'\n",
    "\n",
    "copyfile('gg.txt','students.txt')"
   ]
  },
  {
   "cell_type": "code",
   "execution_count": 53,
   "metadata": {},
   "outputs": [
    {
     "data": {
      "text/plain": [
       "['.ipynb_checkpoints',\n",
       " '1Python语法基础.ipynb',\n",
       " '2Python的运算符与表达式.ipynb',\n",
       " '3Python 控制流、列表生成式.ipynb',\n",
       " '4Python函数.ipynb',\n",
       " '9.19random模块 &&datetime &&文件读写.ipynb',\n",
       " '9.19练习 操作文件和目录.ipynb',\n",
       " 'app.py',\n",
       " 'app2.py',\n",
       " 'datetime.ipynb',\n",
       " 'err.py',\n",
       " 'filter.ipynb',\n",
       " 'gg.txt',\n",
       " 'JupyterNotebook教程.ipynb',\n",
       " 'notebook教学.ipynb',\n",
       " 'random模块.ipynb',\n",
       " 'stduents.txt',\n",
       " 'StringIO和BytesIO.ipynb',\n",
       " 'students.txt',\n",
       " 'tect.py',\n",
       " 'test.html',\n",
       " 'test.py',\n",
       " 'Untitled.ipynb',\n",
       " '__pycache__',\n",
       " '使用@property.ipynb',\n",
       " '使用slots.ipynb',\n",
       " '使用模块.ipynb',\n",
       " '函数的参数.ipynb',\n",
       " '切片.ipynb',\n",
       " '列表函数&方法.ipynb',\n",
       " '列表生成式.ipynb',\n",
       " '匿名函数.ipynb',\n",
       " '单元测试.ipynb',\n",
       " '字典内置函数&方法.ipynb',\n",
       " '字符串format.ipynb',\n",
       " '字符串格式化.ipynb',\n",
       " '学生管理系统【山竹版】.ipynb',\n",
       " '安装第三方模块.ipynb',\n",
       " '定制类.ipynb',\n",
       " '实例属性和类属性.ipynb',\n",
       " '序列化.ipynb',\n",
       " '排序算法.ipynb',\n",
       " '操作文件和目录.ipynb',\n",
       " '文件读写.ipynb',\n",
       " '模块.ipynb',\n",
       " '测试单元.ipynb',\n",
       " '生成器.ipynb',\n",
       " '类和实例.ipynb',\n",
       " '继承和多态.ipynb',\n",
       " '获取对象信息.ipynb',\n",
       " '装饰器.ipynb',\n",
       " '访问限制.ipynb',\n",
       " '调试.ipynb',\n",
       " '赌博收益.ipynb',\n",
       " '返回函数.ipynb',\n",
       " '迭代.ipynb',\n",
       " '迭代器.ipynb',\n",
       " '递归函数.ipynb',\n",
       " '错误、调试和测试.ipynb',\n",
       " '高阶函数.ipynb']"
      ]
     },
     "execution_count": 53,
     "metadata": {},
     "output_type": "execute_result"
    }
   ],
   "source": [
    "os.listdir('./')"
   ]
  },
  {
   "cell_type": "code",
   "execution_count": 66,
   "metadata": {},
   "outputs": [
    {
     "data": {
      "text/plain": [
       "['1Python语法基础.ipynb',\n",
       " '2Python的运算符与表达式.ipynb',\n",
       " '3Python 控制流、列表生成式.ipynb',\n",
       " '4Python函数.ipynb',\n",
       " '9.19random模块 &&datetime &&文件读写.ipynb',\n",
       " '9.19练习 操作文件和目录.ipynb',\n",
       " 'datetime.ipynb',\n",
       " 'filter.ipynb',\n",
       " 'JupyterNotebook教程.ipynb',\n",
       " 'notebook教学.ipynb',\n",
       " 'random模块.ipynb',\n",
       " 'StringIO和BytesIO.ipynb',\n",
       " 'Untitled.ipynb',\n",
       " '使用@property.ipynb',\n",
       " '使用slots.ipynb',\n",
       " '使用模块.ipynb',\n",
       " '函数的参数.ipynb',\n",
       " '切片.ipynb',\n",
       " '列表函数&方法.ipynb',\n",
       " '列表生成式.ipynb',\n",
       " '匿名函数.ipynb',\n",
       " '单元测试.ipynb',\n",
       " '字典内置函数&方法.ipynb',\n",
       " '字符串format.ipynb',\n",
       " '字符串格式化.ipynb',\n",
       " '学生管理系统【山竹版】.ipynb',\n",
       " '安装第三方模块.ipynb',\n",
       " '定制类.ipynb',\n",
       " '实例属性和类属性.ipynb',\n",
       " '序列化.ipynb',\n",
       " '排序算法.ipynb',\n",
       " '操作文件和目录.ipynb',\n",
       " '文件读写.ipynb',\n",
       " '模块.ipynb',\n",
       " '测试单元.ipynb',\n",
       " '生成器.ipynb',\n",
       " '类和实例.ipynb',\n",
       " '继承和多态.ipynb',\n",
       " '获取对象信息.ipynb',\n",
       " '装饰器.ipynb',\n",
       " '访问限制.ipynb',\n",
       " '调试.ipynb',\n",
       " '赌博收益.ipynb',\n",
       " '返回函数.ipynb',\n",
       " '迭代.ipynb',\n",
       " '迭代器.ipynb',\n",
       " '递归函数.ipynb',\n",
       " '错误、调试和测试.ipynb',\n",
       " '高阶函数.ipynb']"
      ]
     },
     "execution_count": 66,
     "metadata": {},
     "output_type": "execute_result"
    }
   ],
   "source": [
    "\n",
    "#判断文件是否是文件夹\n",
    "os.path.isdir('.ipynb_checkpoints')\n",
    "\n",
    "#获取文件夹里的文件夹\n",
    "[item for item in os.listdir('./') if not os.path.isdir(item)]\n",
    "\n",
    "\n",
    " \n",
    "[item for item in os.listdir('./') if  os.path.splitext(item)[1]=='.ipynb']\n",
    "# 获取所有后缀名是py的文件\n",
    "\n",
    "\n",
    "# os.path.isfile('1Python语法基础.ipynb')"
   ]
  },
  {
   "cell_type": "code",
   "execution_count": 76,
   "metadata": {},
   "outputs": [
    {
     "data": {
      "text/plain": [
       "'5122123  hello'"
      ]
     },
     "execution_count": 76,
     "metadata": {},
     "output_type": "execute_result"
    }
   ],
   "source": [
    "from io import StringIO\n",
    "\n",
    "f=StringIO()#实例化对象放置数据\n",
    "f.write('5122123')\n",
    "f.write('  hello')\n",
    "f.getvalue()"
   ]
  },
  {
   "cell_type": "code",
   "execution_count": 82,
   "metadata": {},
   "outputs": [
    {
     "name": "stdout",
     "output_type": "stream",
     "text": [
      "b'\\xe4\\xb8\\xad\\xe6\\x96\\x87'\n"
     ]
    },
    {
     "data": {
      "text/plain": [
       "b'\\xe4\\xb8\\xad\\xe6\\x96\\x87'"
      ]
     },
     "execution_count": 82,
     "metadata": {},
     "output_type": "execute_result"
    }
   ],
   "source": [
    "from io import BytesIO\n",
    "f=BytesIO()\n",
    "f.write('中文'.encode('utf-8'))\n",
    "print(f.getvalue())\n",
    "\n",
    "f=BytesIO(b'\\xe4\\xb8\\xad\\xe6\\x96\\x87')\n",
    "f.read()"
   ]
  },
  {
   "cell_type": "code",
   "execution_count": null,
   "metadata": {},
   "outputs": [],
   "source": []
  }
 ],
 "metadata": {
  "kernelspec": {
   "display_name": "Python 3",
   "language": "python",
   "name": "python3"
  },
  "language_info": {
   "codemirror_mode": {
    "name": "ipython",
    "version": 3
   },
   "file_extension": ".py",
   "mimetype": "text/x-python",
   "name": "python",
   "nbconvert_exporter": "python",
   "pygments_lexer": "ipython3",
   "version": "3.6.5"
  }
 },
 "nbformat": 4,
 "nbformat_minor": 2
}
