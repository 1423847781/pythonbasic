{
 "cells": [
  {
   "cell_type": "code",
   "execution_count": 15,
   "metadata": {},
   "outputs": [
    {
     "name": "stdout",
     "output_type": "stream",
     "text": [
      "<title>中秋月圆，听听习近平的“家常话”</title>\n",
      "中秋月圆，听听习近平的“家常话”\n",
      "('中秋月圆，听听习近平的“家常话”',)\n"
     ]
    }
   ],
   "source": [
    "import requests\n",
    "import re\n",
    "headers={\n",
    "    'user-agent': 'Mozilla/5.0 (Windows NT 10.0; WOW64) AppleWebKit/537.36 (KHTML, like Gecko) Chrome/68.0.3440.106 Safari/537.36',\n",
    "    'cookie': 'tt_webid=6604974479477491204; tt_webid=6604974479477491204; WEATHER_CITY=%E5%8C%97%E4%BA%AC; tt_webid=6604974479477491204; UM_distinctid=1660e6f37a1172-09295eec9009cb-37664109-144000-1660e6f37a33; csrftoken=1121f6a13e2b884725787992e7683a39; __tasessionId=5fyw6rd491537843276266; login_flag=6031343b585ad23f037c8cd81ac80183; sessionid=c8e688d8ffebd23513d496523ed6e65e; uid_tt=fb7df5e1d1b5675afb521faf6b1c547a; sid_tt=c8e688d8ffebd23513d496523ed6e65e; sid_guard=\"c8e688d8ffebd23513d496523ed6e65e|1537843687|15552000|Sun\\054 24-Mar-2019 02:48:07 GMT\"; uuid=\"w:c52bfed30b28494483baea574d414bf8\"; CNZZDATA1259612802=323890932-1537839742-https%253A%252F%252Fwww.baidu.com%252F%7C1537845142'\n",
    "}\n",
    "res=requests.get('https://www.toutiao.com/a6604571029186544132/',headers=headers)\n",
    "res.text\n",
    "\n",
    "regobj=re.compile('<title>(?P<name>.*?)</title>',re.S)\n",
    "\n",
    "result=re.search(regobj,res.text)\n",
    "print(result.group())\n",
    "print(result.group('name'))\n",
    "print(result.groups())\n"
   ]
  },
  {
   "cell_type": "code",
   "execution_count": null,
   "metadata": {},
   "outputs": [],
   "source": []
  }
 ],
 "metadata": {
  "kernelspec": {
   "display_name": "Python 3",
   "language": "python",
   "name": "python3"
  }
 },
 "nbformat": 4,
 "nbformat_minor": 2
}
