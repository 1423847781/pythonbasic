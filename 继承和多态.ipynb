{
 "cells": [
  {
   "cell_type": "markdown",
   "metadata": {},
   "source": [
    "### 继承和多态\n",
    "在OOP程序设计中，当我们定义一个class的时候，可以从某个现有的class继承，新的class称为子类（Subclass），而被继承的class称为基类、父类或超类（Base class、Super class）。\n",
    "\n",
    "比如，我们已经编写了一个名为Animal的class，有一个run()方法可以直接打印"
   ]
  },
  {
   "cell_type": "code",
   "execution_count": 2,
   "metadata": {
    "collapsed": true
   },
   "outputs": [],
   "source": [
    "class Animal(object):\n",
    "    def run(self):\n",
    "        print('Animal is running...')"
   ]
  },
  {
   "cell_type": "code",
   "execution_count": 1,
   "metadata": {},
   "outputs": [
    {
     "ename": "NameError",
     "evalue": "name 'Animal' is not defined",
     "output_type": "error",
     "traceback": [
      "\u001b[1;31m---------------------------------------------------------------------------\u001b[0m",
      "\u001b[1;31mNameError\u001b[0m                                 Traceback (most recent call last)",
      "\u001b[1;32m<ipython-input-1-bf25d482afb2>\u001b[0m in \u001b[0;36m<module>\u001b[1;34m\u001b[0m\n\u001b[0;32m      1\u001b[0m \u001b[1;31m#编写Dog和Cat类时，就可以直接从Animal类继承：\u001b[0m\u001b[1;33m\u001b[0m\u001b[1;33m\u001b[0m\u001b[0m\n\u001b[1;32m----> 2\u001b[1;33m \u001b[1;32mclass\u001b[0m \u001b[0mDog\u001b[0m\u001b[1;33m(\u001b[0m\u001b[0mAnimal\u001b[0m\u001b[1;33m)\u001b[0m\u001b[1;33m:\u001b[0m\u001b[1;33m\u001b[0m\u001b[0m\n\u001b[0m\u001b[0;32m      3\u001b[0m     \u001b[1;32mpass\u001b[0m\u001b[1;33m\u001b[0m\u001b[0m\n\u001b[0;32m      4\u001b[0m \u001b[1;33m\u001b[0m\u001b[0m\n\u001b[0;32m      5\u001b[0m \u001b[1;32mclass\u001b[0m \u001b[0mCat\u001b[0m\u001b[1;33m(\u001b[0m\u001b[0mAnimal\u001b[0m\u001b[1;33m)\u001b[0m\u001b[1;33m:\u001b[0m\u001b[1;33m\u001b[0m\u001b[0m\n",
      "\u001b[1;31mNameError\u001b[0m: name 'Animal' is not defined"
     ]
    }
   ],
   "source": [
    "#编写Dog和Cat类时，就可以直接从Animal类继承：\n",
    "class Dog(Animal):\n",
    "    pass\n",
    "\n",
    "class Cat(Animal):\n",
    "    pass"
   ]
  },
  {
   "cell_type": "code",
   "execution_count": 5,
   "metadata": {},
   "outputs": [
    {
     "name": "stdout",
     "output_type": "stream",
     "text": [
      "会跑\n",
      "猫会跑\n",
      "喵喵喵\n"
     ]
    }
   ],
   "source": [
    "class Animal():\n",
    "    def __init__(self):\n",
    "        self.type='animal'\n",
    "        self.footer = '四条腿'\n",
    "        \n",
    "    def run(self):\n",
    "        print('会跑')\n",
    "a = Animal()\n",
    "a.run()\n",
    "\n",
    "class Cat(Animal):\n",
    "    def __init__(self,name):\n",
    "        super().__init__()\n",
    "        self.name = name\n",
    "        self.typee = '动画猫'\n",
    "        \n",
    "        \n",
    "        \n",
    "    def run(self):\n",
    "        print('猫会跑')\n",
    "        \n",
    "    \n",
    "    def sound(self):\n",
    "        print('喵喵喵')\n",
    "    def animalRun(self):\n",
    "        super().run()\n",
    "    def getParentType(self):\n",
    "        print(self.type)\n",
    "        \n",
    "hellokitty  = Cat('helloKitty')\n",
    "hellokitty.__dict__\n",
    "hellokitty.run()\n",
    "hellokitty.sound()\n",
    "\n",
    "# # isinstance(hellokitty,Animal)\n",
    "# # hellokitty.animalRun()\n",
    "# hellokitty.type\n",
    "# hellokitty.getParentType()\n",
    "\n",
    "\n",
    "\n",
    "\n",
    "\n",
    "# hellokitty  = Cat()\n",
    "# hellokitty.run()\n",
    "# hellokitty.sound()\n",
    "# # a.sound()\n",
    "\n",
    "# isinstance(hellokitty,Cat)\n",
    "# #isinstance('123',int)\n",
    "# isinstance(hellokitty,Animal)\n",
    "#多态，python是一门动态语言，没有所谓真正意义上的多态，多态是来自于静态语言"
   ]
  },
  {
   "cell_type": "code",
   "execution_count": 13,
   "metadata": {},
   "outputs": [
    {
     "name": "stdout",
     "output_type": "stream",
     "text": [
      "<class '__main__.Animal'>\n",
      "四条腿的动物会跑\n",
      "123\n",
      "四条腿的动物会跑\n"
     ]
    },
    {
     "data": {
      "text/plain": [
       "[1, 2, 3, 5, 6, 7]"
      ]
     },
     "execution_count": 13,
     "metadata": {},
     "output_type": "execute_result"
    }
   ],
   "source": [
    "class Animal():\n",
    "    def __init__(self):\n",
    "        self.type='animal'\n",
    "        self.footer = '四条腿'\n",
    "        \n",
    "    def run(self):\n",
    "        print(self.footer+'的动物会跑')\n",
    "        \n",
    "    def abc():\n",
    "        print(123)\n",
    "\n",
    "print(Animal)\n",
    "class abc():\n",
    "    pass\n",
    "\n",
    "#灵活方便地方\n",
    "a = Animal()\n",
    "\n",
    "\n",
    "b = abc()\n",
    "b.footer = '四条腿'\n",
    "Animal.run(a)\n",
    "Animal.abc()\n",
    "\n",
    "a = Animal()\n",
    "\n",
    "# a.run()\n",
    "Animal.run(b)\n",
    "\n",
    "\n",
    "\n",
    "class Math():\n",
    "    def sort(L):\n",
    "        return sorted(L)\n",
    "    \n",
    "Math.sort([1,2,3,7,5,6])"
   ]
  },
  {
   "cell_type": "code",
   "execution_count": null,
   "metadata": {
    "collapsed": true
   },
   "outputs": [],
   "source": []
  },
  {
   "cell_type": "markdown",
   "metadata": {},
   "source": [
    "### 继承有什么好处？\n",
    "**最大的好处是子类获得了父类的全部功能。**\n",
    "由于Animial实现了run()方法，因此，Dog和Cat作为它的子类，什么事也没干，就自动拥有了run()方法"
   ]
  },
  {
   "cell_type": "code",
   "execution_count": 17,
   "metadata": {},
   "outputs": [
    {
     "name": "stdout",
     "output_type": "stream",
     "text": [
      "Dog is running...\n",
      "Cat is running...\n"
     ]
    }
   ],
   "source": [
    "dog = Dog()\n",
    "dog.run()\n",
    "cat = Cat()\n",
    "cat.run()"
   ]
  },
  {
   "cell_type": "code",
   "execution_count": 15,
   "metadata": {},
   "outputs": [],
   "source": [
    "#可以对子类增加一些方法，比如Dog类：\n",
    "class Dog(Animal):\n",
    "    def run(self):\n",
    "        print('Dog is running...')\n",
    "\n",
    "    def eat(self):\n",
    "        print('Eating meat...')"
   ]
  },
  {
   "cell_type": "code",
   "execution_count": 16,
   "metadata": {},
   "outputs": [],
   "source": [
    "#Dog和Cat类改进如下：\n",
    "class Dog(Animal):\n",
    "    def run(self):\n",
    "        print('Dog is running...')\n",
    "\n",
    "class Cat(Animal):\n",
    "    def run(self):\n",
    "        print('Cat is running...')"
   ]
  },
  {
   "cell_type": "markdown",
   "metadata": {},
   "source": [
    "### 继承的另一个好处：多态。"
   ]
  },
  {
   "cell_type": "code",
   "execution_count": 10,
   "metadata": {},
   "outputs": [
    {
     "data": {
      "text/plain": [
       "True"
      ]
     },
     "execution_count": 10,
     "metadata": {},
     "output_type": "execute_result"
    }
   ],
   "source": [
    "#判断一个变量是否是某个类型可以用isinstance()判断：\n",
    "a = list() # a是list类型\n",
    "b = Animal() # b是Animal类型\n",
    "c = Dog() # c是Dog类型\n",
    "isinstance(a, list)\n",
    "isinstance(b, Animal)\n",
    "isinstance(c, Dog)"
   ]
  },
  {
   "cell_type": "code",
   "execution_count": 18,
   "metadata": {
    "scrolled": true
   },
   "outputs": [
    {
     "name": "stdout",
     "output_type": "stream",
     "text": [
      "123\n",
      "456\n",
      "789\n"
     ]
    },
    {
     "data": {
      "text/plain": [
       "['__class__',\n",
       " '__delattr__',\n",
       " '__dict__',\n",
       " '__dir__',\n",
       " '__doc__',\n",
       " '__eq__',\n",
       " '__format__',\n",
       " '__ge__',\n",
       " '__getattribute__',\n",
       " '__gt__',\n",
       " '__hash__',\n",
       " '__init__',\n",
       " '__init_subclass__',\n",
       " '__le__',\n",
       " '__lt__',\n",
       " '__module__',\n",
       " '__ne__',\n",
       " '__new__',\n",
       " '__reduce__',\n",
       " '__reduce_ex__',\n",
       " '__repr__',\n",
       " '__setattr__',\n",
       " '__sizeof__',\n",
       " '__str__',\n",
       " '__subclasshook__',\n",
       " '__weakref__',\n",
       " 'job',\n",
       " 'learn',\n",
       " 'manage',\n",
       " 'say',\n",
       " 'sayzhize',\n",
       " 'speak',\n",
       " 'walk',\n",
       " 'zhize']"
      ]
     },
     "execution_count": 18,
     "metadata": {},
     "output_type": "execute_result"
    }
   ],
   "source": [
    "\n",
    "\n",
    "class Man(object):\n",
    "    def __init__(self):\n",
    "        print('123')\n",
    "        self.walk = '会走路'\n",
    "    def say(self):\n",
    "        print(self.walk)\n",
    "        \n",
    "class Mintor(object):\n",
    "    def __init__(self):\n",
    "        print('456')\n",
    "        self.job = '班长'\n",
    "    def manage(self):\n",
    "        print(self.job+'管理班级')\n",
    "        \n",
    "class Teacher(object):\n",
    "    def __init__(self):\n",
    "        print('789')\n",
    "        self.zhize = 'laoshi'\n",
    "    def sayzhize():\n",
    "        print(self.zhize)\n",
    "        \n",
    "class Student(Man,Mintor,Teacher):\n",
    "    def __init__(self):\n",
    "        self.learn = '会学习'\n",
    "#         super(Student,self).__init__()\n",
    "#         super(Man,self).__init__()\n",
    "#         super(Mintor,self).__init__()\n",
    "        \n",
    "        Man.__init__(self)\n",
    "        Mintor.__init__(self)\n",
    "        Teacher.__init__(self)\n",
    "        \n",
    "        \n",
    "        \n",
    "#         super(Man,self).__init__()\n",
    "#         super(Mintor,self).__init__()\n",
    "    \n",
    "    def speak(self):\n",
    "        print('会讲英语')\n",
    "        \n",
    "        \n",
    "s1 = Student()\n",
    "dir(s1)\n",
    "# s1.say()\n",
    "\n",
    "# isinstance(s1,Teacher)\n",
    "# isinstance(s1,Mintor)\n",
    "\n",
    "# super?"
   ]
  },
  {
   "cell_type": "code",
   "execution_count": 24,
   "metadata": {},
   "outputs": [
    {
     "name": "stdout",
     "output_type": "stream",
     "text": [
      "Help on class super in module builtins:\n",
      "\n",
      "class super(object)\n",
      " |  super() -> same as super(__class__, <first argument>)\n",
      " |  super(type) -> unbound super object\n",
      " |  super(type, obj) -> bound super object; requires isinstance(obj, type)\n",
      " |  super(type, type2) -> bound super object; requires issubclass(type2, type)\n",
      " |  Typical use to call a cooperative superclass method:\n",
      " |  class C(B):\n",
      " |      def meth(self, arg):\n",
      " |          super().meth(arg)\n",
      " |  This works for class methods too:\n",
      " |  class C(B):\n",
      " |      @classmethod\n",
      " |      def cmeth(cls, arg):\n",
      " |          super().cmeth(arg)\n",
      " |  \n",
      " |  Methods defined here:\n",
      " |  \n",
      " |  __get__(self, instance, owner, /)\n",
      " |      Return an attribute of instance, which is of type owner.\n",
      " |  \n",
      " |  __getattribute__(self, name, /)\n",
      " |      Return getattr(self, name).\n",
      " |  \n",
      " |  __init__(self, /, *args, **kwargs)\n",
      " |      Initialize self.  See help(type(self)) for accurate signature.\n",
      " |  \n",
      " |  __new__(*args, **kwargs) from builtins.type\n",
      " |      Create and return a new object.  See help(type) for accurate signature.\n",
      " |  \n",
      " |  __repr__(self, /)\n",
      " |      Return repr(self).\n",
      " |  \n",
      " |  ----------------------------------------------------------------------\n",
      " |  Data descriptors defined here:\n",
      " |  \n",
      " |  __self__\n",
      " |      the instance invoking super(); may be None\n",
      " |  \n",
      " |  __self_class__\n",
      " |      the type of the instance invoking super(); may be None\n",
      " |  \n",
      " |  __thisclass__\n",
      " |      the class invoking super()\n",
      "\n"
     ]
    }
   ],
   "source": [
    "# help(super)"
   ]
  },
  {
   "cell_type": "code",
   "execution_count": null,
   "metadata": {},
   "outputs": [],
   "source": []
  }
 ],
 "metadata": {
  "kernelspec": {
   "display_name": "Python 3",
   "language": "python",
   "name": "python3"
  },
  "language_info": {
   "codemirror_mode": {
    "name": "ipython",
    "version": 3
   },
   "file_extension": ".py",
   "mimetype": "text/x-python",
   "name": "python",
   "nbconvert_exporter": "python",
   "pygments_lexer": "ipython3",
   "version": "3.6.5"
  }
 },
 "nbformat": 4,
 "nbformat_minor": 2
}
