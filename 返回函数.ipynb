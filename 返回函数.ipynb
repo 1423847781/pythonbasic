{
 "cells": [
  {
   "cell_type": "markdown",
   "metadata": {},
   "source": [
    "### 返回函数\n",
    "**函数作为返回值**\n",
    "高阶函数除了可以接受函数作为参数外，还可以把函数作为结果值返回。\n",
    "\n",
    "我们来实现一个可变参数的求和。通常情况下，求和的函数是这样定义的："
   ]
  },
  {
   "cell_type": "code",
   "execution_count": 1,
   "metadata": {},
   "outputs": [],
   "source": [
    "def calc_sum(*args):\n",
    "    ax = 0\n",
    "    for n in args:\n",
    "        ax = ax + n\n",
    "    return ax"
   ]
  },
  {
   "cell_type": "code",
   "execution_count": 2,
   "metadata": {},
   "outputs": [
    {
     "data": {
      "text/plain": [
       "'这是b函数'"
      ]
     },
     "execution_count": 2,
     "metadata": {},
     "output_type": "execute_result"
    }
   ],
   "source": [
    "def a():\n",
    "    def b():\n",
    "        return '这是b函数'\n",
    "    return b\n",
    "a()()\n"
   ]
  },
  {
   "cell_type": "code",
   "execution_count": 2,
   "metadata": {
    "collapsed": true
   },
   "outputs": [],
   "source": [
    "#如果不需要立刻求和，而是在后面的代码中，根据需要再计算怎么办？可以不返回求和的结果，而是返回求和的函数：\n",
    "def lazy_sum(*args):\n",
    "    def sum():\n",
    "        ax = 0\n",
    "        for n in args:\n",
    "            ax = ax + n\n",
    "        return ax\n",
    "    return sum"
   ]
  },
  {
   "cell_type": "code",
   "execution_count": 3,
   "metadata": {},
   "outputs": [
    {
     "data": {
      "text/plain": [
       "<function __main__.lazy_sum.<locals>.sum>"
      ]
     },
     "execution_count": 3,
     "metadata": {},
     "output_type": "execute_result"
    }
   ],
   "source": [
    "#调用lazy_sum()时，返回的并不是求和结果，而是求和函数：\n",
    "f = lazy_sum(1, 3, 5, 7, 9)\n",
    "f"
   ]
  },
  {
   "cell_type": "code",
   "execution_count": 4,
   "metadata": {},
   "outputs": [
    {
     "data": {
      "text/plain": [
       "False"
      ]
     },
     "execution_count": 4,
     "metadata": {},
     "output_type": "execute_result"
    }
   ],
   "source": [
    "#请再注意一点，当我们调用lazy_sum()时，每次调用都会返回一个新的函数，即使传入相同的参数：\n",
    "f1 = lazy_sum(1, 3, 5, 7, 9)\n",
    "f2 = lazy_sum(1, 3, 5, 7, 9)\n",
    "f1==f2"
   ]
  },
  {
   "cell_type": "markdown",
   "metadata": {},
   "source": [
    "**f1()和f2()的调用结果互不影响。**"
   ]
  },
  {
   "cell_type": "markdown",
   "metadata": {},
   "source": [
    "### 闭包\n",
    "注意到返回的函数在其定义内部引用了局部变量args，所以，当一个函数返回了一个函数后，其内部的局部变量还被新函数引用，所以，闭包用起来简单，实现起来可不容易。\n",
    "\n",
    "另一个需要注意的问题是，返回的函数并没有立刻执行，而是直到调用了f()才执行。"
   ]
  },
  {
   "cell_type": "code",
   "execution_count": 3,
   "metadata": {},
   "outputs": [],
   "source": [
    "def count():\n",
    "    fs = []\n",
    "    for i in range(1, 4):\n",
    "        def f():\n",
    "             return i*i\n",
    "        fs.append(f)\n",
    "    return fs\n",
    "\n",
    "f1, f2, f3 = count()"
   ]
  },
  {
   "cell_type": "code",
   "execution_count": 11,
   "metadata": {},
   "outputs": [
    {
     "name": "stdout",
     "output_type": "stream",
     "text": [
      "i: 9\n",
      "9\n",
      "9\n"
     ]
    },
    {
     "data": {
      "text/plain": [
       "9"
      ]
     },
     "execution_count": 11,
     "metadata": {},
     "output_type": "execute_result"
    }
   ],
   "source": [
    "# [fn0,fn1,fn2...fn10]\n",
    "# fn0()==>0\n",
    "# fn1()==>1\n",
    "\n",
    "def tt():\n",
    "    listFn = []\n",
    "    i = 0\n",
    "    for i in range(10):\n",
    "        def fn():\n",
    "            return i\n",
    "        listFn.append(fn)\n",
    "    print('i:',i)\n",
    "    return listFn\n",
    "\n",
    "#一个函数的变量被另外一个函数所引用，这个函数的变量在函数执行完毕之后不会被销毁掉，会保留下来，这就是闭包。\n",
    "#闭包会导致1个问题，那就是内存泄漏。\n",
    "fnList = tt()\n",
    "print(fnList[0]())\n",
    "print(fnList[1]())\n",
    "fnList[9]()"
   ]
  },
  {
   "cell_type": "code",
   "execution_count": 12,
   "metadata": {},
   "outputs": [
    {
     "name": "stdout",
     "output_type": "stream",
     "text": [
      "i: 9\n",
      "0\n",
      "1\n"
     ]
    },
    {
     "data": {
      "text/plain": [
       "9"
      ]
     },
     "execution_count": 12,
     "metadata": {},
     "output_type": "execute_result"
    }
   ],
   "source": [
    "def tt():\n",
    "    listFn = []\n",
    "    i = 0\n",
    "    for i in range(10):\n",
    "        # i = 0;\n",
    "        \n",
    "        def fn(index):\n",
    "            index = 0\n",
    "            \n",
    "            def temp():\n",
    "                return index\n",
    "            return temp\n",
    "        \n",
    "        fnTmp = fn(i)\n",
    "            \n",
    "        \n",
    "        listFn.append(fnTmp)\n",
    "    print('i:',i)\n",
    "    return listFn\n",
    "\n",
    "fnList = tt()\n",
    "print(fnList[0]())\n",
    "print(fnList[1]())\n",
    "fnList[9]()"
   ]
  },
  {
   "cell_type": "code",
   "execution_count": 9,
   "metadata": {},
   "outputs": [],
   "source": [
    "def abc():\n",
    "    a = 3\n",
    "    def c():\n",
    "        return a\n",
    "    return c\n",
    "\n",
    "temp = abc()"
   ]
  },
  {
   "cell_type": "code",
   "execution_count": 16,
   "metadata": {},
   "outputs": [
    {
     "data": {
      "text/plain": [
       "3"
      ]
     },
     "execution_count": 16,
     "metadata": {},
     "output_type": "execute_result"
    }
   ],
   "source": [
    "temp()"
   ]
  },
  {
   "cell_type": "code",
   "execution_count": 17,
   "metadata": {},
   "outputs": [
    {
     "name": "stdout",
     "output_type": "stream",
     "text": [
      "1 2 3\n",
      "10\n",
      "0\n"
     ]
    }
   ],
   "source": [
    "def count():\n",
    "    fn = []\n",
    "#     fn=[f1,f2,f3]\n",
    "\n",
    "    for item in range(1,4):\n",
    "        def f(i):\n",
    "            def rf():\n",
    "                return i\n",
    "            return rf\n",
    "        fn.append(f(item)) #f(1)=== rf函数，保留了i,来自f(1)的时候得到的参数i,参数i的变量会一直保留在内存里面。\n",
    "        \n",
    "    return fn\n",
    "\n",
    "# f1 = count()[0]()\n",
    "# f2 = count()[1]()\n",
    "# f3 = count()[2]()\n",
    "\n",
    "# print(f1,f2,f3)==》1,2,3\n",
    "\n",
    "# f1 = count()[0]()\n",
    "# f2 = count()[1]()\n",
    "# f3 = count()[2]()\n",
    "# print(f1,f2,f3)\n",
    "\n"
   ]
  },
  {
   "cell_type": "code",
   "execution_count": null,
   "metadata": {
    "collapsed": true
   },
   "outputs": [],
   "source": [
    "### `count()[0]()`\n",
    "#### count()\n",
    "1. fn = []\n",
    "2. [1,2,3]\n",
    "3. item = 1\n",
    "4. 申明了f(i)函数，f=lambda i:lambda :i\n",
    "5. fn.append(f(1))==>fn.append(lambda:1)\n",
    "6. fn =[lambda:1]\n",
    "6. item =2\n",
    "7. 申明了f(i)函数，f=lambda i:lambda :i\n",
    "5. fn.append(f(2))==>fn.append(lambda:1)\n",
    "6. fn =[lambda:1,lambda:2]\n",
    "9. item =3\n",
    "10. 申明了f(i)函数，f=lambda i:lambda :i\n",
    "5. fn.append(f(3))==>fn.append(lambda:1)\n",
    "6. fn =[lambda:1,lambda:2,lambda:3]\n",
    "12. `count()[0]()`实质是将item=返回"
   ]
  },
  {
   "attachments": {
    "image.png": {
     "image/png": "[encoded data removed]"
    }
   },
   "cell_type": "markdown",
   "metadata": {},
   "source": [
    "![image.png](attachment:image.png)"
   ]
  },
  {
   "cell_type": "code",
   "execution_count": 8,
   "metadata": {},
   "outputs": [
    {
     "name": "stdout",
     "output_type": "stream",
     "text": [
      "3 3 3\n"
     ]
    }
   ],
   "source": [
    "def count():\n",
    "    fn = []\n",
    "#     fn=[f1,f2,f3]\n",
    "    for item in range(1,4):\n",
    "        def f():\n",
    "            return item\n",
    "        fn.append(f) #f(1)=== rf函数，保留了i,来自f(1)的时候得到的参数i,参数i的变量会一直保留在内存里面。\n",
    "        \n",
    "    return fn\n",
    "\n",
    "f1 = count()[0]()\n",
    "f2 = count()[1]()\n",
    "f3 = count()[2]()\n",
    "# print(f1,f2,f3)\n",
    "\n"
   ]
  },
  {
   "cell_type": "markdown",
   "metadata": {},
   "source": [
    "### `count()[0]()`\n",
    "#### count()\n",
    "1. fn = []\n",
    "2. [1,2,3]\n",
    "3. item = 1\n",
    "4. 申明了f函数，f=lambda :item\n",
    "5. fn=[lambda :item]\n",
    "6. item =2\n",
    "7. 申明了新的f函数，f=lambda :item\n",
    "8. fn=[lambda :item,lambda:item]\n",
    "9. item =3\n",
    "10. 申明了新的f函数，f=lambda :item\n",
    "11. fn=[lambda :item,lambda:item,lambda:item]\n",
    "12. `count()[0]()`实质是将item=返回\n"
   ]
  },
  {
   "cell_type": "markdown",
   "metadata": {},
   "source": [
    "调用f1()，f2()和f3()结果应该是1，4，9，但实际结果是：\n",
    "```\n",
    ">>> f1()\n",
    "9\n",
    ">>> f2()\n",
    "9\n",
    ">>> f3()\n",
    "9\n",
    "```"
   ]
  },
  {
   "cell_type": "markdown",
   "metadata": {},
   "source": [
    "#### 返回闭包时牢记一点：返回函数不要引用任何循环变量，或者后续会发生变化的变量。\n",
    "如果一定要引用循环变量怎么办？方法是再创建一个函数，用该函数的参数绑定循环变量当前的值，无论该循环变量后续如何更改，已绑定到函数参数的值不变：\n"
   ]
  },
  {
   "cell_type": "code",
   "execution_count": 6,
   "metadata": {
    "collapsed": true
   },
   "outputs": [],
   "source": [
    "def count():\n",
    "    def f(j):\n",
    "        def g():\n",
    "            return j*j\n",
    "        return g\n",
    "    fs = []\n",
    "    for i in range(1, 4):\n",
    "        fs.append(f(i)) # f(i)立刻被执行，因此i的当前值被传入f()\n",
    "    return fs"
   ]
  },
  {
   "cell_type": "code",
   "execution_count": 7,
   "metadata": {
    "collapsed": true
   },
   "outputs": [],
   "source": [
    "f1, f2, f3 = count()"
   ]
  },
  {
   "cell_type": "code",
   "execution_count": 8,
   "metadata": {},
   "outputs": [
    {
     "data": {
      "text/plain": [
       "1"
      ]
     },
     "execution_count": 8,
     "metadata": {},
     "output_type": "execute_result"
    }
   ],
   "source": [
    "f1()"
   ]
  },
  {
   "cell_type": "code",
   "execution_count": 9,
   "metadata": {},
   "outputs": [
    {
     "data": {
      "text/plain": [
       "4"
      ]
     },
     "execution_count": 9,
     "metadata": {},
     "output_type": "execute_result"
    }
   ],
   "source": [
    "f2()"
   ]
  },
  {
   "cell_type": "code",
   "execution_count": 10,
   "metadata": {},
   "outputs": [
    {
     "data": {
      "text/plain": [
       "9"
      ]
     },
     "execution_count": 10,
     "metadata": {},
     "output_type": "execute_result"
    }
   ],
   "source": [
    "f3()"
   ]
  },
  {
   "cell_type": "code",
   "execution_count": null,
   "metadata": {
    "collapsed": true
   },
   "outputs": [],
   "source": []
  }
 ],
 "metadata": {
  "kernelspec": {
   "display_name": "Python 3",
   "language": "python",
   "name": "python3"
  },
  "language_info": {
   "codemirror_mode": {
    "name": "ipython",
    "version": 3
   },
   "file_extension": ".py",
   "mimetype": "text/x-python",
   "name": "python",
   "nbconvert_exporter": "python",
   "pygments_lexer": "ipython3",
   "version": "3.6.5"
  }
 },
 "nbformat": 4,
 "nbformat_minor": 2
}
