{
 "cells": [
  {
   "cell_type": "code",
   "execution_count": 2,
   "metadata": {},
   "outputs": [],
   "source": [
    "class Student(object):\n",
    "    num = 1\n",
    "    def __init__(self,name,age,score):\n",
    "        self.id = Student.num\n",
    "        Student.num = Student.num + 1\n",
    "        self.name = name\n",
    "        self.age = age\n",
    "        self.score = score"
   ]
  },
  {
   "cell_type": "code",
   "execution_count": 2,
   "metadata": {},
   "outputs": [
    {
     "name": "stdout",
     "output_type": "stream",
     "text": [
      "Overwriting tect.py\n"
     ]
    }
   ],
   "source": [
    "%%writefile  tect.py\n",
    "import unittest\n",
    "\n",
    "\n",
    "\n",
    "class Student(object):\n",
    "    num = 1\n",
    "    def __init__(self,name,age,score):\n",
    "        self.id = Student.num\n",
    "        Student.num = Student.num + 1\n",
    "        self.name = name\n",
    "        self.age = age\n",
    "        self.score = score\n",
    "        \n",
    "class TestDict(unittest.TestCase):\n",
    "    def test_init(self):\n",
    "        print('test_init')\n",
    "        s1 = Student('xm',15,90)\n",
    "        #认为两者之间是相等的\n",
    "        self.assertEqual(s1.name,'xm')\n",
    "        #判断这个括号内的表达式是否为真\n",
    "        self.assertTrue(isinstance(s1.name,str))\n",
    "        \n",
    "    def text_attr(self):\n",
    "        s2=Student('xm',16,100)\n",
    "        s2.score=100\n",
    "        self.asserEqual(s2.score,100)\n",
    "        \n",
    "if __name__=='__main__':\n",
    "     unittest.main()"
   ]
  },
  {
   "cell_type": "code",
   "execution_count": null,
   "metadata": {},
   "outputs": [],
   "source": []
  }
 ],
 "metadata": {
  "kernelspec": {
   "display_name": "Python 3",
   "language": "python",
   "name": "python3"
  },
  "language_info": {
   "codemirror_mode": {
    "name": "ipython",
    "version": 3
   },
   "file_extension": ".py",
   "mimetype": "text/x-python",
   "name": "python",
   "nbconvert_exporter": "python",
   "pygments_lexer": "ipython3",
   "version": "3.6.5"
  }
 },
 "nbformat": 4,
 "nbformat_minor": 2
}
