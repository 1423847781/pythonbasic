{
 "cells": [
  {
   "cell_type": "code",
   "execution_count": 2,
   "metadata": {},
   "outputs": [
    {
     "name": "stdout",
     "output_type": "stream",
     "text": [
      "My name is Alfred.Xue\n",
      "I am 25 years old.\n",
      "His height is 1.700000 m\n",
      "His height is 1.70 m\n",
      "Name:    Alfred Age:      25 Height:    1.70\n",
      "Name:Alfred     Age:25       Height:1.70    \n",
      "Name:Alfred     Age:00000025 Height:00001.70\n"
     ]
    },
    {
     "data": {
      "text/plain": [
       "'2.60e-03'"
      ]
     },
     "execution_count": 2,
     "metadata": {},
     "output_type": "execute_result"
    }
   ],
   "source": [
    "#1.打印字符串,无论是数字还是字符串都可以使用%s\n",
    "print(\"My name is %s\" %(\"Alfred.Xue\"))\n",
    "\n",
    "#2.打印整数\n",
    "print(\"I am %d years old.\" %(25))\n",
    "\n",
    "#3.打印浮点数\n",
    "print (\"His height is %f m\"%(1.70))\n",
    "\n",
    "#4.打印浮点数（指定保留两位小数）\n",
    "print (\"His height is %.2f m\"%(1.70))\n",
    "\n",
    "#5.指定占位符宽度\n",
    "print (\"Name:%10s Age:%8d Height:%8.2f\"%(\"Alfred\",25,1.70))\n",
    "\n",
    "#6.指定占位符宽度（左对齐）\n",
    "print (\"Name:%-10s Age:%-8d Height:%-8.2f\"%(\"Alfred\",25,1.70))\n",
    "\n",
    "#7.指定占位符（只能用0当占位符？）\n",
    "print (\"Name:%-10s Age:%08d Height:%08.2f\"%(\"Alfred\",25,1.70))\n",
    "\n",
    "#8.科学计数法\n",
    "format(0.0026,'.2e')\n",
    " "
   ]
  },
  {
   "cell_type": "code",
   "execution_count": 8,
   "metadata": {},
   "outputs": [
    {
     "data": {
      "text/plain": [
       "'今天苹果的价格：5.99    ￥'"
      ]
     },
     "execution_count": 8,
     "metadata": {},
     "output_type": "execute_result"
    }
   ],
   "source": [
    "text = '这是1个标题'\n",
    "'<h1>%s</h1>'%text\n",
    "\n",
    "'今天%s的价格：%-8.2f￥'%('苹果',5.9899)"
   ]
  },
  {
   "cell_type": "code",
   "execution_count": 14,
   "metadata": {},
   "outputs": [
    {
     "name": "stdout",
     "output_type": "stream",
     "text": [
      "<li> {'title': '急寻获奖者！你是最持久的那位吗？', 'href': 'http://www.baidu.com'} </li>\n"
     ]
    }
   ],
   "source": [
    "contentList = [{ 'title':'急寻获奖者！你是最持久的那位吗？','href':'http://www.baidu.com'},\n",
    "               { 'title': '利润率不超过5% | 小米6X 内置高清壁纸分享','href':'http://www.taobao.com'},\n",
    "               { 'title': '小米游戏耳机，听声辩位助你超神','href':'http://www.qq.com'}]\n",
    "str1 = '<a> %s  </a>'%contentList[1]\n",
    "print('<li> %s </li>'%contentList[0])"
   ]
  },
  {
   "cell_type": "code",
   "execution_count": 20,
   "metadata": {},
   "outputs": [
    {
     "name": "stdout",
     "output_type": "stream",
     "text": [
      "<li><a href=\"http://www.baidu.com\" > 急寻获奖者！你是最持久的那位吗？ </a> </li>\n",
      "<li><a href=\"http://www.taobao.com\" > 利润率不超过5% | 小米6X 内置高清壁纸分享 </a> </li>\n",
      "<li><a href=\"http://www.qq.com\" > 小米游戏耳机，听声辩位助你超神 </a> </li>\n"
     ]
    }
   ],
   "source": [
    "page = ''\n",
    "for item in contentList:\n",
    "    page = page + '<li><a href=\"%s\" > %s </a> </li>'%(item['href'],item['title'])\n",
    "    print('<li><a href=\"%s\" > %s </a> </li>'%(item['href'],item['title']))"
   ]
  },
  {
   "cell_type": "code",
   "execution_count": 7,
   "metadata": {},
   "outputs": [
    {
     "name": "stdout",
     "output_type": "stream",
     "text": [
      "<a> 利润率不超过5% | 小米6X 内置高清壁纸分享  </a>\n"
     ]
    }
   ],
   "source": [
    "print(str1)"
   ]
  },
  {
   "cell_type": "code",
   "execution_count": 23,
   "metadata": {},
   "outputs": [
    {
     "name": "stderr",
     "output_type": "stream",
     "text": [
      " * Running on http://127.0.0.1:5000/ (Press CTRL+C to quit)\n"
     ]
    },
    {
     "name": "stdout",
     "output_type": "stream",
     "text": [
      "<li><a href=\"http://www.baidu.com\" > 急寻获奖者！你是最持久的那位吗？ </a> </li><li><a href=\"http://www.taobao.com\" > 利润率不超过5% | 小米6X 内置高清壁纸分享 </a> </li><li><a href=\"http://www.qq.com\" > 小米游戏耳机，听声辩位助你超神 </a> </li>\n"
     ]
    },
    {
     "name": "stderr",
     "output_type": "stream",
     "text": [
      "127.0.0.1 - - [28/Apr/2018 14:31:04] \"GET / HTTP/1.1\" 200 -\n"
     ]
    }
   ],
   "source": [
    "from flask import Flask\n",
    "app = Flask(__name__)\n",
    "\n",
    "print(page)\n",
    "@app.route('/')\n",
    "def index():\n",
    "    return page\n",
    "\n",
    "app.run()"
   ]
  },
  {
   "cell_type": "code",
   "execution_count": 51,
   "metadata": {},
   "outputs": [
    {
     "name": "stdout",
     "output_type": "stream",
     "text": [
      "圆周率是3.14\n",
      "圆周率是      3.14 圆周率是      3.14 圆周率是      3.14\n",
      "圆周率是3.14       圆周率是3.14       圆周率是3.14      \n",
      "圆周率是0000003.14 圆周率是0000003.14 圆周率是0000003.14\n"
     ]
    }
   ],
   "source": [
    "number = 1000\n",
    "str2 = '0419班总共有%d学生'%number\n",
    "\n",
    "\n",
    "Pi = 3.1415925\n",
    "str3 = '圆周率是%.2f'%Pi\n",
    "str4 = '圆周率是%10.2f'%Pi\n",
    "str5 = '圆周率是%-10.2f'%Pi\n",
    "str6 = '圆周率是%010.2f'%Pi\n",
    "print(str3)\n",
    "print(str4,str4,str4)\n",
    "print(str5,str5,str5)\n",
    "print(str6,str6,str6)"
   ]
  },
  {
   "cell_type": "code",
   "execution_count": 47,
   "metadata": {},
   "outputs": [
    {
     "name": "stdout",
     "output_type": "stream",
     "text": [
      "0419班总共有1000学生\n"
     ]
    }
   ],
   "source": [
    "print(str2)"
   ]
  },
  {
   "cell_type": "code",
   "execution_count": 48,
   "metadata": {},
   "outputs": [
    {
     "name": "stdout",
     "output_type": "stream",
     "text": [
      "Help on built-in function format in module builtins:\n",
      "\n",
      "format(value, format_spec='', /)\n",
      "    Return value.__format__(format_spec)\n",
      "    \n",
      "    format_spec defaults to the empty string\n",
      "\n"
     ]
    }
   ],
   "source": [
    "help(format)"
   ]
  },
  {
   "cell_type": "code",
   "execution_count": 43,
   "metadata": {},
   "outputs": [
    {
     "data": {
      "text/plain": [
       "'1.23e+05'"
      ]
     },
     "execution_count": 43,
     "metadata": {},
     "output_type": "execute_result"
    }
   ],
   "source": [
    "a = format(123456,'.2e')\n",
    "a"
   ]
  },
  {
   "cell_type": "code",
   "execution_count": null,
   "metadata": {
    "collapsed": true
   },
   "outputs": [],
   "source": [
    "listDict= {}\n",
    "\n",
    "str1 =  '''<dl class=\"topLine\" onclick=\"_hmt.push(['_trackEvent','cms','头条']);\">\n",
    "                <dt>\n",
    "        <h2><a href=\"//bbs.xiaomi.cn/t-15098570\" target=\"_blank\">急寻获奖者！你是最持久的那位吗？</a></h2>\n",
    "        <a href=\"//bbs.xiaomi.cn/t-15098570\" target=\"_blank\"><img src=\"//cdn.cnbj0.fds.api.mi-img.com/b2c-bbs-cms/2018/0428/20180428111558487.jpg\" alt=\"急寻获奖者！你是最持久的那位吗？\" title=\"急寻获奖者！你是最持久的那位吗？\" width=\"300\" height=\"175\"></a>\n",
    "        </dt>\n",
    "        <dd>\n",
    "            <a href=\"//www.xiaomi.cn/list-108-1.html\" target=\"_blank\">小米资讯</a> | 2018年04月28日            <span><em class=\"views\">68918</em> <!--<a href=\"http://bbs.xiaomi.cn/t-15098570\" class=\"replies\" target=\"_blank\">6320</a>--><script type=\"text/javascript\">document.write('<a href=\"http://v.t.sina.com.cn/share/share.php?url=' + encodeURIComponent('http://bbs.xiaomi.cn/t-15098570') + '&appkey=1874498659&title=' + encodeURIComponent('急寻获奖者！你是最持久的那位吗？ ——来自@小米社区') + '\" title=\"分享到新浪微博\" target=\"_blank\" class=\"share\">分享</a>');</script><a href=\"http://v.t.sina.com.cn/share/share.php?url=http%3A%2F%2Fbbs.xiaomi.cn%2Ft-15098570&amp;appkey=1874498659&amp;title=%E6%80%A5%E5%AF%BB%E8%8E%B7%E5%A5%96%E8%80%85%EF%BC%81%E4%BD%A0%E6%98%AF%E6%9C%80%E6%8C%81%E4%B9%85%E7%9A%84%E9%82%A3%E4%BD%8D%E5%90%97%EF%BC%9F%20%E2%80%94%E2%80%94%E6%9D%A5%E8%87%AA%40%E5%B0%8F%E7%B1%B3%E7%A4%BE%E5%8C%BA\" title=\"分享到新浪微博\" target=\"_blank\" class=\"share\">分享</a></span>\n",
    "            <p>拥有4000mAh超大电量、骁龙636八核处理器的红米Note 5在已经入手的小伙伴中这款手机的口碑非常之好，在京东的好评率甚至达到了100%！快来将你的红米Note 5电量使用详情和省电心得晒出来吧！ <a href=\"http://bbs.xiaomi.cn/t-15098570\" target=\"_blank\">全文》</a></p>\n",
    "        </dd>\n",
    "            </dl>'''"
   ]
  }
 ],
 "metadata": {
  "kernelspec": {
   "display_name": "Python 3",
   "language": "python",
   "name": "python3"
  },
  "language_info": {
   "codemirror_mode": {
    "name": "ipython",
    "version": 3
   },
   "file_extension": ".py",
   "mimetype": "text/x-python",
   "name": "python",
   "nbconvert_exporter": "python",
   "pygments_lexer": "ipython3",
   "version": "3.6.5"
  }
 },
 "nbformat": 4,
 "nbformat_minor": 2
}
