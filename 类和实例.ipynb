{
 "cells": [
  {
   "cell_type": "markdown",
   "metadata": {},
   "source": [
    "### 类（Class）\n",
    "面向对象最重要的概念就是类（Class）和实例（Instance），必须牢记**类是抽象的模板**，比如Student类，而实例是根据类创建出来的一个个具体的“对象”，每个对象都拥有相同的方法，但各自的数据可能不同。\n",
    "\n",
    "仍以Student类为例，在Python中，定义类是通过class关键字：\n",
    "\n"
   ]
  },
  {
   "cell_type": "code",
   "execution_count": 6,
   "metadata": {},
   "outputs": [
    {
     "name": "stdout",
     "output_type": "stream",
     "text": [
      "laowang\n"
     ]
    },
    {
     "data": {
      "text/plain": [
       "['__class__',\n",
       " '__delattr__',\n",
       " '__dict__',\n",
       " '__dir__',\n",
       " '__doc__',\n",
       " '__eq__',\n",
       " '__format__',\n",
       " '__ge__',\n",
       " '__getattribute__',\n",
       " '__gt__',\n",
       " '__hash__',\n",
       " '__init__',\n",
       " '__init_subclass__',\n",
       " '__le__',\n",
       " '__lt__',\n",
       " '__module__',\n",
       " '__ne__',\n",
       " '__new__',\n",
       " '__reduce__',\n",
       " '__reduce_ex__',\n",
       " '__repr__',\n",
       " '__setattr__',\n",
       " '__sizeof__',\n",
       " '__str__',\n",
       " '__subclasshook__',\n",
       " '__weakref__',\n",
       " 'age',\n",
       " 'name']"
      ]
     },
     "execution_count": 6,
     "metadata": {},
     "output_type": "execute_result"
    }
   ],
   "source": [
    "class Student(object):\n",
    "    pass\n",
    "\n",
    "s1 = Student('laowang',16)\n",
    "s1.name = 'laowang'\n",
    "s1.age = 16\n",
    "print(s1.name)\n",
    "\n",
    "dir(s1)"
   ]
  },
  {
   "cell_type": "code",
   "execution_count": 36,
   "metadata": {
    "scrolled": true
   },
   "outputs": [
    {
     "name": "stdout",
     "output_type": "stream",
     "text": [
      "laowang\n",
      "laowang\n",
      "这个学生的名字是：laowang，年龄是：16\n"
     ]
    },
    {
     "data": {
      "text/plain": [
       "'这个学生的名字是：laowang，年龄是：16'"
      ]
     },
     "execution_count": 36,
     "metadata": {},
     "output_type": "execute_result"
    }
   ],
   "source": [
    "class Student:\n",
    "    '''\n",
    "    这是1个学生类，有属性：名字/年龄/\n",
    "    方法：speck()，不用传参，可以获取学生的名字\n",
    "    '''\n",
    "    def __init__(self,name,age):\n",
    "        self.name = name\n",
    "        self.age = age\n",
    "        self.speckname = lambda x=self: 'name:'+x.name\n",
    "    def speck(self):\n",
    "        print(self.name)\n",
    "    def __str__(self):\n",
    "        return '这个学生的名字是：%s，年龄是：%s'%(self.name,self.age)\n",
    "    def __repr__(self):\n",
    "        return self.__str__()\n",
    "\n",
    "s1 = Student('laowang',16)\n",
    "dir(s1)\n",
    "print(s1.name)\n",
    "s1.speck()\n",
    "s1.speckname()\n",
    "\n",
    "#所有的类实例化的时候，都会执行__init__这个函数，这个时候可以进行属性和方法的绑定，self,要作为第1个参数传递。后面的参数以此往后推。\n",
    "\n",
    "dir(s1)  # s1.__dir__()\n",
    "#s1.__dict__,可以获得对象转换后的字典\n",
    "#print(s1.__doc__) #可以获取class解释文档。\n",
    "\n",
    "# str(s1)\n",
    "# s1.__str__() #将对象转换成字符串的方法，print函数打印对象的时候，实际上就是print(s1.__str__())\n",
    "# str(s1)\n",
    "print(s1)\n",
    "s1 #ipython直接输出最后1行，实际上调用的是s1.__repr__()\n",
    "s1.__repr__()"
   ]
  },
  {
   "cell_type": "markdown",
   "metadata": {},
   "source": [
    "### 学生类\n",
    "* name\n",
    "* age\n",
    "* sex\n",
    "* score\n",
    "* speak\n",
    "* predictScore\n",
    "* run\n",
    "* walk"
   ]
  },
  {
   "cell_type": "code",
   "execution_count": 15,
   "metadata": {},
   "outputs": [
    {
     "name": "stdout",
     "output_type": "stream",
     "text": [
      "<__main__.Student object at 0x0000000004A4A5C0>\n",
      "<__main__.Student object at 0x0000000004A4A5C0>\n",
      "<__main__.Student object at 0x0000000004A4A5C0>\n",
      "下一次成绩可能比较差\n"
     ]
    }
   ],
   "source": [
    "#类的定义\n",
    "class Student():\n",
    "    def __init__(self,name,age,score ,sex='男'):\n",
    "        self.name = name\n",
    "        self.age = age\n",
    "        self.sex = sex\n",
    "        self.score = score\n",
    "        print(self)\n",
    "    def predictScore(self,score=40):\n",
    "        print(self)\n",
    "        if(score>60):\n",
    "            print('未来下一次成绩应该是不错的')\n",
    "        else:\n",
    "            print('下一次成绩可能比较差')\n",
    "        \n",
    "#将类实例化成对象,实际上调用了init函数，先创建一个新的对象，传入给self\n",
    "s1 = Student('小黑',16,98,'女')\n",
    "\n",
    "print(s1)\n",
    "s1.name\n",
    "s1.score\n",
    "s1.sex\n",
    "s1.predictScore()"
   ]
  },
  {
   "cell_type": "code",
   "execution_count": null,
   "metadata": {
    "collapsed": true
   },
   "outputs": [],
   "source": []
  },
  {
   "cell_type": "markdown",
   "metadata": {},
   "source": [
    "### `__init__`函数\n",
    "类可以起到模板的作用，因此，可以在创建实例的时候，把一些我们认为必须绑定的属性强制填写进去。通过定义一个特殊的__init__方法，在创建实例的时候，就把name，score等属性绑上去"
   ]
  },
  {
   "cell_type": "markdown",
   "metadata": {},
   "source": [
    "### 数据封装\n",
    "面向对象编程的一个重要特点就是数据封装。在上面的Student类中，每个实例就拥有各自的name和score这些数据。我们可以通过函数来访问这些数据，比如打印一个学生的成绩："
   ]
  },
  {
   "cell_type": "code",
   "execution_count": 2,
   "metadata": {
    "collapsed": true
   },
   "outputs": [],
   "source": [
    "def print_score(std):\n",
    "    print('%s: %s' % (std.name, std.score))\n",
    "    print_score(bart)"
   ]
  },
  {
   "cell_type": "code",
   "execution_count": 3,
   "metadata": {
    "collapsed": true
   },
   "outputs": [],
   "source": [
    "class Student(object):\n",
    "\n",
    "    def __init__(self, name, score):\n",
    "        self.name = name\n",
    "        self.score = score\n",
    "\n",
    "    def print_score(self):\n",
    "        print('%s: %s' % (self.name, self.score))"
   ]
  },
  {
   "cell_type": "code",
   "execution_count": null,
   "metadata": {
    "collapsed": true
   },
   "outputs": [],
   "source": [
    "class Student(object):\n",
    "    def __init__(self, name, score):\n",
    "        self.name = name\n",
    "        self.score = score\n",
    "\n",
    "    def get_grade(self):\n",
    "        if self.score >= 90:\n",
    "            return 'A'\n",
    "        elif self.score >= 60:\n",
    "            return 'B'\n",
    "        else:\n",
    "            return 'C'"
   ]
  }
 ],
 "metadata": {
  "kernelspec": {
   "display_name": "Python 3",
   "language": "python",
   "name": "python3"
  },
  "language_info": {
   "codemirror_mode": {
    "name": "ipython",
    "version": 3
   },
   "file_extension": ".py",
   "mimetype": "text/x-python",
   "name": "python",
   "nbconvert_exporter": "python",
   "pygments_lexer": "ipython3",
   "version": "3.6.5"
  }
 },
 "nbformat": 4,
 "nbformat_minor": 2
}
