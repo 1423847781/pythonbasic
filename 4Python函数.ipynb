{
 "cells": [
  {
   "cell_type": "markdown",
   "metadata": {},
   "source": [
    "# Python函数"
   ]
  },
  {
   "cell_type": "raw",
   "metadata": {},
   "source": [
    "认识函数\n",
    "形参与实参\n",
    "全局变量与局部变量\n",
    "函数的使用与返回值\n",
    "文档字符串"
   ]
  },
  {
   "cell_type": "markdown",
   "metadata": {},
   "source": [
    "## 1、认识函数"
   ]
  },
  {
   "cell_type": "markdown",
   "metadata": {},
   "source": [
    "### 什么是函数"
   ]
  },
  {
   "cell_type": "code",
   "execution_count": 3,
   "metadata": {},
   "outputs": [
    {
     "data": {
      "text/plain": [
       "4"
      ]
     },
     "execution_count": 3,
     "metadata": {},
     "output_type": "execute_result"
    }
   ],
   "source": [
    "a = 'abc'\n",
    "len(a)\n",
    "len\n",
    "len('abcd')"
   ]
  },
  {
   "cell_type": "code",
   "execution_count": 4,
   "metadata": {},
   "outputs": [
    {
     "data": {
      "text/plain": [
       "40"
      ]
     },
     "execution_count": 4,
     "metadata": {},
     "output_type": "execute_result"
    }
   ],
   "source": [
    "b = len('abciguaoijgodsajgosjojsfojsaofjdsao')\n",
    "b"
   ]
  },
  {
   "cell_type": "markdown",
   "metadata": {},
   "source": [
    "函数的英文是function，所以，通俗地来讲，函数就是功能的意思。函数是用来封装特定功能的，比如，在Python里面，len()是一个函数，len()这个函数实现的功能是返回一个字符串的长度，所以说len()这个函数他的特定功能就是返回长度，再比如，我们可以自己定义一个函数，然后编写这个函数的功能，之后要使用的时候再调用这个函数。所以函数分为两种类型，一种是系统自带的不用我们编写其功能系统自己就有的，比如len()这种函数，另一种函数是我们自定义的，需要我们编写其功能的，这种函数自由度高，叫做自定义函数，需要使用的时候直接调用该函数。\n"
   ]
  },
  {
   "cell_type": "markdown",
   "metadata": {},
   "source": [
    "### 函数的功能"
   ]
  },
  {
   "cell_type": "markdown",
   "metadata": {},
   "source": [
    "Python中我们上个知识点已经给大家讲过，其函数的核心就是功能，所以这个知识点我们对函数功能进行细讲。不同的函数可以实现不同的功能，我们可以利用系统自带的函数实现特定的功能，优点是非常方便，不用我们自己去写实现功能的对应的代码，但系统自带的函数其功能是系统已经写好的，所以比较死板，自由度低，比如len()这个函数他的功能是去字符串的长度，那么他的功能就仅仅只是取字符串强度，不能变成其他的功能。我们还可以使用自己定义的函数，自己定义的函数可以实现自己想要他实现的指定的功能，程序的功能可以由自己去自由改写，所以其灵活度很高。我们下面通过实例来讲一下函数的功能。\n"
   ]
  },
  {
   "cell_type": "code",
   "execution_count": 5,
   "metadata": {},
   "outputs": [
    {
     "data": {
      "text/plain": [
       "2"
      ]
     },
     "execution_count": 5,
     "metadata": {},
     "output_type": "execute_result"
    }
   ],
   "source": [
    "#1.实现取字符串长度的功能\n",
    "a = \"as\"\n",
    "len(a)"
   ]
  },
  {
   "cell_type": "code",
   "execution_count": 4,
   "metadata": {},
   "outputs": [
    {
     "name": "stdout",
     "output_type": "stream",
     "text": [
      "['st', 'dent']\n"
     ]
    },
    {
     "data": {
      "text/plain": [
       "['BAIDUID=8D582D2CC9D71AA00BAEBB9A6F1A4D45:FG=1',\n",
       " ' BIDUPSID=8D582D2CC9D71AA00BAEBB9A6F1A4D45',\n",
       " ' PSTM=1517991553',\n",
       " ' BDUSS=XpKdE5HQ3QyM2JnaTdLbFc0Si0yVk9mZHhNOHMtQU9DcTV2cFlYRkJ3Q1lTYU5hQVFBQUFBJCQAAAAAAAAAAAEAAAC1SrQNxP2-29D6z~kAAAAAAAAAAAAAAAAAAAAAAAAAAAAAAAAAAAAAAAAAAAAAAAAAAAAAAAAAAAAAAAAAAAAAAAAAAJi8e1qYvHtaZ',\n",
       " ' BD_UPN=12314353',\n",
       " ' ispeed_lsm=0',\n",
       " ' MCITY=-257%3A',\n",
       " ' BDORZ=B490B5EBF6F3CD402E515D22BCDA1598',\n",
       " ' BD_HOME=1',\n",
       " ' H_PS_PSSID=1455_21119_22073']"
      ]
     },
     "execution_count": 4,
     "metadata": {},
     "output_type": "execute_result"
    }
   ],
   "source": [
    "#2.实现字符串的切割\n",
    "a = \"student\"\n",
    "b = a.split(\"u\")\n",
    "print (b)\n",
    "str1 = 'BAIDUID=8D582D2CC9D71AA00BAEBB9A6F1A4D45:FG=1; BIDUPSID=8D582D2CC9D71AA00BAEBB9A6F1A4D45; PSTM=1517991553; BDUSS=XpKdE5HQ3QyM2JnaTdLbFc0Si0yVk9mZHhNOHMtQU9DcTV2cFlYRkJ3Q1lTYU5hQVFBQUFBJCQAAAAAAAAAAAEAAAC1SrQNxP2-29D6z~kAAAAAAAAAAAAAAAAAAAAAAAAAAAAAAAAAAAAAAAAAAAAAAAAAAAAAAAAAAAAAAAAAAAAAAAAAAJi8e1qYvHtaZ; BD_UPN=12314353; ispeed_lsm=0; MCITY=-257%3A; BDORZ=B490B5EBF6F3CD402E515D22BCDA1598; BD_HOME=1; H_PS_PSSID=1455_21119_22073'\n",
    "result = str1.split(';')\n",
    "result"
   ]
  },
  {
   "cell_type": "markdown",
   "metadata": {},
   "source": [
    "### Python里函数的定义"
   ]
  },
  {
   "cell_type": "markdown",
   "metadata": {},
   "source": [
    "在Python中要想使用自定义函数，就得首先定义一个函数，定义一个函数包括两个部分的含义，第一个含义是申明这个指定的部分是函数，而不是其他的对象，第二个含义是要定义这个函数所包含的功能，也就是要编写这个函数的功能。下面我们通过实例来讲解一下函数的定义。\n"
   ]
  },
  {
   "cell_type": "raw",
   "metadata": {},
   "source": [
    "def 函数名（）：\n",
    "    函数内容;函数内容\n",
    "    函数内容;函数内容\n",
    "\n"
   ]
  },
  {
   "cell_type": "code",
   "execution_count": 1,
   "metadata": {},
   "outputs": [
    {
     "name": "stdout",
     "output_type": "stream",
     "text": [
      "['__annotations__', '__call__', '__class__', '__closure__', '__code__', '__defaults__', '__delattr__', '__dict__', '__dir__', '__doc__', '__eq__', '__format__', '__ge__', '__get__', '__getattribute__', '__globals__', '__gt__', '__hash__', '__init__', '__init_subclass__', '__kwdefaults__', '__le__', '__lt__', '__module__', '__name__', '__ne__', '__new__', '__qualname__', '__reduce__', '__reduce_ex__', '__repr__', '__setattr__', '__sizeof__', '__str__', '__subclasshook__']\n"
     ]
    },
    {
     "data": {
      "text/plain": [
       "'helloworld'"
      ]
     },
     "execution_count": 1,
     "metadata": {},
     "output_type": "execute_result"
    }
   ],
   "source": [
    "def fn():\n",
    "    return 'helloworld'\n",
    "\n",
    "print(dir(fn))\n",
    "# fn.__repr__()\n",
    "# print(fn)\n",
    "\n",
    "#匿名函数有很多限制。不能javascrip那样。\n",
    "# fn = lambda :'helloWorld'\n",
    "# fn()\n",
    "\n",
    "fn()"
   ]
  },
  {
   "cell_type": "code",
   "execution_count": 3,
   "metadata": {},
   "outputs": [],
   "source": [
    "#实例\n",
    "def function1(a):\n",
    "    b = 9\n",
    "    a = b + a\n",
    "    print (a)\n",
    "    \n",
    "def xinYongCard(score):\n",
    "    if score > 3000:\n",
    "        print('拥有兑换水瓶')\n",
    "    elif score > 10000:\n",
    "        print('拥有兑换东南亚三日游')\n",
    "    else:\n",
    "        print('请多刷信用卡')\n",
    "        "
   ]
  },
  {
   "cell_type": "code",
   "execution_count": 12,
   "metadata": {},
   "outputs": [
    {
     "name": "stdout",
     "output_type": "stream",
     "text": [
      "55\n",
      "5050\n",
      "20100\n",
      "5050\n",
      "55\n",
      "55\n"
     ]
    }
   ],
   "source": [
    "### 1+2+3+5+6+...+n\n",
    "#1+2+3...+10\n",
    "allNum = 0\n",
    "for i in range(1,11):\n",
    "    allNum = allNum + i;\n",
    "print(allNum)\n",
    "\n",
    "\n",
    "#1+2+3...+100\n",
    "allNum = 0\n",
    "for i in range(1,101):\n",
    "    allNum = allNum + i;\n",
    "print(allNum)\n",
    "\n",
    "\n",
    "#写一个可以调用的函数，只要传入一个参数N,就可以返回1+2+3+5+6+...+n的结果\n",
    "def addNum(n):\n",
    "    allNum = 0\n",
    "    for i in range(1,n+1):\n",
    "        allNum = allNum + i;\n",
    "    print(allNum)\n",
    "    return allNum\n",
    "    #return None\n",
    "\n",
    "addNum(200)\n",
    "addNum(100)\n",
    "bb = addNum(10)\n",
    "print(bb)\n",
    "\n",
    "#def 函数名（函数的参数）：\n",
    "    #缩进一个TAB按键的代码块"
   ]
  },
  {
   "cell_type": "markdown",
   "metadata": {},
   "source": [
    "## 2、形参与实参"
   ]
  },
  {
   "cell_type": "markdown",
   "metadata": {},
   "source": [
    "### 函数中参数的概念"
   ]
  },
  {
   "cell_type": "markdown",
   "metadata": {},
   "source": [
    "上节课我们已经知道了，Python中函数的功能是实现一项或多项功能，但是，比如我们的函数len(),虽然他的功能是取字符串长度，但是如果仅仅只是len()，他是没有实际意义的，因为我们并没有说他要取哪个字符串的长度，如果我们要让他有实际意义，就必须将某个字符串放进这个函数里面，比如我们要取字符串\"abcdm\"的长度，我们就要将\"abcdm\"放进len()这个函数里面，变成len(\"abcdm\")，那么这样我们的len()函数才有实际意义。我们把括号里面的\"abcdm\"称为函数的参数。那么我们可以发现，参数是函数在执行功能时所要用到的数据。下面我们通过实例来讲解一下Python函数中参数的实例。\n"
   ]
  },
  {
   "cell_type": "code",
   "execution_count": 4,
   "metadata": {},
   "outputs": [
    {
     "name": "stdout",
     "output_type": "stream",
     "text": [
      "5\n"
     ]
    }
   ],
   "source": [
    "#print len()\n",
    "\n",
    "a=\"abcdm\"\n",
    "print (len(a))"
   ]
  },
  {
   "cell_type": "code",
   "execution_count": 29,
   "metadata": {},
   "outputs": [
    {
     "name": "stdout",
     "output_type": "stream",
     "text": [
      "a: 4\n",
      "b: 5\n",
      "3\n",
      "4\n"
     ]
    }
   ],
   "source": [
    "def fn(a,b):\n",
    "    a = a +1 \n",
    "    b = b +1\n",
    "    print('a:',a)\n",
    "    print('b:',b)\n",
    "\n",
    "    \n",
    "t = 3\n",
    "y = 4\n",
    "\n",
    "fn(t,y)\n",
    "print(t)\n",
    "print(y)"
   ]
  },
  {
   "cell_type": "code",
   "execution_count": 8,
   "metadata": {},
   "outputs": [
    {
     "name": "stdout",
     "output_type": "stream",
     "text": [
      "a: {'num': 3}\n",
      "b: {'num': 2}\n",
      "{'num': 3}\n",
      "{'num': 2}\n"
     ]
    }
   ],
   "source": [
    "def fn(a,b):\n",
    "    a['num'] = a['num'] +1 \n",
    "    a['num'] = b['num'] +1\n",
    "    print('a:',a)\n",
    "    print('b:',b)\n",
    "\n",
    "    \n",
    "t = {'num':1}\n",
    "y = {'num':2}\n",
    "\n",
    "fn(t,y)\n",
    "print(t)\n",
    "print(y)"
   ]
  },
  {
   "cell_type": "code",
   "execution_count": 9,
   "metadata": {},
   "outputs": [
    {
     "data": {
      "text/plain": [
       "'helloWorld'"
      ]
     },
     "execution_count": 9,
     "metadata": {},
     "output_type": "execute_result"
    }
   ],
   "source": [
    "def fn(a,b):\n",
    "    return 'helloWorld'\n",
    "fn(1,2)"
   ]
  },
  {
   "cell_type": "markdown",
   "metadata": {},
   "source": [
    "### 什么是形参"
   ]
  },
  {
   "cell_type": "markdown",
   "metadata": {},
   "source": [
    "上面我们已经知道，在Python中函数是有参数的，函数的参数有两种，一种是实参，一种是形参。那么首先我们来学习形参，什么是形参呢？形参一般发生在函数定义的过程中，形参一般是指参数的名称，而不代表函数的值，他仅仅只是形式上的函\n",
    "数，仅仅只标明一个函数里面，哪个位置有哪个名称的参数而已。下面我们通过实例来了解一下形参。\n"
   ]
  },
  {
   "cell_type": "code",
   "execution_count": 6,
   "metadata": {
    "collapsed": true
   },
   "outputs": [],
   "source": [
    "#什么是形参\n",
    "def function1(a, b):\n",
    "    if a > b:\n",
    "        print (a)\n",
    "    else:\n",
    "        print (b)"
   ]
  },
  {
   "cell_type": "code",
   "execution_count": 7,
   "metadata": {},
   "outputs": [
    {
     "name": "stdout",
     "output_type": "stream",
     "text": [
      "12\n"
     ]
    }
   ],
   "source": [
    "function1(12, 10)"
   ]
  },
  {
   "cell_type": "markdown",
   "metadata": {},
   "source": [
    "### 什么是实参"
   ]
  },
  {
   "cell_type": "markdown",
   "metadata": {},
   "source": [
    "上面我们已经知道，在Python中函数的参数有形参和实参的区分，形参一般在函数定义的时候出现，那么什么是函数的实参呢？实参跟形参刚好互相弥补，实参一般是在函数调用时出现，实参一般指的是参数具体的值。下面我们通过实例讲解一下什么是函数的实参，以及总结一下函数实参与形参的区别。\n"
   ]
  },
  {
   "cell_type": "code",
   "execution_count": 5,
   "metadata": {},
   "outputs": [
    {
     "name": "stdout",
     "output_type": "stream",
     "text": [
      "3\n"
     ]
    }
   ],
   "source": [
    "#什么是实参\n",
    "def function1(a,b):\n",
    "    if a>b:\n",
    "        print (a)\n",
    "    else:\n",
    "        print (b)\n",
    "function1(1,3)"
   ]
  },
  {
   "cell_type": "markdown",
   "metadata": {},
   "source": [
    "### 参数的传递"
   ]
  },
  {
   "cell_type": "markdown",
   "metadata": {},
   "source": [
    "在Python中函数在调用的过程中参数的传递使用顺序的，下面我们通过实例来讲解一下参数的传递。\n"
   ]
  },
  {
   "cell_type": "code",
   "execution_count": 6,
   "metadata": {},
   "outputs": [
    {
     "data": {
      "text/plain": [
       "8"
      ]
     },
     "execution_count": 6,
     "metadata": {},
     "output_type": "execute_result"
    }
   ],
   "source": [
    "#参数的传递\n",
    "#第一中，最简单的传递：按位置传递\n",
    "def function(a, b):\n",
    "    if a > b:\n",
    "        #print \"前面这个数大于后面这个数\"\n",
    "        return a\n",
    "    else:\n",
    "        #print \"后面这个数比较大\"\n",
    "        return b\n",
    "     \n",
    "max = function(7,8)\n",
    "max"
   ]
  },
  {
   "cell_type": "code",
   "execution_count": 17,
   "metadata": {},
   "outputs": [
    {
     "name": "stdout",
     "output_type": "stream",
     "text": [
      "52\n",
      "0\n"
     ]
    },
    {
     "data": {
      "text/plain": [
       "[]"
      ]
     },
     "execution_count": 17,
     "metadata": {},
     "output_type": "execute_result"
    }
   ],
   "source": [
    "#m-n,m=3,n=10,3+4+5+...+10的结果\n",
    "def addNum(m,n):\n",
    "    allNum = 0\n",
    "    for i in range(m,n+1):\n",
    "        allNum = allNum + i;\n",
    "    print(allNum)\n",
    "    return allNum\n",
    "\n",
    "# list(range(3,11))\n",
    "addNum(3,10)\n",
    "addNum(10,3)\n",
    "\n",
    "#list(range(10,4))"
   ]
  },
  {
   "cell_type": "markdown",
   "metadata": {},
   "source": [
    "### 关键字参数"
   ]
  },
  {
   "cell_type": "markdown",
   "metadata": {},
   "source": [
    "在Python中一个函数中出现多个参数的时候，我们可以通过参数的名字直接给我们的参数赋值，那么这些参数称之为关键字参数，下面我们通过实例来讲解一下。\n"
   ]
  },
  {
   "cell_type": "code",
   "execution_count": 15,
   "metadata": {},
   "outputs": [
    {
     "name": "stdout",
     "output_type": "stream",
     "text": [
      "1\n",
      "4\n",
      "2\n"
     ]
    }
   ],
   "source": [
    "#第二种，赋值传递:关键字参数\n",
    "a=9\n",
    "b=10\n",
    "c=1\n",
    "def function(add=0,b=0,c=0):\n",
    "    print (add)\n",
    "    print (b)\n",
    "    print (c)\n",
    "    \n",
    "\n",
    "# function(add,b=b,c=c)\n",
    "# function(b=7,add=8)\n",
    "# function(5,c=2,b=3)\n",
    "function(b=4,c=2,add=1)"
   ]
  },
  {
   "cell_type": "code",
   "execution_count": 39,
   "metadata": {},
   "outputs": [
    {
     "name": "stdout",
     "output_type": "stream",
     "text": [
      "2\n",
      "4\n",
      "3\n"
     ]
    }
   ],
   "source": [
    "def fn(a,b,c):\n",
    "    print(a)\n",
    "    print(b)\n",
    "    print(c)\n",
    "fn(b=4,c=3,a=2)\n",
    "# print(b)"
   ]
  },
  {
   "cell_type": "code",
   "execution_count": 19,
   "metadata": {},
   "outputs": [
    {
     "name": "stdout",
     "output_type": "stream",
     "text": [
      "老王是成年人\n",
      "老王是成年人\n"
     ]
    }
   ],
   "source": [
    "studentname=\"老王\"\n",
    "studentage = 18\n",
    "stduentsex = 'man'\n",
    "\n",
    "def isAdult(name,age,sex):\n",
    "    if age>=18:\n",
    "        print(name+'是成年人')\n",
    "    else:\n",
    "        print(name+'是未成年人')\n",
    "\n",
    "isAdult(name=studentname,age=studentage,sex=stduentsex)\n",
    "isAdult(name=studentname,sex=stduentsex,age=studentage)"
   ]
  },
  {
   "cell_type": "code",
   "execution_count": 16,
   "metadata": {},
   "outputs": [
    {
     "name": "stdout",
     "output_type": "stream",
     "text": [
      "2\n",
      "2\n",
      "3\n"
     ]
    }
   ],
   "source": [
    "'''但是要注意，顺序打乱后，必须使用关键字参数'''\n",
    "function(2, b=2,c=3)"
   ]
  },
  {
   "cell_type": "code",
   "execution_count": 41,
   "metadata": {},
   "outputs": [
    {
     "name": "stdout",
     "output_type": "stream",
     "text": [
      "{'a': 3, 'b': 4, 'c': 5}\n"
     ]
    }
   ],
   "source": [
    "# def fn(*abc):\n",
    "#     print(abc)\n",
    "# fn(1,2,3)\n",
    "\n",
    "def fn(**abc):\n",
    "    print(abc)\n",
    "\n",
    "fn(a=3,b=4,c=5)"
   ]
  },
  {
   "cell_type": "markdown",
   "metadata": {},
   "source": [
    "## 3、全局变量与局部变量"
   ]
  },
  {
   "cell_type": "markdown",
   "metadata": {},
   "source": [
    "### 什么是作用域"
   ]
  },
  {
   "cell_type": "markdown",
   "metadata": {},
   "source": [
    "Python中一个变量的是在一定的范围内起作用的，在其起作用的这个范围我们称之为作用域。下面我们通过实例来讲解一下作用域。\n"
   ]
  },
  {
   "cell_type": "code",
   "execution_count": 47,
   "metadata": {},
   "outputs": [
    {
     "name": "stdout",
     "output_type": "stream",
     "text": [
      "4\n",
      "0\n"
     ]
    }
   ],
   "source": [
    "#作用域\n",
    "\n",
    "i = 0\n",
    "\n",
    "def func():\n",
    "    i = 4\n",
    "    print(i)\n",
    "\n",
    "    \n",
    "func()\n",
    "print(i)\n",
    "# j = 9\n",
    "# #print (i\n",
    "# print (j)"
   ]
  },
  {
   "cell_type": "code",
   "execution_count": 30,
   "metadata": {},
   "outputs": [
    {
     "name": "stdout",
     "output_type": "stream",
     "text": [
      "['波多老师', '仓老师']\n"
     ]
    }
   ],
   "source": [
    "teacher = '仓老师'\n",
    "\n",
    "def showTeacher():\n",
    "    global teacher\n",
    "    teacher1 = '波多老师'\n",
    "    teacher2 = '仓老师'\n",
    "    #print(teacher)\n",
    "    return [teacher1,teacher2]\n",
    "\n",
    "# showTeacher()\n",
    "# print(teacher)\n",
    "#函数内部申明的变量是函数内部的局部变量，外界是不可用的。\n",
    "#函数一开始寻找变量名的时候，首先回去函数内部找这个局部变量，如果找不到，那么会去外部去找全局变量\n",
    "#如果要在函数内部定义全局变量，需要在变量名前面追加关键词global\n",
    "\n",
    "\n",
    "student = showTeacher()\n",
    "print(student)"
   ]
  },
  {
   "cell_type": "markdown",
   "metadata": {},
   "source": [
    "### 局部变量"
   ]
  },
  {
   "cell_type": "markdown",
   "metadata": {},
   "source": [
    "在Python中作用域在一定范围内而非全局都起作用的变量，我们将其称之为局部变量。在一个函数中，我们的变量如果没有进行全局变量申明，他默认就是一个局部变量。下面我们通过实例来认识一下局部变量。\n"
   ]
  },
  {
   "cell_type": "code",
   "execution_count": 13,
   "metadata": {},
   "outputs": [
    {
     "name": "stdout",
     "output_type": "stream",
     "text": [
      "7\n",
      "3\n"
     ]
    }
   ],
   "source": [
    "#局部变量\n",
    "i = 3\n",
    "def func2():\n",
    "    i = 7\n",
    "    print (i)\n",
    "\n",
    "func2()\n",
    "print (i)"
   ]
  },
  {
   "cell_type": "markdown",
   "metadata": {},
   "source": [
    "### 全局变量"
   ]
  },
  {
   "cell_type": "markdown",
   "metadata": {},
   "source": [
    "在Python中如果我们想让某些变量的作用域为全局，也就是作用在程序的全部的地方，那么我们就要对这个变量进行全局声明，声明后这个变量就成了全局变量。下面我们通过实例来讲解一下我们的全局变量。\n"
   ]
  },
  {
   "cell_type": "code",
   "execution_count": 15,
   "metadata": {},
   "outputs": [
    {
     "name": "stdout",
     "output_type": "stream",
     "text": [
      "7\n",
      "7\n"
     ]
    }
   ],
   "source": [
    "#全局变量\n",
    "def func3():\n",
    "    global i2\n",
    "    i2 = 7\n",
    "    print (i2)\n",
    "i2 = 9\n",
    "func3()\n",
    "print (i2)"
   ]
  },
  {
   "cell_type": "markdown",
   "metadata": {},
   "source": [
    "### 4、函数的使用与返回值"
   ]
  },
  {
   "cell_type": "markdown",
   "metadata": {},
   "source": [
    "### 函数的调用"
   ]
  },
  {
   "cell_type": "markdown",
   "metadata": {},
   "source": [
    "我们在程序运行时，要想执行某个函数，就需要调用这个函数。那么下面我们通过实例来讲解一下我们的函数如何调用。\n"
   ]
  },
  {
   "cell_type": "markdown",
   "metadata": {},
   "source": [
    "函数的调用我们已经接触过了多次，要想调用一个函数，\n",
    "在函数定以后，直接输一遍这个函数名即可，如果要传\n",
    "递实参到函数里面执行，直接在调用的时候括号里面输\n",
    "入实参即可。比如一个函数是def func3()：这样定\n",
    "义的,那么我们调用它直接输入func3(参数)即可。其\n",
    "中参数可以省略。"
   ]
  },
  {
   "cell_type": "code",
   "execution_count": 29,
   "metadata": {},
   "outputs": [
    {
     "name": "stdout",
     "output_type": "stream",
     "text": [
      "7\n"
     ]
    }
   ],
   "source": [
    "def a(j):\n",
    "    i = 1\n",
    "    #print(i+j)\n",
    "    return (i +j)\n",
    "    \n",
    "b = a(6)\n",
    "print(b)"
   ]
  },
  {
   "cell_type": "markdown",
   "metadata": {},
   "source": [
    "### 函数的返回值"
   ]
  },
  {
   "cell_type": "markdown",
   "metadata": {},
   "source": [
    "在Python中有的函数是有返回值的，有的函数是没有返回值的。而有返回值的函数，我们让函数可以返回一个值，也可以让函数返回多个值。下面我们通过实例来讲解一下函数的返回值。\n"
   ]
  },
  {
   "cell_type": "code",
   "execution_count": 13,
   "metadata": {},
   "outputs": [
    {
     "data": {
      "text/plain": [
       "True"
      ]
     },
     "execution_count": 13,
     "metadata": {},
     "output_type": "execute_result"
    }
   ],
   "source": [
    "# 函数返回值\n",
    "'''函数的返回值是通过return语句来实现的'''\n",
    "# 一个返回值的情况\n",
    "def test():\n",
    "    i = 7\n",
    "    return i\n",
    "\n",
    "test() == 7"
   ]
  },
  {
   "cell_type": "code",
   "execution_count": 31,
   "metadata": {},
   "outputs": [
    {
     "name": "stdout",
     "output_type": "stream",
     "text": [
      "(6, 7, 42)\n"
     ]
    }
   ],
   "source": [
    "# 多个返回值的情况\n",
    "def test2(i, j):\n",
    "    k = i * j\n",
    "    return i, j, k\n",
    "\n",
    "a ,b , c = test2(4, 5)\n",
    "test2(3,4)\n",
    "print(test2(6,7))"
   ]
  },
  {
   "cell_type": "code",
   "execution_count": 52,
   "metadata": {},
   "outputs": [
    {
     "name": "stdout",
     "output_type": "stream",
     "text": [
      "Help on function fn in module __main__:\n",
      "\n",
      "fn()\n",
      "    这是一个函数，参数a是干嘛的，参数b是干嘛\n",
      "\n"
     ]
    },
    {
     "data": {
      "text/plain": [
       "'\\n    这是一个函数，参数a是干嘛的，参数b是干嘛\\n    '"
      ]
     },
     "execution_count": 52,
     "metadata": {},
     "output_type": "execute_result"
    }
   ],
   "source": [
    "# type(test2(4,5))\n",
    "\n",
    "\n",
    "# def fn():\n",
    "#     return 'hello'\n",
    "\n",
    "# type(fn)\n",
    "\n",
    "\n",
    "\n",
    "def fn():\n",
    "    '''\n",
    "    这是一个函数，参数a是干嘛的，参数b是干嘛\n",
    "    '''\n",
    "    return 'helloWorld'\n",
    "\n",
    "help(fn)\n",
    "fn.__doc__"
   ]
  },
  {
   "cell_type": "markdown",
   "metadata": {},
   "source": [
    "## 5、文档字符串"
   ]
  },
  {
   "cell_type": "markdown",
   "metadata": {},
   "source": [
    "### 什么是文档字符串"
   ]
  },
  {
   "cell_type": "markdown",
   "metadata": {},
   "source": [
    "Python中我们可以定义很多很多的函数，而函数一多，对于我们开发人员来说，如果遇到太多的函数而没有进行深入了解这个程序，就会感觉很乱了，是一件非常头疼的事情，如果要想知道各个函数到底是做什么的，就得从头分析，很费时间。所以针对函数多了就会杂乱这个问题，我们有两种方式可以解决，第一种是在开发的时候为每个函数写一个文档进行说明，第二种是在Python中所特有的特性，就是在每个函数开头的地方，加上一行说明性文字，那么这行说明性文字我们就将其称为文档字符串。这样，我们在看到一个函数的时候，因为其有文档字符串进行说明，因为在编写程序的时候就可以直接编写文档字符串进行说明，很方便，也很清晰。\n"
   ]
  },
  {
   "cell_type": "markdown",
   "metadata": {},
   "source": [
    "### 文档字符串使用详解"
   ]
  },
  {
   "cell_type": "markdown",
   "metadata": {},
   "source": [
    "下面我们通过实例来讲解一下Python中文档字符串的详细使用"
   ]
  },
  {
   "cell_type": "code",
   "execution_count": 35,
   "metadata": {},
   "outputs": [
    {
     "name": "stdout",
     "output_type": "stream",
     "text": [
      "Help on function d in module __main__:\n",
      "\n",
      "d(i, j)\n",
      "    这个函数实现一个乘法运算。\n",
      "    \n",
      "    函数会返回一个乘法运算的结果。\n",
      "    这个秘诀\n",
      "\n",
      "Help on built-in function len in module builtins:\n",
      "\n",
      "len(obj, /)\n",
      "    Return the number of items in a container.\n",
      "\n"
     ]
    }
   ],
   "source": [
    "#文档字符串\n",
    "def d(i, j):\n",
    "    '''这个函数实现一个乘法运算。\n",
    "    函数会返回一个乘法运算的结果。\n",
    "    这个秘诀\n",
    "    \n",
    "    '''\n",
    "    k = i * j\n",
    "    return k\n",
    "\n",
    "#print (d.__doc__)\n",
    "\n",
    "help(d)\n",
    "help(len)"
   ]
  },
  {
   "cell_type": "code",
   "execution_count": 31,
   "metadata": {},
   "outputs": [
    {
     "name": "stdout",
     "output_type": "stream",
     "text": [
      "Help on built-in function len in module builtins:\n",
      "\n",
      "len(obj, /)\n",
      "    Return the number of items in a container.\n",
      "\n"
     ]
    }
   ],
   "source": [
    "help(len)"
   ]
  },
  {
   "cell_type": "code",
   "execution_count": 33,
   "metadata": {},
   "outputs": [
    {
     "name": "stdout",
     "output_type": "stream",
     "text": [
      "Help on function addNum in module __main__:\n",
      "\n",
      "addNum(m, n)\n",
      "    addNum是一个函数，可以做到从数字M开始一直加到N，类似与M+(M+1)+(M+2)+...+N\n",
      "    addNum要传2个参数\n",
      "\n"
     ]
    },
    {
     "data": {
      "text/plain": [
       "18875"
      ]
     },
     "execution_count": 33,
     "metadata": {},
     "output_type": "execute_result"
    }
   ],
   "source": [
    "def addNum(m,n):\n",
    "    '''\n",
    "    addNum是一个函数，可以做到从数字M开始一直加到N，类似与M+(M+1)+(M+2)+...+N\n",
    "    addNum要传2个参数\n",
    "    '''\n",
    "    allNum = 0\n",
    "    for i in range(m,n+1):\n",
    "        allNum = allNum + i;\n",
    "    return allNum\n",
    "\n",
    "help(addNum)\n",
    "addNum(50,200)"
   ]
  },
  {
   "cell_type": "markdown",
   "metadata": {
    "collapsed": true
   },
   "source": [
    "### 课堂练习\n",
    "* 输入一个班级学生数学成绩的列表，输出一个字典，里面还有班级学生的数学的平均值，最高分是谁，多少分，最低分是谁，多少分，及格人数多少人？"
   ]
  },
  {
   "cell_type": "code",
   "execution_count": 40,
   "metadata": {},
   "outputs": [
    {
     "data": {
      "text/plain": [
       "{'avg': 74.14285714285714,\n",
       " 'jigerenshu': 5,\n",
       " 'max': {'name': 'xiaoli', 'score': 98},\n",
       " 'min': {'name': 'xiaowang', 'score': 46}}"
      ]
     },
     "execution_count": 40,
     "metadata": {},
     "output_type": "execute_result"
    }
   ],
   "source": [
    "# mathList = [\n",
    "#     {'name':'xiaoming','score':88},\n",
    "#     {'name':'xiaohong','score':78},\n",
    "#     {'name':'xiaohei','score':68},\n",
    "#     {'name':'xiaobai','score':58},\n",
    "#     {'name':'xiaoli','score':98},\n",
    "#     {'name':'xiaowang','score':46},\n",
    "#     {'name':'xiaoliu','score':83}\n",
    "# ]\n",
    "# output = {\n",
    "#     'avg':88,\n",
    "#     'max':{'name':'xiaohei','score':88},\n",
    "#     'min':{'name':'xiaohei','score':88},\n",
    "#     'jigerenshu':4\n",
    "# }\n",
    "\n",
    "#abc(mathList)\n",
    "\n",
    "def abc(mathList):\n",
    "    arr = []\n",
    "    maxNum = 0\n",
    "    minNum = 100\n",
    "    jigerenshu = 0\n",
    "    allScore = 0\n",
    "    max1 = {}\n",
    "    min1 = {}\n",
    "    for item in mathList:\n",
    "        arr.append(item['score'])\n",
    "        if maxNum < item['score']:\n",
    "            maxNum = item['score']\n",
    "            max1 = item\n",
    "        if minNum > item['score']:\n",
    "            minNum = item['score']\n",
    "            min1 = item\n",
    "            \n",
    "        if item['score']>=60:\n",
    "            jigerenshu = jigerenshu+1\n",
    "        \n",
    "        allScore = allScore + item['score']\n",
    "    avg = allScore/len(mathList)\n",
    "    return {\n",
    "        'avg':avg,\n",
    "        'max':max1,\n",
    "        'min':min1,\n",
    "        'jigerenshu':jigerenshu\n",
    "    }\n",
    "    \n",
    "    \n",
    "    \n",
    "    \n",
    "    \n",
    "    \n",
    "#help(list)\n",
    "abc(mathList)\n",
    "\n",
    "\n",
    "\n",
    "    "
   ]
  },
  {
   "cell_type": "code",
   "execution_count": null,
   "metadata": {
    "collapsed": true
   },
   "outputs": [],
   "source": [
    "userList = {\n",
    "    'username':'用户名',\n",
    "    'vipLevel':5,\n",
    "    'time':5000,\n",
    "    'detail':'返回用户的信息'\n",
    "},{\n",
    "    'username':'用户名',\n",
    "    'vipLevel':5,\n",
    "    'time':5000,\n",
    "    'detail':'这个用户的信息'\n",
    "},{\n",
    "    'username':'用户名',\n",
    "    'vipLevel':5,\n",
    "    'time':5000,\n",
    "    'detail':'这个用户的信息'\n",
    "},{\n",
    "    'username':'用户名',\n",
    "    'vipLevel':5,\n",
    "    'time':5000,\n",
    "    'detail':'这个用户的信息'\n",
    "}\n",
    "\n",
    "\n",
    "vipImg = [\n",
    "    'https://ss0.bdstatic.com/70cFuHSh_Q1YnxGkpoWK1HF6hhy/it/u=1110020727,2329798075&fm=200&gp=0.jpg',\n",
    "    'https://ss2.bdstatic.com/70cFvnSh_Q1YnxGkpoWK1HF6hhy/it/u=2451341887,1744270969&fm=200&gp=0.jpg',\n",
    "     'https://ss0.bdstatic.com/70cFuHSh_Q1YnxGkpoWK1HF6hhy/it/u=1110020727,2329798075&fm=200&gp=0.jpg',\n",
    "    'https://ss2.bdstatic.com/70cFvnSh_Q1YnxGkpoWK1HF6hhy/it/u=2451341887,1744270969&fm=200&gp=0.jpg',\n",
    "    'https://ss2.bdstatic.com/70cFvnSh_Q1YnxGkpoWK1HF6hhy/it/u=2451341887,1744270969&fm=200&gp=0.jpg',\n",
    "    \n",
    "]\n",
    "\n",
    "\n",
    "\n",
    "#做一个函数，根据输入用户的名称，返回用户的信息，并且显示相对应等级的图标\n",
    "def userpage(username,vipImg):\n",
    "    global userList\n",
    "    pass\n",
    "\n",
    "\n",
    "from flask import Flask\n",
    "app = Flask(__name__)\n",
    "\n",
    "print(page)\n",
    "@app.route('/')\n",
    "def index():\n",
    "    return userpage(username,vipImg)\n",
    "\n",
    "#输出的HTML:<H1>用户信息</H1><img src='相对应VIP的图片地址'>\n",
    "\n",
    "str1 = '<H1>'+userList['xiaohong']+'</H1><img src=\"'+imgSrc+'\">'\n",
    "str2 = \"<H1>{}</H1><img src='{}'>\".format(userList['xiaohong'],imgSrc)\n",
    "\n",
    "app.run()"
   ]
  },
  {
   "cell_type": "code",
   "execution_count": 2,
   "metadata": {},
   "outputs": [
    {
     "name": "stdout",
     "output_type": "stream",
     "text": [
      "0\n"
     ]
    }
   ],
   "source": [
    "def abc():\n",
    "    return 0\n",
    "\n",
    "a = abc()\n",
    "print(a)\n"
   ]
  },
  {
   "cell_type": "code",
   "execution_count": 5,
   "metadata": {},
   "outputs": [
    {
     "name": "stdout",
     "output_type": "stream",
     "text": [
      "1被判定为真\n"
     ]
    }
   ],
   "source": [
    "if 3:\n",
    "    print('1被判定为真')\n",
    "#条件判断的时候，得到非0的数，就会判断为真"
   ]
  },
  {
   "cell_type": "code",
   "execution_count": 12,
   "metadata": {},
   "outputs": [
    {
     "name": "stdout",
     "output_type": "stream",
     "text": [
      "10\n"
     ]
    }
   ],
   "source": [
    "def abc():\n",
    "    a=3\n",
    "    b=4\n",
    "    return a+b\n",
    "    print(b)\n",
    "    b=5\n",
    "    return b-a\n",
    "\n",
    "\n",
    "abc()\n",
    "#return返回内容后，函数后面的内容不会被执行。\n",
    "def juduizhi(number):\n",
    "    if number>=0:\n",
    "        #print(number)\n",
    "        return number\n",
    "#     print('是负数')\n",
    "    #print(-number)\n",
    "    return -number\n",
    "\n",
    "juduizhi(10)\n",
    "print('a：%s'%a)"
   ]
  },
  {
   "cell_type": "code",
   "execution_count": 4,
   "metadata": {},
   "outputs": [
    {
     "data": {
      "text/plain": [
       "['__repr__',\n",
       " '__call__',\n",
       " '__get__',\n",
       " '__new__',\n",
       " '__closure__',\n",
       " '__doc__',\n",
       " '__globals__',\n",
       " '__module__',\n",
       " '__code__',\n",
       " '__defaults__',\n",
       " '__kwdefaults__',\n",
       " '__annotations__',\n",
       " '__dict__',\n",
       " '__name__',\n",
       " '__qualname__',\n",
       " '__hash__',\n",
       " '__str__',\n",
       " '__getattribute__',\n",
       " '__setattr__',\n",
       " '__delattr__',\n",
       " '__lt__',\n",
       " '__le__',\n",
       " '__eq__',\n",
       " '__ne__',\n",
       " '__gt__',\n",
       " '__ge__',\n",
       " '__init__',\n",
       " '__reduce_ex__',\n",
       " '__reduce__',\n",
       " '__subclasshook__',\n",
       " '__init_subclass__',\n",
       " '__format__',\n",
       " '__sizeof__',\n",
       " '__dir__',\n",
       " '__class__']"
      ]
     },
     "execution_count": 4,
     "metadata": {},
     "output_type": "execute_result"
    }
   ],
   "source": [
    "def abc():\n",
    "    pass\n",
    "\n",
    "abc.__dir__()\n",
    "\n",
    "#所说的标识符"
   ]
  },
  {
   "cell_type": "code",
   "execution_count": 54,
   "metadata": {},
   "outputs": [
    {
     "data": {
      "text/plain": [
       "['ArithmeticError',\n",
       " 'AssertionError',\n",
       " 'AttributeError',\n",
       " 'BaseException',\n",
       " 'BlockingIOError',\n",
       " 'BrokenPipeError',\n",
       " 'BufferError',\n",
       " 'BytesWarning',\n",
       " 'ChildProcessError',\n",
       " 'ConnectionAbortedError',\n",
       " 'ConnectionError',\n",
       " 'ConnectionRefusedError',\n",
       " 'ConnectionResetError',\n",
       " 'DeprecationWarning',\n",
       " 'EOFError',\n",
       " 'Ellipsis',\n",
       " 'EnvironmentError',\n",
       " 'Exception',\n",
       " 'False',\n",
       " 'FileExistsError',\n",
       " 'FileNotFoundError',\n",
       " 'FloatingPointError',\n",
       " 'FutureWarning',\n",
       " 'GeneratorExit',\n",
       " 'IOError',\n",
       " 'ImportError',\n",
       " 'ImportWarning',\n",
       " 'IndentationError',\n",
       " 'IndexError',\n",
       " 'InterruptedError',\n",
       " 'IsADirectoryError',\n",
       " 'KeyError',\n",
       " 'KeyboardInterrupt',\n",
       " 'LookupError',\n",
       " 'MemoryError',\n",
       " 'ModuleNotFoundError',\n",
       " 'NameError',\n",
       " 'None',\n",
       " 'NotADirectoryError',\n",
       " 'NotImplemented',\n",
       " 'NotImplementedError',\n",
       " 'OSError',\n",
       " 'OverflowError',\n",
       " 'PendingDeprecationWarning',\n",
       " 'PermissionError',\n",
       " 'ProcessLookupError',\n",
       " 'RecursionError',\n",
       " 'ReferenceError',\n",
       " 'ResourceWarning',\n",
       " 'RuntimeError',\n",
       " 'RuntimeWarning',\n",
       " 'StopAsyncIteration',\n",
       " 'StopIteration',\n",
       " 'SyntaxError',\n",
       " 'SyntaxWarning',\n",
       " 'SystemError',\n",
       " 'SystemExit',\n",
       " 'TabError',\n",
       " 'TimeoutError',\n",
       " 'True',\n",
       " 'TypeError',\n",
       " 'UnboundLocalError',\n",
       " 'UnicodeDecodeError',\n",
       " 'UnicodeEncodeError',\n",
       " 'UnicodeError',\n",
       " 'UnicodeTranslateError',\n",
       " 'UnicodeWarning',\n",
       " 'UserWarning',\n",
       " 'ValueError',\n",
       " 'Warning',\n",
       " 'WindowsError',\n",
       " 'ZeroDivisionError',\n",
       " '__IPYTHON__',\n",
       " '__build_class__',\n",
       " '__debug__',\n",
       " '__doc__',\n",
       " '__import__',\n",
       " '__loader__',\n",
       " '__name__',\n",
       " '__package__',\n",
       " '__spec__',\n",
       " 'abs',\n",
       " 'all',\n",
       " 'any',\n",
       " 'ascii',\n",
       " 'bin',\n",
       " 'bool',\n",
       " 'bytearray',\n",
       " 'bytes',\n",
       " 'callable',\n",
       " 'chr',\n",
       " 'classmethod',\n",
       " 'compile',\n",
       " 'complex',\n",
       " 'copyright',\n",
       " 'credits',\n",
       " 'delattr',\n",
       " 'dict',\n",
       " 'dir',\n",
       " 'display',\n",
       " 'divmod',\n",
       " 'enumerate',\n",
       " 'eval',\n",
       " 'exec',\n",
       " 'filter',\n",
       " 'float',\n",
       " 'format',\n",
       " 'frozenset',\n",
       " 'get_ipython',\n",
       " 'getattr',\n",
       " 'globals',\n",
       " 'hasattr',\n",
       " 'hash',\n",
       " 'help',\n",
       " 'hex',\n",
       " 'id',\n",
       " 'input',\n",
       " 'int',\n",
       " 'isinstance',\n",
       " 'issubclass',\n",
       " 'iter',\n",
       " 'len',\n",
       " 'license',\n",
       " 'list',\n",
       " 'locals',\n",
       " 'map',\n",
       " 'max',\n",
       " 'memoryview',\n",
       " 'min',\n",
       " 'next',\n",
       " 'object',\n",
       " 'oct',\n",
       " 'open',\n",
       " 'ord',\n",
       " 'pow',\n",
       " 'print',\n",
       " 'property',\n",
       " 'range',\n",
       " 'repr',\n",
       " 'reversed',\n",
       " 'round',\n",
       " 'set',\n",
       " 'setattr',\n",
       " 'slice',\n",
       " 'sorted',\n",
       " 'staticmethod',\n",
       " 'str',\n",
       " 'sum',\n",
       " 'super',\n",
       " 'tuple',\n",
       " 'type',\n",
       " 'vars',\n",
       " 'zip']"
      ]
     },
     "execution_count": 54,
     "metadata": {},
     "output_type": "execute_result"
    }
   ],
   "source": [
    "dir(__builtins__)"
   ]
  },
  {
   "cell_type": "code",
   "execution_count": 55,
   "metadata": {},
   "outputs": [
    {
     "data": {
      "text/plain": [
       "['In',\n",
       " 'Out',\n",
       " '_',\n",
       " '_1',\n",
       " '_15',\n",
       " '_17',\n",
       " '_18',\n",
       " '_2',\n",
       " '_21',\n",
       " '_3',\n",
       " '_4',\n",
       " '_49',\n",
       " '_52',\n",
       " '_53',\n",
       " '_54',\n",
       " '_6',\n",
       " '_9',\n",
       " '__',\n",
       " '___',\n",
       " '__builtin__',\n",
       " '__builtins__',\n",
       " '__doc__',\n",
       " '__loader__',\n",
       " '__name__',\n",
       " '__package__',\n",
       " '__spec__',\n",
       " '_dh',\n",
       " '_i',\n",
       " '_i1',\n",
       " '_i10',\n",
       " '_i11',\n",
       " '_i12',\n",
       " '_i13',\n",
       " '_i14',\n",
       " '_i15',\n",
       " '_i16',\n",
       " '_i17',\n",
       " '_i18',\n",
       " '_i19',\n",
       " '_i2',\n",
       " '_i20',\n",
       " '_i21',\n",
       " '_i22',\n",
       " '_i23',\n",
       " '_i24',\n",
       " '_i25',\n",
       " '_i26',\n",
       " '_i27',\n",
       " '_i28',\n",
       " '_i29',\n",
       " '_i3',\n",
       " '_i30',\n",
       " '_i31',\n",
       " '_i32',\n",
       " '_i33',\n",
       " '_i34',\n",
       " '_i35',\n",
       " '_i36',\n",
       " '_i37',\n",
       " '_i38',\n",
       " '_i39',\n",
       " '_i4',\n",
       " '_i40',\n",
       " '_i41',\n",
       " '_i42',\n",
       " '_i43',\n",
       " '_i44',\n",
       " '_i45',\n",
       " '_i46',\n",
       " '_i47',\n",
       " '_i48',\n",
       " '_i49',\n",
       " '_i5',\n",
       " '_i50',\n",
       " '_i51',\n",
       " '_i52',\n",
       " '_i53',\n",
       " '_i54',\n",
       " '_i55',\n",
       " '_i6',\n",
       " '_i7',\n",
       " '_i8',\n",
       " '_i9',\n",
       " '_ih',\n",
       " '_ii',\n",
       " '_iii',\n",
       " '_oh',\n",
       " 'exit',\n",
       " 'fn',\n",
       " 'func',\n",
       " 'get_ipython',\n",
       " 'i',\n",
       " 'j',\n",
       " 'quit',\n",
       " 't',\n",
       " 'y']"
      ]
     },
     "execution_count": 55,
     "metadata": {},
     "output_type": "execute_result"
    }
   ],
   "source": [
    "dir()"
   ]
  },
  {
   "cell_type": "code",
   "execution_count": null,
   "metadata": {},
   "outputs": [],
   "source": []
  }
 ],
 "metadata": {
  "kernelspec": {
   "display_name": "Python 3",
   "language": "python",
   "name": "python3"
  },
  "language_info": {
   "codemirror_mode": {
    "name": "ipython",
    "version": 3
   },
   "file_extension": ".py",
   "mimetype": "text/x-python",
   "name": "python",
   "nbconvert_exporter": "python",
   "pygments_lexer": "ipython3",
   "version": "3.6.5"
  }
 },
 "nbformat": 4,
 "nbformat_minor": 1
}
