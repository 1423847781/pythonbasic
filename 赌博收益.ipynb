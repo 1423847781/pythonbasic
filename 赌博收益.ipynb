{
 "cells": [
  {
   "cell_type": "code",
   "execution_count": 5,
   "metadata": {},
   "outputs": [
    {
     "data": {
      "text/plain": [
       "0.8194286714112196"
      ]
     },
     "execution_count": 5,
     "metadata": {},
     "output_type": "execute_result"
    }
   ],
   "source": [
    "from random import random\n",
    "random()   #[0,1)"
   ]
  },
  {
   "cell_type": "markdown",
   "metadata": {},
   "source": [
    "## 凯利公式\n",
    "\n",
    "> f* = (bp-q)/b\n",
    "\n",
    "* f*为现有资金应进行下次投注的比例\n",
    "* b为投注可得的赔率\n",
    "* p为获胜率\n",
    "* q为落败率，即 1 - p\n",
    "\n",
    "\n",
    "### 验证凯文凯利公式\n",
    "\n",
    "有4中策略：\n",
    "* 使用凯利公式进行赌博\n",
    "* 最大化的将现有资金作为赌注，投出去\n",
    "* 将现有资金平均分成3份，然后将其中一份作为赌注投出去。\n",
    "* 随意的将现有的资金投注出去\n",
    "初始化资金 10000\n",
    "\n",
    "每个人有20轮机会，最后查看收益，如果有人中途现有资金为0，他将不在进入循环\n",
    "\n",
    "\n",
    "实验100次，查看对比结果。\n",
    "\n",
    "\n",
    "\n"
   ]
  },
  {
   "cell_type": "code",
   "execution_count": 26,
   "metadata": {},
   "outputs": [
    {
     "name": "stdout",
     "output_type": "stream",
     "text": [
      "m1: 10126.378377937886\n",
      "m2: 0.0\n",
      "m3: 24995.150501322736\n",
      "m4: 0.0001319866111611794\n"
     ]
    }
   ],
   "source": [
    "from random import random\n",
    "\n",
    "def celie1(money,b,p):\n",
    "    #f为要投注的钱\n",
    "    f = (b*p-(1-p))/b\n",
    "    #r随机值，是否是在获胜的概率里\n",
    "    r = random()\n",
    "    if r<p:\n",
    "        return f*b+money\n",
    "    else:\n",
    "        return money - f\n",
    "        \n",
    "    \n",
    "def celie2(money,b,p):\n",
    "    r = random()\n",
    "    if r<p:\n",
    "        return money*b+money\n",
    "    else:\n",
    "        return 0\n",
    "\n",
    "def celie3(money,b,p):\n",
    "    r = random()\n",
    "    f = money/3\n",
    "    if r<p:\n",
    "        return f*b+money\n",
    "    else:\n",
    "        return money - f\n",
    "\n",
    "def celie4(money,b,p):\n",
    "    r = random()\n",
    "    f = money*random()\n",
    "    if r<p:\n",
    "        return f*b+money\n",
    "    else:\n",
    "        return money - f\n",
    "    \n",
    "\n",
    "    \n",
    "def kaili():\n",
    "    listMan = [\n",
    "        {\n",
    "            'id':0,\n",
    "            'money':10000\n",
    "        },\n",
    "        {\n",
    "            'id':1,\n",
    "            'money':10000\n",
    "        },\n",
    "        {\n",
    "            'id':2,\n",
    "            'money':10000\n",
    "        },\n",
    "        {\n",
    "            'id':3,\n",
    "            'money':10000\n",
    "        }\n",
    "    ]\n",
    "    for i,value in enumerate(range(100)):\n",
    "        #b为投注可得的赔率\n",
    "        b = random()*2 #[随机的赔率是从0-2]\n",
    "        #p为获胜率\n",
    "        p = random()\n",
    "        \n",
    "        \n",
    "        listMan[0]['money'] =  celie1(listMan[0]['money'],b,p)\n",
    "        listMan[1]['money'] =  celie2(listMan[1]['money'],b,p)\n",
    "        listMan[2]['money'] =  celie3(listMan[2]['money'],b,p)\n",
    "        listMan[3]['money'] =  celie4(listMan[3]['money'],b,p)\n",
    "    return listMan\n",
    "\n",
    "\n",
    "results = {\n",
    "    'm1':0,\n",
    "    'm2':0,\n",
    "    'm3':0,\n",
    "    'm4':0\n",
    "}\n",
    "for i in range(100):\n",
    "#    results.append(kaili())\n",
    "    results['m1'] += kaili()[0]['money']\n",
    "    results['m2'] += kaili()[1]['money']\n",
    "    results['m3'] += kaili()[2]['money']\n",
    "    results['m4'] += kaili()[3]['money']\n",
    "\n",
    "print('m1:' ,results['m1']/100)\n",
    "print('m2:' ,results['m2']/100)\n",
    "print('m3:' ,results['m3']/100)\n",
    "print('m4:' ,results['m4']/100)\n",
    "\n",
    "\n",
    "        \n",
    "\n"
   ]
  },
  {
   "cell_type": "code",
   "execution_count": null,
   "metadata": {},
   "outputs": [],
   "source": []
  },
  {
   "cell_type": "code",
   "execution_count": null,
   "metadata": {},
   "outputs": [],
   "source": []
  }
 ],
 "metadata": {
  "kernelspec": {
   "display_name": "Python 3",
   "language": "python",
   "name": "python3"
  },
  "language_info": {
   "codemirror_mode": {
    "name": "ipython",
    "version": 3
   },
   "file_extension": ".py",
   "mimetype": "text/x-python",
   "name": "python",
   "nbconvert_exporter": "python",
   "pygments_lexer": "ipython3",
   "version": "3.6.5"
  }
 },
 "nbformat": 4,
 "nbformat_minor": 2
}
