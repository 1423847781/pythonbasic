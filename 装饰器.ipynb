{
 "cells": [
  {
   "cell_type": "markdown",
   "metadata": {},
   "source": [
    "### 装饰器\n",
    "由于函数也是一个对象，而且函数对象可以被赋值给变量，所以，通过变量也能调用该函数。"
   ]
  },
  {
   "cell_type": "code",
   "execution_count": 2,
   "metadata": {},
   "outputs": [
    {
     "name": "stdout",
     "output_type": "stream",
     "text": [
      "2015-3-25\n"
     ]
    }
   ],
   "source": [
    "def now():\n",
    "    print('2015-3-25')\n",
    "f = now\n",
    "f()\n",
    "\n",
    "# def abc(fn)\n",
    "#     time0 = nowtime\n",
    "#     fn()\n",
    "#      time1 = nowtime\n",
    "#     return time1 - time0\n",
    "    \n",
    "    \n",
    "# abc(fn)\n",
    "\n",
    "# 不同部门的信息\n",
    "# fn()\n",
    "\n",
    "# def cba(fn)\n",
    "#     print('不同部门的信息')\n",
    "#     fn()\n",
    "\n",
    "# cba(fn)\n",
    "\n",
    "\n",
    "    \n",
    "\n",
    "\n"
   ]
  },
  {
   "cell_type": "code",
   "execution_count": null,
   "metadata": {},
   "outputs": [],
   "source": [
    "# from flask import Flask\n",
    "\n",
    "# app = Flask(__name__)\n",
    "\n",
    "# @app.route\n",
    "# def index():\n",
    "#     return 'hello'\n",
    "\n",
    "# app.run()"
   ]
  },
  {
   "cell_type": "code",
   "execution_count": 3,
   "metadata": {},
   "outputs": [
    {
     "name": "stdout",
     "output_type": "stream",
     "text": [
      "1878868083\n",
      "15\n",
      "1908098058\n",
      "程序运行了：29229975毫秒\n"
     ]
    }
   ],
   "source": [
    "#需求：我们希望能够执行玩一个程序后，能够打印时间\n",
    "def add(a,b):\n",
    "    print(a+b)\n",
    "    return a+b\n",
    "# add(3,4)\n",
    "\n",
    "def fnTime(fn,a,b):\n",
    "    print(1878868083)\n",
    "    fn(a,b)\n",
    "    print(1908098058)\n",
    "    print('程序运行了：%s毫秒'%(1908098058-1878868083))\n",
    "    return\n",
    "\n",
    "fnTime(add,7,8)\n",
    "\n",
    "#python高阶函数的一种特殊手法\n",
    "# @fnTime\n",
    "# def add\n",
    "\n",
    "# add()\n"
   ]
  },
  {
   "cell_type": "code",
   "execution_count": 4,
   "metadata": {},
   "outputs": [
    {
     "name": "stdout",
     "output_type": "stream",
     "text": [
      " * Serving Flask app \"__main__\" (lazy loading)\n",
      " * Environment: production\n",
      "   WARNING: Do not use the development server in a production environment.\n",
      "   Use a production WSGI server instead.\n",
      " * Debug mode: off\n"
     ]
    },
    {
     "name": "stderr",
     "output_type": "stream",
     "text": [
      " * Running on http://127.0.0.1:5000/ (Press CTRL+C to quit)\n",
      "127.0.0.1 - - [20/Nov/2018 20:54:11] \"GET / HTTP/1.1\" 200 -\n",
      "127.0.0.1 - - [20/Nov/2018 20:54:12] \"GET /favicon.ico HTTP/1.1\" 404 -\n",
      "127.0.0.1 - - [20/Nov/2018 20:54:22] \"GET / HTTP/1.1\" 200 -\n"
     ]
    }
   ],
   "source": [
    "from flask import Flask\n",
    "\n",
    "app = Flask(__name__)\n",
    "\n",
    "@app.route('/')\n",
    "def index():\n",
    "    return '<h1>helloWorld</h1>'\n",
    "\n",
    "app.run()"
   ]
  },
  {
   "cell_type": "code",
   "execution_count": 2,
   "metadata": {},
   "outputs": [
    {
     "data": {
      "text/plain": [
       "'now'"
      ]
     },
     "execution_count": 2,
     "metadata": {},
     "output_type": "execute_result"
    }
   ],
   "source": [
    "#拿到函数的名字：\n",
    "now.__name__\n",
    "f.__name__"
   ]
  },
  {
   "cell_type": "code",
   "execution_count": 8,
   "metadata": {},
   "outputs": [
    {
     "name": "stdout",
     "output_type": "stream",
     "text": [
      "fnTime\n"
     ]
    }
   ],
   "source": [
    "fnTime.__name__\n",
    "a= fnTime\n",
    "print(a.__name__)"
   ]
  },
  {
   "cell_type": "markdown",
   "metadata": {},
   "source": [
    "增强now()函数的功能，比如，在函数调用前后自动打印日志，但又不希望修改now()函数的定义。\n",
    "\n",
    "**代码运行期间动态增加功能的方式，称之为“装饰器”（Decorator）。**\n",
    "\n",
    "本质上，decorator就是一个返回函数的高阶函数。所以，我们要定义一个能打印日志的decorator，可以定义如下"
   ]
  },
  {
   "cell_type": "code",
   "execution_count": 3,
   "metadata": {
    "collapsed": true
   },
   "outputs": [],
   "source": [
    "def log(func):\n",
    "    def wrapper(*args, **kw):\n",
    "        print('call %s():' % func.__name__)\n",
    "        return func(*args, **kw)\n",
    "    return wrapper"
   ]
  },
  {
   "cell_type": "code",
   "execution_count": 8,
   "metadata": {},
   "outputs": [
    {
     "ename": "TypeError",
     "evalue": "child() missing 1 required positional argument: 'tt'",
     "output_type": "error",
     "traceback": [
      "\u001b[1;31m---------------------------------------------------------------------------\u001b[0m",
      "\u001b[1;31mTypeError\u001b[0m                                 Traceback (most recent call last)",
      "\u001b[1;32m<ipython-input-8-25288dd4943c>\u001b[0m in \u001b[0;36m<module>\u001b[1;34m\u001b[0m\n\u001b[0;32m     22\u001b[0m \u001b[1;33m\u001b[0m\u001b[0m\n\u001b[0;32m     23\u001b[0m \u001b[0mindex\u001b[0m \u001b[1;33m=\u001b[0m \u001b[0mlog\u001b[0m\u001b[1;33m(\u001b[0m\u001b[0mindex\u001b[0m\u001b[1;33m)\u001b[0m\u001b[1;33m\u001b[0m\u001b[0m\n\u001b[1;32m---> 24\u001b[1;33m \u001b[0mindex\u001b[0m\u001b[1;33m(\u001b[0m\u001b[1;33m)\u001b[0m\u001b[1;33m\u001b[0m\u001b[0m\n\u001b[0m\u001b[0;32m     25\u001b[0m \u001b[1;33m\u001b[0m\u001b[0m\n\u001b[0;32m     26\u001b[0m \u001b[0mindex\u001b[0m\u001b[1;33m(\u001b[0m\u001b[1;36m123\u001b[0m\u001b[1;33m)\u001b[0m\u001b[1;33m\u001b[0m\u001b[0m\n",
      "\u001b[1;31mTypeError\u001b[0m: child() missing 1 required positional argument: 'tt'"
     ]
    }
   ],
   "source": [
    "\n",
    "# def add():\n",
    "#     print('这是Add函数')\n",
    "\n",
    "    \n",
    "def log(fn):\n",
    "    def child(tt):\n",
    "        print('%s函数正在执行'%fn.__name__)\n",
    "        return fn(tt)\n",
    "    return child\n",
    "\n",
    "# add = log(add)\n",
    "# log(add)()\n",
    "\n",
    "\n",
    "\n",
    "@log\n",
    "def index(abc):\n",
    "    print('这是1个index函数')\n",
    "    return abc\n",
    "    \n",
    "    \n",
    "index = log(index)\n",
    "index()\n",
    "\n",
    "index(123)\n",
    "\n",
    "\n"
   ]
  },
  {
   "cell_type": "markdown",
   "metadata": {},
   "source": [
    "# fn = def ():print(add函数)\n",
    "# add = child\n",
    "# add = def ():print('%s函数正在执行'%fn.__name__);return fn()"
   ]
  },
  {
   "cell_type": "code",
   "execution_count": 7,
   "metadata": {},
   "outputs": [],
   "source": [
    "@log\n",
    "def add():\n",
    "    print('这是Add函数')\n",
    "    \n",
    "\n",
    "    \n",
    "\n",
    "add = log(add)"
   ]
  },
  {
   "cell_type": "markdown",
   "metadata": {},
   "source": [
    "@装饰器的函数\n",
    "def 调用函数():\n",
    "    print()\n",
    "    \n",
    "@函数（参数）==》装饰器的函数，内部还隐藏了你传递的参数\n",
    "    \n",
    " * 调用函数 = 装饰器函数（调用函数)"
   ]
  },
  {
   "cell_type": "code",
   "execution_count": 10,
   "metadata": {},
   "outputs": [
    {
     "name": "stdout",
     "output_type": "stream",
     "text": [
      "2015-3-25\n"
     ]
    }
   ],
   "source": [
    "now()"
   ]
  },
  {
   "cell_type": "code",
   "execution_count": 11,
   "metadata": {},
   "outputs": [],
   "source": [
    "#把@log放到now()函数的定义处，相当于执行了语句：\n",
    "now = log(now)"
   ]
  },
  {
   "cell_type": "code",
   "execution_count": 13,
   "metadata": {},
   "outputs": [],
   "source": [
    "#如果decorator本身需要传入参数，那就需要编写一个返回decorator的高阶函数，写出来会更复杂。比如，要自定义log的文本：\n",
    "def log(text):\n",
    "    def decorator(func):\n",
    "        def wrapper(*args, **kw):\n",
    "            print('%s %s():' % (text, func.__name__))\n",
    "            print(args)\n",
    "            print(kw)\n",
    "            return func(args[0],args[1])\n",
    "        return wrapper\n",
    "    return decorator\n"
   ]
  },
  {
   "cell_type": "code",
   "execution_count": 14,
   "metadata": {},
   "outputs": [
    {
     "name": "stdout",
     "output_type": "stream",
     "text": [
      "execute now():\n",
      "(123, 456)\n",
      "{}\n",
      "579\n",
      "2015-3-25\n"
     ]
    }
   ],
   "source": [
    "@log('execute')\n",
    "def now(a,b):\n",
    "    print(a+b)\n",
    "    print('2015-3-25')\n",
    "\n",
    "# now = log('execute')(now)\n",
    "now(123,456)"
   ]
  },
  {
   "cell_type": "markdown",
   "metadata": {},
   "source": [
    "* log('execute') ===申明了decotator变量指向内存中的一个函数\n",
    "* 返回了变量decorator,decorator函数的内存地址返回出去了\n",
    "```\n",
    "@decorator\n",
    "  def now():\n",
    "    print('2015-3-25')\n",
    "```\n",
    "* now = decorator(now),text='execute'\n",
    "* decorator(now),decorator 申明了一个变量wrapper,执行函数\n",
    "* now = wrapper,func = now,text='execute'\n",
    "\n",
    "* now(),wapper函数被执行，打印字符串，执行func,now被执行，并将now执行的结果返回\n",
    "\n",
    "\n",
    "\n",
    "\n",
    "\n"
   ]
  },
  {
   "cell_type": "code",
   "execution_count": 10,
   "metadata": {},
   "outputs": [
    {
     "name": "stdout",
     "output_type": "stream",
     "text": [
      "execute now():\n",
      "2015-3-25\n"
     ]
    }
   ],
   "source": [
    "now()"
   ]
  },
  {
   "cell_type": "code",
   "execution_count": 11,
   "metadata": {
    "collapsed": true
   },
   "outputs": [],
   "source": [
    "now = log('execute')(now)"
   ]
  },
  {
   "cell_type": "code",
   "execution_count": 12,
   "metadata": {},
   "outputs": [
    {
     "data": {
      "text/plain": [
       "'wrapper'"
      ]
     },
     "execution_count": 12,
     "metadata": {},
     "output_type": "execute_result"
    }
   ],
   "source": [
    "now.__name__"
   ]
  },
  {
   "cell_type": "code",
   "execution_count": 13,
   "metadata": {
    "collapsed": true
   },
   "outputs": [],
   "source": [
    "#不需要编写wrapper.__name__ = func.__name__\n",
    "import functools\n",
    "\n",
    "def log(func):\n",
    "    @functools.wraps(func)\n",
    "    def wrapper(*args, **kw):\n",
    "        print('call %s():' % func.__name__)\n",
    "        return func(*args, **kw)\n",
    "    return wrapper"
   ]
  },
  {
   "cell_type": "code",
   "execution_count": 14,
   "metadata": {
    "collapsed": true
   },
   "outputs": [],
   "source": [
    "import functools\n",
    "\n",
    "def log(text):\n",
    "    def decorator(func):\n",
    "        @functools.wraps(func)\n",
    "        def wrapper(*args, **kw):\n",
    "            print('%s %s():' % (text, func.__name__))\n",
    "            return func(*args, **kw)\n",
    "        return wrapper\n",
    "    return decorator"
   ]
  },
  {
   "cell_type": "markdown",
   "metadata": {
    "collapsed": true
   },
   "source": [
    "<h1 style=\"background:skyblue;line-height:50px;\">电脑端导航</h1>\n",
    "<p>这是新闻内容</p>"
   ]
  },
  {
   "cell_type": "markdown",
   "metadata": {},
   "source": [
    "<h1 style=\"background:purple;line-height:50px;\">移动端导航</h1>\n",
    "<p>这是新闻内容</p>"
   ]
  },
  {
   "cell_type": "code",
   "execution_count": 31,
   "metadata": {
    "collapsed": true
   },
   "outputs": [],
   "source": [
    "def computer(fn):\n",
    "    def mid(newId):\n",
    "        computerNav = '<h1 style=\"background:skyblue;line-height:50px;\">电脑端导航</h1>'\n",
    "        result = computerNav+fn(newId)\n",
    "        return result\n",
    "    return mid\n",
    "\n",
    "def mobile(fn):\n",
    "    def mid(newId):\n",
    "        computerNav = '<h1 style=\"background:purple;line-height:50px;\">移动端导航</h1>'\n",
    "        result = computerNav+fn(newId)\n",
    "        return result\n",
    "    return mid\n",
    "\n",
    "\n",
    "@computer\n",
    "def news(newId):\n",
    "    return '<p>这是%s新闻内容</p>'%newId\n",
    "\n",
    "@mobile\n",
    "def login(content):\n",
    "    return '<p>这是%s页面</p>'%content\n",
    "\n",
    "# news = computer(news)\n",
    "# news(123)\n",
    "# def filter1(fn,L):\n",
    "#     nList = []\n",
    "#     for item in L:\n",
    "#         if fn(item):\n",
    "#             nList.append(item)\n",
    "    \n",
    "#     return nList\n",
    "\n",
    "\n",
    "\n",
    "\n",
    "# @去掉偶数的函数\n",
    "# def abc():\n",
    "#     #这是一个能够返回数字列表的函数\n",
    "#     return [1,2,3,4,5,6]\n",
    "#希望调用abc()===>[1,3,5]\n",
    "\n",
    "\n",
    "\n"
   ]
  },
  {
   "cell_type": "code",
   "execution_count": null,
   "metadata": {},
   "outputs": [
    {
     "name": "stderr",
     "output_type": "stream",
     "text": [
      " * Running on http://127.0.0.1:5000/ (Press CTRL+C to quit)\n",
      "127.0.0.1 - - [06/May/2018 16:53:06] \"GET / HTTP/1.1\" 200 -\n"
     ]
    }
   ],
   "source": [
    "from flask import Flask\n",
    "app = Flask(__name__)\n",
    "\n",
    "@app.route('/')\n",
    "def index():\n",
    "    return login('登陆')\n",
    "\n",
    "app.run()"
   ]
  },
  {
   "cell_type": "code",
   "execution_count": null,
   "metadata": {
    "collapsed": true
   },
   "outputs": [],
   "source": [
    "@log\n",
    "def index(abc):\n",
    "    print('这是1个index函数')\n",
    "    return abc\n",
    "\n",
    "\n",
    "#index()==>abc\n",
    "\n",
    "# index = log(index)\n",
    "\n",
    "\n",
    "def log(fn):\n",
    "    def fnBack():\n",
    "        #加工/装饰的代码\n",
    "        return fn()\n",
    "    return fnBack\n",
    "\n",
    "### 匹配这个路径，如果是这个路径我就执行这个函数，否则，我就输出不是这个页面\n",
    "# @app.route('/') ==> 实际是一个函数\n",
    "# def index():\n",
    "#     return 'hello'\n",
    "\n",
    "def r1(url):\n",
    "    def log(fn):\n",
    "        def fnBack():\n",
    "            #加工/装饰的代码\n",
    "            if path == url:\n",
    "                fn()\n",
    "            else:\n",
    "                print('此路径不对')\n",
    "        return fnBack\n",
    "    return log\n",
    "\n",
    "\n",
    "app = {\n",
    "    'route':r1\n",
    "}\n",
    "\n",
    "\n",
    "app['route']('/') ==> log\n",
    "path = '/'\n",
    "\n",
    "def log(fn):\n",
    "    def fnBack():\n",
    "        #加工/装饰的代码\n",
    "        if path == url:\n",
    "            fn()\n",
    "        else:\n",
    "            print('此路径不对')\n",
    "    return fnBack\n",
    "\n"
   ]
  },
  {
   "cell_type": "code",
   "execution_count": 27,
   "metadata": {},
   "outputs": [
    {
     "name": "stdout",
     "output_type": "stream",
     "text": [
      "此路径不对\n"
     ]
    }
   ],
   "source": [
    "# path = '/abc'\n",
    "def r1(url):\n",
    "    def log(fn):\n",
    "        def fnBack(path):\n",
    "            #加工/装饰的代码\n",
    "            if path == url:\n",
    "                fn(path)\n",
    "            else:\n",
    "                print('此路径不对')\n",
    "        return fnBack\n",
    "    return log\n",
    "\n",
    "\n",
    "app = {\n",
    "    'route':r1\n",
    "}\n",
    "\n",
    "r2 = app['route']\n",
    "@r2('/')\n",
    "def hello(path):\n",
    "    print('hello页面')\n",
    "    return \n",
    "\n",
    "hello('/uu')\n",
    "\n",
    "\n",
    "# hello = r2('/')(hello)"
   ]
  },
  {
   "cell_type": "markdown",
   "metadata": {},
   "source": [
    "### 记忆点\n",
    "\n",
    "```\n",
    "@变量名(函数)\n",
    "def 函数名1：\n",
    "    pass\n",
    "```\n",
    "    \n",
    "装饰器源代码中转换的模式\n",
    "\n",
    "```    \n",
    "函数名1 = 变量名（函数名1）\n",
    "```"
   ]
  },
  {
   "cell_type": "code",
   "execution_count": null,
   "metadata": {},
   "outputs": [],
   "source": []
  }
 ],
 "metadata": {
  "kernelspec": {
   "display_name": "Python 3",
   "language": "python",
   "name": "python3"
  },
  "language_info": {
   "codemirror_mode": {
    "name": "ipython",
    "version": 3
   },
   "file_extension": ".py",
   "mimetype": "text/x-python",
   "name": "python",
   "nbconvert_exporter": "python",
   "pygments_lexer": "ipython3",
   "version": "3.6.5"
  }
 },
 "nbformat": 4,
 "nbformat_minor": 2
}
