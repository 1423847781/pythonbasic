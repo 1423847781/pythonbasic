{
 "cells": [
  {
   "cell_type": "markdown",
   "metadata": {},
   "source": [
    "## datetime\n",
    "datetime是Python处理日期和时间的标准库。\n",
    "\n",
    "### 获取当前日期和时间\n",
    "我们先看如何获取当前日期和时间："
   ]
  },
  {
   "cell_type": "code",
   "execution_count": 4,
   "metadata": {},
   "outputs": [
    {
     "name": "stdout",
     "output_type": "stream",
     "text": [
      "2018-09-19 09:28:32.374334\n",
      "<class 'datetime.datetime'>\n"
     ]
    },
    {
     "data": {
      "text/plain": [
       "2018"
      ]
     },
     "execution_count": 4,
     "metadata": {},
     "output_type": "execute_result"
    }
   ],
   "source": [
    "from datetime import datetime\n",
    "now = datetime.now() # 获取当前datetime\n",
    "print(now)\n",
    "print(type(now))\n",
    "\n",
    "dir(now)\n",
    "\n",
    "now.month\n",
    "now.year"
   ]
  },
  {
   "cell_type": "code",
   "execution_count": 5,
   "metadata": {},
   "outputs": [
    {
     "data": {
      "text/plain": [
       "datetime.datetime(2018, 5, 11, 10, 1, 11, 85315)"
      ]
     },
     "execution_count": 5,
     "metadata": {},
     "output_type": "execute_result"
    }
   ],
   "source": [
    "# import datetime\n",
    "# print(datetime)\n",
    "# help(datetime.date)\n",
    "from datetime import datetime\n",
    "datetime.now()\n",
    "# callable(datetime)"
   ]
  },
  {
   "cell_type": "markdown",
   "metadata": {},
   "source": [
    "注意到datetime是模块，datetime模块还包含一个datetime类，通过from datetime import datetime导入的才是datetime这个类。\n",
    "\n",
    "如果仅导入import datetime，则必须引用全名datetime.datetime。\n",
    "\n",
    "datetime.now()返回当前日期和时间，其类型是datetime。"
   ]
  },
  {
   "cell_type": "markdown",
   "metadata": {},
   "source": [
    "### 获取指定日期和时间\n",
    "要指定某个日期和时间，我们直接用参数构造一个datetime："
   ]
  },
  {
   "cell_type": "code",
   "execution_count": 6,
   "metadata": {},
   "outputs": [
    {
     "data": {
      "text/plain": [
       "datetime.datetime(2018, 5, 11, 0, 0)"
      ]
     },
     "execution_count": 6,
     "metadata": {},
     "output_type": "execute_result"
    }
   ],
   "source": [
    "from datetime import datetime\n",
    "dt = datetime(2015, 4, 19, 12, 20) # 用指定日期时间创建datetime\n",
    "# print(dt)\n",
    "datetime(2018,5,11)"
   ]
  },
  {
   "cell_type": "markdown",
   "metadata": {},
   "source": [
    "### datetime转换为timestamp\n",
    "在计算机中，时间实际上是用数字表示的。我们把1970年1月1日 00:00:00 UTC+00:00时区的时刻称为epoch time，记为0（1970年以前的时间timestamp为负数），当前时间就是相对于epoch time的秒数，称为timestamp。\n",
    "\n",
    "你可以认为：\n",
    "\n",
    "> timestamp = 0 = 1970-1-1 00:00:00 UTC+0:00\n",
    "\n",
    "对应的北京时间是：\n",
    "\n",
    ">timestamp = 0 = 1970-1-1 08:00:00 UTC+8:00\n",
    "\n",
    "可见timestamp的值与时区毫无关系，因为timestamp一旦确定，其UTC时间就确定了，转换到任意时区的时间也是完全确定的，这就是为什么计算机存储的当前时间是以timestamp表示的，因为全球各地的计算机在任意时刻的timestamp都是完全相同的（假定时间已校准）。\n",
    "\n",
    "把一个datetime类型转换为timestamp只需要简单调用timestamp()方法："
   ]
  },
  {
   "cell_type": "code",
   "execution_count": 10,
   "metadata": {},
   "outputs": [
    {
     "data": {
      "text/plain": [
       "datetime.datetime(2018, 9, 19, 1, 37, 21, 840010)"
      ]
     },
     "execution_count": 10,
     "metadata": {},
     "output_type": "execute_result"
    }
   ],
   "source": [
    "from datetime import datetime\n",
    "# dt = datetime(2015, 4, 19, 12, 20) # 用指定日期时间创建datetime\n",
    "# dt.timestamp() # 把datetime转换为timestamp\n",
    "# now = datetime.now()\n",
    "# now.__dir__()\n",
    "# start = now.timestamp()*1000\n",
    "\n",
    "\n",
    "# end = datetime.now().timestamp()*1000\n",
    "# end-start\n",
    "\n",
    "\n",
    "now = datetime.now()\n",
    "dir(now)\n",
    "a = now.timestamp()*1000\n",
    "datetime.fromtimestamp(a/1000)\n",
    "datetime.utcfromtimestamp(a/1000) #转为UTC的时间，将当前北京时间减去8个时区，即为UTC时间"
   ]
  },
  {
   "cell_type": "markdown",
   "metadata": {},
   "source": [
    "注意Python的timestamp是一个浮点数。如果有小数位，小数位表示毫秒数。\n",
    "\n",
    "某些编程语言（如Java和JavaScript）的timestamp使用整数表示毫秒数，这种情况下只需要把timestamp除以1000就得到Python的浮点表示方法。\n",
    "\n",
    "### timestamp转换为datetime\n",
    "要把timestamp转换为datetime，使用datetime提供的fromtimestamp()方法："
   ]
  },
  {
   "cell_type": "code",
   "execution_count": 1,
   "metadata": {},
   "outputs": [
    {
     "name": "stdout",
     "output_type": "stream",
     "text": [
      "2015-04-19 12:20:00\n"
     ]
    },
    {
     "ename": "NameError",
     "evalue": "name 'end' is not defined",
     "output_type": "error",
     "traceback": [
      "\u001b[1;31m---------------------------------------------------------------------------\u001b[0m",
      "\u001b[1;31mNameError\u001b[0m                                 Traceback (most recent call last)",
      "\u001b[1;32m<ipython-input-1-c8c128baa031>\u001b[0m in \u001b[0;36m<module>\u001b[1;34m()\u001b[0m\n\u001b[0;32m      2\u001b[0m \u001b[0mt\u001b[0m \u001b[1;33m=\u001b[0m \u001b[1;36m1429417200.0\u001b[0m\u001b[1;33m\u001b[0m\u001b[0m\n\u001b[0;32m      3\u001b[0m \u001b[0mprint\u001b[0m\u001b[1;33m(\u001b[0m\u001b[0mdatetime\u001b[0m\u001b[1;33m.\u001b[0m\u001b[0mfromtimestamp\u001b[0m\u001b[1;33m(\u001b[0m\u001b[0mt\u001b[0m\u001b[1;33m)\u001b[0m\u001b[1;33m)\u001b[0m\u001b[1;33m\u001b[0m\u001b[0m\n\u001b[1;32m----> 4\u001b[1;33m \u001b[0mdatetime\u001b[0m\u001b[1;33m.\u001b[0m\u001b[0mfromtimestamp\u001b[0m\u001b[1;33m(\u001b[0m\u001b[0mend\u001b[0m\u001b[1;33m/\u001b[0m\u001b[1;36m1000\u001b[0m\u001b[1;33m)\u001b[0m\u001b[1;33m\u001b[0m\u001b[0m\n\u001b[0m",
      "\u001b[1;31mNameError\u001b[0m: name 'end' is not defined"
     ]
    }
   ],
   "source": [
    "from datetime import datetime\n",
    "t = 1429417200.0\n",
    "print(datetime.fromtimestamp(t))\n",
    "datetime.fromtimestamp(end/1000)"
   ]
  },
  {
   "cell_type": "markdown",
   "metadata": {},
   "source": [
    "注意到timestamp是一个浮点数，它没有时区的概念，而datetime是有时区的。上述转换是在timestamp和本地时间做转换。\n",
    "\n",
    "本地时间是指当前操作系统设定的时区。例如北京时区是东8区，则本地时间：\n",
    "\n",
    ">2015-04-19 12:20:00\n",
    "\n",
    "实际上就是UTC+8:00时区的时间：\n",
    "\n",
    ">2015-04-19 12:20:00 UTC+8:00\n",
    "\n",
    "而此刻的格林威治标准时间与北京时间差了8小时，也就是UTC+0:00时区的时间应该是：\n",
    "\n",
    ">2015-04-19 04:20:00 UTC+0:00\n",
    "\n",
    "timestamp也可以直接被转换到UTC标准时区的时间："
   ]
  },
  {
   "cell_type": "code",
   "execution_count": 3,
   "metadata": {},
   "outputs": [
    {
     "name": "stdout",
     "output_type": "stream",
     "text": [
      "2015-04-19 12:20:00\n",
      "2015-04-19 04:20:00\n"
     ]
    },
    {
     "ename": "NameError",
     "evalue": "name 'end' is not defined",
     "output_type": "error",
     "traceback": [
      "\u001b[1;31m---------------------------------------------------------------------------\u001b[0m",
      "\u001b[1;31mNameError\u001b[0m                                 Traceback (most recent call last)",
      "\u001b[1;32m<ipython-input-3-af1ae7344450>\u001b[0m in \u001b[0;36m<module>\u001b[1;34m()\u001b[0m\n\u001b[0;32m      3\u001b[0m \u001b[0mprint\u001b[0m\u001b[1;33m(\u001b[0m\u001b[0mdatetime\u001b[0m\u001b[1;33m.\u001b[0m\u001b[0mfromtimestamp\u001b[0m\u001b[1;33m(\u001b[0m\u001b[0mt\u001b[0m\u001b[1;33m)\u001b[0m\u001b[1;33m)\u001b[0m \u001b[1;31m# 本地时间\u001b[0m\u001b[1;33m\u001b[0m\u001b[0m\n\u001b[0;32m      4\u001b[0m \u001b[0mprint\u001b[0m\u001b[1;33m(\u001b[0m\u001b[0mdatetime\u001b[0m\u001b[1;33m.\u001b[0m\u001b[0mutcfromtimestamp\u001b[0m\u001b[1;33m(\u001b[0m\u001b[0mt\u001b[0m\u001b[1;33m)\u001b[0m\u001b[1;33m)\u001b[0m \u001b[1;31m# UTC时间\u001b[0m\u001b[1;33m\u001b[0m\u001b[0m\n\u001b[1;32m----> 5\u001b[1;33m \u001b[0mdatetime\u001b[0m\u001b[1;33m.\u001b[0m\u001b[0mutcfromtimestamp\u001b[0m\u001b[1;33m(\u001b[0m\u001b[0mend\u001b[0m\u001b[1;33m/\u001b[0m\u001b[1;36m1000\u001b[0m\u001b[1;33m)\u001b[0m\u001b[1;33m\u001b[0m\u001b[0m\n\u001b[0m",
      "\u001b[1;31mNameError\u001b[0m: name 'end' is not defined"
     ]
    }
   ],
   "source": [
    "from datetime import datetime\n",
    "t = 1429417200.0\n",
    "print(datetime.fromtimestamp(t)) # 本地时间\n",
    "print(datetime.utcfromtimestamp(t)) # UTC时间\n",
    "datetime.utcfromtimestamp(end/1000)"
   ]
  },
  {
   "cell_type": "markdown",
   "metadata": {},
   "source": [
    "### str转换为datetime\n",
    "很多时候，用户输入的日期和时间是字符串，要处理日期和时间，首先必须把str转换为datetime。转换方法是通过datetime.strptime()实现，需要一个日期和时间的格式化字符串："
   ]
  },
  {
   "cell_type": "code",
   "execution_count": 6,
   "metadata": {},
   "outputs": [
    {
     "data": {
      "text/plain": [
       "datetime.datetime(2018, 9, 19, 9, 39)"
      ]
     },
     "execution_count": 6,
     "metadata": {},
     "output_type": "execute_result"
    }
   ],
   "source": [
    "from datetime import datetime\n",
    "\n",
    "time = '2018-9/19 9-39:0'\n",
    "jieS = '%Y-%m/%d %H-%M:%S'\n",
    "\n",
    "nowTime = datetime.strptime(time,jieS)\n",
    "\n",
    "nowTime\n",
    "\n",
    "\n",
    "# cday = datetime.strptime('2015-6-1 18:19:59', '%Y-%m-%d %H:%M:%S')\n",
    "\n",
    "# a = datetime.strptime('2015-6-1 18:20:30',\"%Y-%m-%d %H:%M:%S\")\n",
    "# print(cday)\n",
    "# a.timestamp()\n"
   ]
  },
  {
   "cell_type": "markdown",
   "metadata": {},
   "source": [
    "字符串'%Y-%m-%d %H:%M:%S'规定了日期和时间部分的格式。\n",
    "\n",
    "注意转换后的datetime是没有时区信息的。"
   ]
  },
  {
   "cell_type": "markdown",
   "metadata": {},
   "source": [
    "### datetime转换为str\n",
    "如果已经有了datetime对象，要把它格式化为字符串显示给用户，就需要转换为str，转换方法是通过strftime()实现的，同样需要一个日期和时间的格式化字符串"
   ]
  },
  {
   "cell_type": "code",
   "execution_count": 7,
   "metadata": {},
   "outputs": [
    {
     "data": {
      "text/plain": [
       "'2018-09/19 15-54:41'"
      ]
     },
     "execution_count": 7,
     "metadata": {},
     "output_type": "execute_result"
    }
   ],
   "source": [
    "from datetime import datetime\n",
    "now = datetime.now()\n",
    "jieS = '%Y-%m/%d %H-%M:%S'\n",
    "\n",
    "now.strftime(jieS)\n",
    "\n",
    "# '{year}-{month}-{day}'.format(year=now.year,month=now.month,day = now.day)\n",
    "\n",
    "\n",
    "# print(now.strftime('%a, %b %d %H:%M'))\n",
    "# print(now.strftime('%Y year %m month %d day %H time %M min %S sec'))\n",
    "# now.__dir__()\n",
    "# '%s年%s月%s日 %s:%s:%s'%(now.year,now.month,now.day,now.hour,now.minute,now.second)"
   ]
  },
  {
   "cell_type": "markdown",
   "metadata": {},
   "source": [
    "### datetime加减\n",
    "对日期和时间进行加减实际上就是把datetime往后或往前计算，得到新的datetime。加减可以直接用+和-运算符，不过需要导入timedelta这个类："
   ]
  },
  {
   "cell_type": "code",
   "execution_count": 11,
   "metadata": {},
   "outputs": [
    {
     "name": "stdout",
     "output_type": "stream",
     "text": [
      "2018-09-19 16:03:34.155178\n",
      "2018-09-20 02:03:34.155178\n",
      "2018-09-18 16:03:34.155178\n",
      "2018-09-22 04:03:34.155178\n"
     ]
    },
    {
     "data": {
      "text/plain": [
       "datetime.datetime(2018, 9, 26, 0, 0)"
      ]
     },
     "execution_count": 11,
     "metadata": {},
     "output_type": "execute_result"
    }
   ],
   "source": [
    "from datetime import datetime, timedelta\n",
    "now = datetime.now()\n",
    "print(now)\n",
    "print(now + timedelta(hours=10))\n",
    "print(now - timedelta(days=1))\n",
    "print(now + timedelta(days=2, hours=12))\n",
    "\n",
    "fangjiaqian = datetime(2018,9,23)\n",
    "fangjiaqian + timedelta(days=3)\n",
    "\n",
    "\n",
    "\n",
    "#可见，使用timedelta你可以很容易地算出前几天和后几天的时刻。"
   ]
  },
  {
   "cell_type": "markdown",
   "metadata": {},
   "source": [
    "### 本地时间转换为UTC时间\n",
    "本地时间是指系统设定时区的时间，例如北京时间是UTC+8:00时区的时间，而UTC时间指UTC+0:00时区的时间。\n",
    "\n",
    "一个datetime类型有一个时区属性tzinfo，但是默认为None，所以无法区分这个datetime到底是哪个时区，除非强行给datetime设置一个时区："
   ]
  },
  {
   "cell_type": "code",
   "execution_count": 17,
   "metadata": {},
   "outputs": [
    {
     "name": "stdout",
     "output_type": "stream",
     "text": [
      "2018-09-19 09:52:16.866582\n",
      "2018-09-19 09:52:16.866582+08:00\n"
     ]
    }
   ],
   "source": [
    "from datetime import datetime, timedelta, timezone\n",
    "tz_utc_8 = timezone(timedelta(hours=8)) # 创建时区UTC+8:00\n",
    "now = datetime.now()\n",
    "print(now)\n",
    "datetime(2015, 5, 18, 17, 2, 10, 871012)\n",
    "dt = now.replace(tzinfo=tz_utc_8) # 强制设置为UTC+8:00\n",
    "print(dt)\n",
    "#如果系统时区恰好是UTC+8:00，那么上述代码就是正确的，否则，不能强制设置为UTC+8:00时区。"
   ]
  },
  {
   "cell_type": "markdown",
   "metadata": {},
   "source": [
    "### 时区转换\n",
    "我们可以先通过utcnow()拿到当前的UTC时间，再转换为任意时区的时间："
   ]
  },
  {
   "cell_type": "code",
   "execution_count": 17,
   "metadata": {},
   "outputs": [
    {
     "name": "stdout",
     "output_type": "stream",
     "text": [
      "2018-05-07 04:24:15.297669+00:00\n",
      "2018-05-07 12:24:15.297669+08:00\n",
      "2018-05-07 13:24:15.297669+09:00\n",
      "2018-05-07 13:24:15.297669+09:00\n"
     ]
    }
   ],
   "source": [
    "utc_dt = datetime.utcnow().replace(tzinfo=timezone.utc)\n",
    "print(utc_dt)\n",
    "# astimezone()将转换时区为北京时间:\n",
    "bj_dt = utc_dt.astimezone(timezone(timedelta(hours=8)))\n",
    "print(bj_dt)\n",
    "# astimezone()将转换时区为东京时间:\n",
    "tokyo_dt = utc_dt.astimezone(timezone(timedelta(hours=9)))\n",
    "print(tokyo_dt)\n",
    "# astimezone()将bj_dt转换时区为东京时间:\n",
    "tokyo_dt2 = bj_dt.astimezone(timezone(timedelta(hours=9)))\n",
    "print(tokyo_dt2)"
   ]
  },
  {
   "cell_type": "markdown",
   "metadata": {},
   "source": [
    "时区转换的关键在于，拿到一个datetime时，要获知其正确的时区，然后强制设置时区，作为基准时间。\n",
    "\n",
    "利用带时区的datetime，通过astimezone()方法，可以转换到任意时区。\n",
    "\n",
    "注：不是必须从UTC+0:00时区转换到其他时区，任何带时区的datetime都可以正确转换，例如上述bj_dt到tokyo_dt的转换。"
   ]
  },
  {
   "cell_type": "markdown",
   "metadata": {},
   "source": [
    "### 小结\n",
    "datetime表示的时间需要时区信息才能确定一个特定的时间，否则只能视为本地时间。\n",
    "\n",
    "如果要存储datetime，最佳方法是将其转换为timestamp再存储，因为timestamp的值与时区完全无关。"
   ]
  },
  {
   "cell_type": "code",
   "execution_count": null,
   "metadata": {
    "collapsed": true
   },
   "outputs": [],
   "source": []
  }
 ],
 "metadata": {
  "kernelspec": {
   "display_name": "Python 3",
   "language": "python",
   "name": "python3"
  },
  "language_info": {
   "codemirror_mode": {
    "name": "ipython",
    "version": 3
   },
   "file_extension": ".py",
   "mimetype": "text/x-python",
   "name": "python",
   "nbconvert_exporter": "python",
   "pygments_lexer": "ipython3",
   "version": "3.6.5"
  }
 },
 "nbformat": 4,
 "nbformat_minor": 2
}
