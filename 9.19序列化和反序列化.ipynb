{
 "cells": [
  {
   "cell_type": "code",
   "execution_count": 12,
   "metadata": {},
   "outputs": [],
   "source": [
    "# d=dict(name='你好'，age=20,score=88)\n",
    "\n",
    "# print(d)\n"
   ]
  },
  {
   "cell_type": "code",
   "execution_count": 25,
   "metadata": {},
   "outputs": [],
   "source": [
    "d={'name':'你好','age':20,'score':88}"
   ]
  },
  {
   "cell_type": "code",
   "execution_count": 45,
   "metadata": {},
   "outputs": [
    {
     "name": "stdout",
     "output_type": "stream",
     "text": [
      "[1, 2, 3, 4, {'name': '你好', 'age': 20, 'score': 88}, <class '__main__.student'>, <__main__.student object at 0x000001470E56A400>]\n",
      "b'\\x80\\x03]q\\x00(K\\x01K\\x02K\\x03K\\x04}q\\x01(X\\x04\\x00\\x00\\x00nameq\\x02X\\x06\\x00\\x00\\x00\\xe4\\xbd\\xa0\\xe5\\xa5\\xbdq\\x03X\\x03\\x00\\x00\\x00ageq\\x04K\\x14X\\x05\\x00\\x00\\x00scoreq\\x05KXuc__main__\\nstudent\\nq\\x06h\\x06)\\x81q\\x07}q\\x08h\\x02X\\x04\\x00\\x00\\x00scacq\\tsbe.'\n"
     ]
    }
   ],
   "source": [
    "import pickle\n",
    "\n",
    "class student:\n",
    "    def __init__(self):\n",
    "        self.name='scac'\n",
    "    def spack(self):\n",
    "        print(self.name)\n",
    "        \n",
    "s=student()\n",
    "\n",
    "d=[1,2,3,4,{'name':'你好','age':20,'score':88},student,s]\n",
    "print(d)\n",
    "dir(pickle)\n",
    "#将对象转换成二进制的数据\n",
    "content=pickle.dumps(d)\n",
    "print(content)\n",
    "\n",
    "\n",
    "with open('./save.txt','wb')as f:\n",
    "    f.write(content)\n",
    "      "
   ]
  },
  {
   "cell_type": "code",
   "execution_count": 5,
   "metadata": {},
   "outputs": [
    {
     "name": "stdout",
     "output_type": "stream",
     "text": [
      "b'\\x80\\x03]q\\x00(K\\x01K\\x02K\\x03K\\x04}q\\x01(X\\x04\\x00\\x00\\x00nameq\\x02X\\x06\\x00\\x00\\x00\\xe4\\xbd\\xa0\\xe5\\xa5\\xbdq\\x03X\\x03\\x00\\x00\\x00ageq\\x04K\\x14X\\x05\\x00\\x00\\x00scoreq\\x05KXuc__main__\\nstudent\\nq\\x06h\\x06)\\x81q\\x07}q\\x08h\\x02X\\x04\\x00\\x00\\x00scacq\\tsbe.'\n"
     ]
    },
    {
     "ename": "AttributeError",
     "evalue": "Can't get attribute 'student' on <module '__main__'>",
     "output_type": "error",
     "traceback": [
      "\u001b[1;31m---------------------------------------------------------------------------\u001b[0m",
      "\u001b[1;31mAttributeError\u001b[0m                            Traceback (most recent call last)",
      "\u001b[1;32m<ipython-input-5-ddbedd14f7a4>\u001b[0m in \u001b[0;36m<module>\u001b[1;34m\u001b[0m\n\u001b[0;32m      3\u001b[0m     \u001b[0msaveTxt\u001b[0m\u001b[1;33m=\u001b[0m\u001b[0mf\u001b[0m\u001b[1;33m.\u001b[0m\u001b[0mread\u001b[0m\u001b[1;33m(\u001b[0m\u001b[1;33m)\u001b[0m\u001b[1;33m\u001b[0m\u001b[0m\n\u001b[0;32m      4\u001b[0m \u001b[0mprint\u001b[0m\u001b[1;33m(\u001b[0m\u001b[0msaveTxt\u001b[0m\u001b[1;33m)\u001b[0m\u001b[1;33m\u001b[0m\u001b[0m\n\u001b[1;32m----> 5\u001b[1;33m \u001b[0ms1\u001b[0m\u001b[1;33m=\u001b[0m\u001b[0mpickle\u001b[0m\u001b[1;33m.\u001b[0m\u001b[0mloads\u001b[0m\u001b[1;33m(\u001b[0m\u001b[0msaveTxt\u001b[0m\u001b[1;33m)\u001b[0m\u001b[1;33m\u001b[0m\u001b[0m\n\u001b[0m\u001b[0;32m      6\u001b[0m \u001b[0ms1\u001b[0m\u001b[1;33m\u001b[0m\u001b[0m\n\u001b[0;32m      7\u001b[0m \u001b[1;33m\u001b[0m\u001b[0m\n",
      "\u001b[1;31mAttributeError\u001b[0m: Can't get attribute 'student' on <module '__main__'>"
     ]
    }
   ],
   "source": [
    "import pickle\n",
    "with open('./save.txt','rb')as f:\n",
    "    saveTxt=f.read()\n",
    "print(saveTxt)\n",
    "s1=pickle.loads(saveTxt)\n",
    "s1\n",
    "\n",
    "supers=s1[5]()\n",
    "supers.spack()\n",
    "# dir(s1)"
   ]
  },
  {
   "cell_type": "code",
   "execution_count": 6,
   "metadata": {},
   "outputs": [],
   "source": [
    "import pickle\n",
    "\n",
    "student={'name':'小明','age':20,'score':88}\n",
    "\n",
    "with open('huamingce.txt','wb')as f:\n",
    "    pickle.dump(student,f)\n",
    "    "
   ]
  },
  {
   "cell_type": "code",
   "execution_count": 7,
   "metadata": {},
   "outputs": [
    {
     "name": "stdout",
     "output_type": "stream",
     "text": [
      "{'name': '小明', 'age': 20, 'score': 88}\n"
     ]
    }
   ],
   "source": [
    "with open('huamingce.txt','rb')as f:\n",
    "    yy= pickle.load(f)\n",
    "    print(yy)"
   ]
  },
  {
   "cell_type": "code",
   "execution_count": 8,
   "metadata": {},
   "outputs": [
    {
     "data": {
      "text/plain": [
       "'{\"name\": \"老王\", \"age\": 20, \"score\": 99}'"
      ]
     },
     "execution_count": 8,
     "metadata": {},
     "output_type": "execute_result"
    }
   ],
   "source": [
    "import json\n",
    "gg={'name':'老王','age':20,'score':99}\n",
    "# json.dumps(gg)#序列化\n",
    "\n",
    "str=json.dumps(gg,ensure_ascii=False)\n",
    "with open('./d.json','w')as f:\n",
    "    f.write(str)\n",
    "str\n"
   ]
  },
  {
   "cell_type": "code",
   "execution_count": 10,
   "metadata": {},
   "outputs": [
    {
     "data": {
      "text/plain": [
       "{'name': '老王', 'age': 20, 'score': 99}"
      ]
     },
     "execution_count": 10,
     "metadata": {},
     "output_type": "execute_result"
    }
   ],
   "source": [
    "with open('./d.json','r')as f:\n",
    "    content=f.read()\n",
    "    \n",
    "tt=json.loads(content)#反序列化\n",
    "tt"
   ]
  },
  {
   "cell_type": "code",
   "execution_count": 17,
   "metadata": {},
   "outputs": [
    {
     "data": {
      "text/plain": [
       "{'name': '老王', 'age': 20, 'score': 100}"
      ]
     },
     "execution_count": 17,
     "metadata": {},
     "output_type": "execute_result"
    }
   ],
   "source": [
    "import json\n",
    "gg={'name':'老王','age':20,'score':100}\n",
    "# json.dumps(gg)#序列化\n",
    "\n",
    "# str=json.dumps(gg,ensure_ascii=False)\n",
    "with open('./d.json','w')as f:\n",
    "     json.dump(gg,f)\n",
    "gg"
   ]
  },
  {
   "cell_type": "code",
   "execution_count": 14,
   "metadata": {},
   "outputs": [
    {
     "data": {
      "text/plain": [
       "{'name': '老王', 'age': 20, 'score': 99}"
      ]
     },
     "execution_count": 14,
     "metadata": {},
     "output_type": "execute_result"
    }
   ],
   "source": [
    "with open('./d.json','r')as f:\n",
    "#     content=f.read()\n",
    "    tt=json.load(f)\n",
    "# tt=json.loads(content)#反序列化\n",
    "tt"
   ]
  },
  {
   "cell_type": "code",
   "execution_count": null,
   "metadata": {},
   "outputs": [],
   "source": []
  }
 ],
 "metadata": {
  "kernelspec": {
   "display_name": "Python 3",
   "language": "python",
   "name": "python3"
  },
  "language_info": {
   "codemirror_mode": {
    "name": "ipython",
    "version": 3
   },
   "file_extension": ".py",
   "mimetype": "text/x-python",
   "name": "python",
   "nbconvert_exporter": "python",
   "pygments_lexer": "ipython3",
   "version": "3.6.5"
  }
 },
 "nbformat": 4,
 "nbformat_minor": 2
}
