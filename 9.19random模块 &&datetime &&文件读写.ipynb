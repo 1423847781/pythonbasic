{
 "cells": [
  {
   "cell_type": "code",
   "execution_count": 46,
   "metadata": {},
   "outputs": [
    {
     "data": {
      "text/plain": [
       "['xiaoer', 'xiaosan', 'xixi']"
      ]
     },
     "execution_count": 46,
     "metadata": {},
     "output_type": "execute_result"
    }
   ],
   "source": [
    "import random\n",
    "\n",
    "# 随机浮点数，区间为[0-1)\n",
    "random.random()\n",
    "\n",
    "# help(random.random)\n",
    "\n",
    "# 还是浮点数,比random区间大,区间为1-10\n",
    "random.uniform(1,10)\n",
    "\n",
    "# 随机数1-7,包括7\n",
    "random.randint(1,7)\n",
    "\n",
    "# 顾头不顾尾 数字只能1-7\n",
    "random.randrange(1,8)\n",
    "\n",
    "\n",
    "def uniform(a,b):\n",
    "    return (b-a)*random.random+a\n",
    "random.uniform(1,100)\n",
    "\n",
    "\n",
    "students=['xiaohong','xiaoer','xiaosan','xixi']\n",
    "random.choice(students)\n",
    "# 随机从序列里面选取一个，序列可以是字符串，列表\n",
    "\n",
    "random.sample(students,3) #随机从列表里面选取三个，序列可以是字符串，列表"
   ]
  },
  {
   "cell_type": "code",
   "execution_count": 47,
   "metadata": {},
   "outputs": [
    {
     "data": {
      "text/plain": [
       "'nt'"
      ]
     },
     "execution_count": 47,
     "metadata": {},
     "output_type": "execute_result"
    }
   ],
   "source": [
    "import os\n",
    "os.name"
   ]
  },
  {
   "cell_type": "markdown",
   "metadata": {},
   "source": [
    "\n",
    "datetime是python处理日常和时间的标准库"
   ]
  },
  {
   "cell_type": "code",
   "execution_count": 55,
   "metadata": {},
   "outputs": [
    {
     "name": "stdout",
     "output_type": "stream",
     "text": [
      "2018-09-19 15:17:22.191077\n",
      "<class 'datetime.datetime'>\n"
     ]
    },
    {
     "data": {
      "text/plain": [
       "(9, 19, 2018)"
      ]
     },
     "execution_count": 55,
     "metadata": {},
     "output_type": "execute_result"
    }
   ],
   "source": [
    "from datetime import datetime\n",
    "\n",
    "now=datetime.now()\n",
    "print(now)\n",
    "print(type(now))\n",
    "\n",
    "dir(now)\n",
    "\n",
    "now.month,now.day,now.year\n",
    "\n"
   ]
  },
  {
   "cell_type": "code",
   "execution_count": 61,
   "metadata": {},
   "outputs": [
    {
     "data": {
      "text/plain": [
       "datetime.datetime(2018, 9, 19, 15, 18, 54, 424783)"
      ]
     },
     "execution_count": 61,
     "metadata": {},
     "output_type": "execute_result"
    }
   ],
   "source": [
    "from datetime import datetime\n",
    "datetime.now()\n"
   ]
  },
  {
   "cell_type": "markdown",
   "metadata": {},
   "source": [
    "注意到datetime是模块，datetime模块还包含一个datetime类，通过from datetime import datetime导入的才是datetime这个类。\n",
    "\n",
    "如果仅导入import datetime，则必须引用全名datetime.datetime。\n",
    "\n",
    "datetime.now()返回当前日期和时间，其类型是datetime。"
   ]
  },
  {
   "cell_type": "code",
   "execution_count": 63,
   "metadata": {},
   "outputs": [
    {
     "data": {
      "text/plain": [
       "datetime.datetime(2018, 9, 19, 15, 20, 23, 705805)"
      ]
     },
     "execution_count": 63,
     "metadata": {},
     "output_type": "execute_result"
    }
   ],
   "source": [
    "import datetime\n",
    "datetime.datetime.now()"
   ]
  },
  {
   "cell_type": "markdown",
   "metadata": {},
   "source": [
    "###  获取指定日期和时间\n",
    "要指定某个日期和时间，我们直接用参数构造一个datetime:"
   ]
  },
  {
   "cell_type": "code",
   "execution_count": 70,
   "metadata": {},
   "outputs": [
    {
     "name": "stdout",
     "output_type": "stream",
     "text": [
      "2015-04-19 12:20:00\n"
     ]
    },
    {
     "data": {
      "text/plain": [
       "datetime.datetime(2018, 9, 19, 12, 52)"
      ]
     },
     "execution_count": 70,
     "metadata": {},
     "output_type": "execute_result"
    }
   ],
   "source": [
    "from datetime import datetime\n",
    "dt=datetime(2015,4,19,12,20)\n",
    "print(dt)\n",
    "\n",
    "datetime(2018,9,19,12,52)"
   ]
  },
  {
   "cell_type": "markdown",
   "metadata": {},
   "source": [
    "### datetime转换为timestamp\n",
    "datetime转换为timestamp\n",
    "在计算机中，时间实际上是用数字表示的。我们把1970年1月1日 00:00:00 UTC+00:00时区的时刻称为epoch time，记为0（1970年以前的时间timestamp为负数），当前时间就是相对于epoch time的秒数，称为timestamp。\n",
    "\n",
    "你可以认为：\n",
    "\n",
    "timestamp = 0 = 1970-1-1 00:00:00 UTC+0:00\n",
    "\n",
    "对应的北京时间是：\n",
    "\n",
    "timestamp = 0 = 1970-1-1 08:00:00 UTC+8:00\n",
    "\n",
    "可见timestamp的值与时区毫无关系，因为timestamp一旦确定，其UTC时间就确定了，转换到任意时区的时间也是完全确定的，这就是为什么计算机存储的当前时间是以timestamp表示的，因为全球各地的计算机在任意时刻的timestamp都是完全相同的（假定时间已校准）。\n",
    "\n",
    "把一个datetime类型转换为timestamp只需要简单调用timestamp()方法：\n"
   ]
  },
  {
   "cell_type": "code",
   "execution_count": 113,
   "metadata": {},
   "outputs": [
    {
     "name": "stdout",
     "output_type": "stream",
     "text": [
      "2018-09-19 15:46:01.482184\n",
      "1537343161482.1838\n",
      "2018-09-19 15:46:01.482184\n"
     ]
    },
    {
     "data": {
      "text/plain": [
       "datetime.datetime(2018, 9, 19, 7, 46, 1, 482184)"
      ]
     },
     "execution_count": 113,
     "metadata": {},
     "output_type": "execute_result"
    }
   ],
   "source": [
    "from datetime import datetime\n",
    "now=datetime.now()\n",
    "print(now)\n",
    "a=now.timestamp()*1000\n",
    "print(a)\n",
    "print(datetime.fromtimestamp(a/1000))\n",
    "datetime.utcfromtimestamp(a/1000)"
   ]
  },
  {
   "cell_type": "code",
   "execution_count": 110,
   "metadata": {},
   "outputs": [
    {
     "name": "stdout",
     "output_type": "stream",
     "text": [
      "1537342856.532257\n",
      "2018-09-19 15:40:56.532257\n"
     ]
    },
    {
     "data": {
      "text/plain": [
       "datetime.datetime(2018, 9, 19, 15, 40, 56, 532257)"
      ]
     },
     "execution_count": 110,
     "metadata": {},
     "output_type": "execute_result"
    }
   ],
   "source": [
    "from datetime import datetime\n",
    "a=now.timestamp()\n",
    "print(a)\n",
    "# datetime.fromtimestamp(end/1000)\n",
    "t=1537342856.532257\n",
    "print(datetime.fromtimestamp(t))\n",
    "end=now.timestamp()*1000\n",
    "datetime.fromtimestamp(end/1000)"
   ]
  },
  {
   "cell_type": "markdown",
   "metadata": {},
   "source": [
    "### str转换为datetime\n",
    "很多时候，用户输入的日期和时间是字符串，要处理日期和时间，首先必须把str转换为datetime。转换方法是通过datetime.strptime()实现，需要一个日期和时间的格式化字符串："
   ]
  },
  {
   "cell_type": "code",
   "execution_count": 140,
   "metadata": {},
   "outputs": [
    {
     "data": {
      "text/plain": [
       "datetime.datetime(2018, 9, 19, 9, 30)"
      ]
     },
     "execution_count": 140,
     "metadata": {},
     "output_type": "execute_result"
    }
   ],
   "source": [
    "from datetime import datetime\n",
    "\n",
    "time='2018/9/19 9-30:00'\n",
    "jies='%Y/%m/%d %H-%M:%S'\n",
    "# now=datetime.now()\n",
    "nowtime=datetime.strptime(time,jies)\n",
    "nowtime"
   ]
  },
  {
   "cell_type": "code",
   "execution_count": 135,
   "metadata": {},
   "outputs": [
    {
     "data": {
      "text/plain": [
       "'2018-09-19 '"
      ]
     },
     "execution_count": 135,
     "metadata": {},
     "output_type": "execute_result"
    }
   ],
   "source": [
    "from datetime import datetime\n",
    "now=datetime.now()\n",
    "jr='%Y-%m-%d '\n",
    "now.strftime(jr)"
   ]
  },
  {
   "cell_type": "code",
   "execution_count": null,
   "metadata": {},
   "outputs": [],
   "source": []
  },
  {
   "cell_type": "markdown",
   "metadata": {},
   "source": [
    "### 读写文件\n"
   ]
  },
  {
   "cell_type": "code",
   "execution_count": 169,
   "metadata": {},
   "outputs": [
    {
     "name": "stdout",
     "output_type": "stream",
     "text": [
      "\n"
     ]
    }
   ],
   "source": [
    "try:\n",
    "    f=open('./test.html','r',encoding='utf-8')\n",
    "    dir(f)\n",
    "    f.read()\n",
    "    print(f.read())\n",
    "except BaseException as e:\n",
    "    print(e)\n",
    "    print(f)\n",
    "finally:\n",
    "    f.close()"
   ]
  },
  {
   "cell_type": "code",
   "execution_count": null,
   "metadata": {},
   "outputs": [],
   "source": []
  },
  {
   "cell_type": "code",
   "execution_count": 191,
   "metadata": {},
   "outputs": [
    {
     "name": "stdout",
     "output_type": "stream",
     "text": [
      "<h1>你好!<h1>\n",
      "\n"
     ]
    }
   ],
   "source": [
    "with open('./test.html','r') as f:\n",
    "    while True:\n",
    "        a=f.readline()\n",
    "        print(a)\n",
    "        if not a:\n",
    "            break\n",
    "#     print(f.read())"
   ]
  },
  {
   "cell_type": "code",
   "execution_count": 186,
   "metadata": {},
   "outputs": [
    {
     "name": "stdout",
     "output_type": "stream",
     "text": [
      "['<h1>你好!<h1>']\n"
     ]
    }
   ],
   "source": [
    "with open('./test.html','r') as f:\n",
    "    print(f.readlines())"
   ]
  },
  {
   "cell_type": "code",
   "execution_count": 184,
   "metadata": {},
   "outputs": [],
   "source": [
    "class student:\n",
    "    def read(self):\n",
    "        return '123465'\n",
    "    def close(self):\n",
    "        return '文件关闭'\n",
    "    \n",
    "    \n",
    "# student()\n",
    "# f.read()"
   ]
  },
  {
   "cell_type": "code",
   "execution_count": 188,
   "metadata": {},
   "outputs": [
    {
     "data": {
      "text/plain": [
       "b'<h1>\\xc4\\xe3\\xba\\xc3!<h1>'"
      ]
     },
     "execution_count": 188,
     "metadata": {},
     "output_type": "execute_result"
    }
   ],
   "source": [
    "f=open('./test.html','rb')\n",
    "f.read()"
   ]
  },
  {
   "cell_type": "code",
   "execution_count": null,
   "metadata": {},
   "outputs": [],
   "source": []
  },
  {
   "cell_type": "code",
   "execution_count": 195,
   "metadata": {},
   "outputs": [
    {
     "data": {
      "text/plain": [
       "'\\ufeff<h1>你好!<h1>'"
      ]
     },
     "execution_count": 195,
     "metadata": {},
     "output_type": "execute_result"
    }
   ],
   "source": [
    "f=open('./test.html','r',encoding='utf-8')\n",
    "f.read()"
   ]
  },
  {
   "cell_type": "code",
   "execution_count": 198,
   "metadata": {},
   "outputs": [
    {
     "data": {
      "text/plain": [
       "'\\ufeff<h1>你好!<h1>'"
      ]
     },
     "execution_count": 198,
     "metadata": {},
     "output_type": "execute_result"
    }
   ],
   "source": [
    "f=open('./test.html','r',encoding='utf-8',errors='ignore')\n",
    "f.read()"
   ]
  },
  {
   "cell_type": "markdown",
   "metadata": {},
   "source": [
    "###  写文件\n"
   ]
  },
  {
   "cell_type": "code",
   "execution_count": 206,
   "metadata": {},
   "outputs": [],
   "source": [
    "with open('./student1.txt','a') as f:\n",
    "    f.write('\\n小九 男 苏樱121')\n",
    "    \n",
    "# with open('./student1.txt','w') as f:\n",
    "#     f.write('小红 农村 铭牌121')"
   ]
  },
  {
   "cell_type": "code",
   "execution_count": 232,
   "metadata": {},
   "outputs": [
    {
     "name": "stdout",
     "output_type": "stream",
     "text": [
      "学生名字：小红\n",
      "学生个性：农村\n",
      "学生年级：铭牌121\n",
      "\n",
      "学生名字：小李\n",
      "学生个性：男\n",
      "学生年级：苏樱121\n",
      "\n",
      "学生名字：小九\n",
      "学生个性：男\n",
      "学生年级：苏樱121\n"
     ]
    }
   ],
   "source": [
    "with open('./student1.txt','r') as f:\n",
    "    student2=f.readlines()\n",
    "student2=list(student2)\n",
    "dir(student2[1])\n",
    "for item in student2:\n",
    "        student= item.split(' ')\n",
    "        #     print(list(item.split(' ')))\n",
    "        print('学生名字：%s' %student[0])\n",
    "        print('学生个性：%s' %student[1])\n",
    "        print('学生年级：%s' %student[2])\n"
   ]
  },
  {
   "cell_type": "code",
   "execution_count": null,
   "metadata": {},
   "outputs": [],
   "source": []
  }
 ],
 "metadata": {
  "kernelspec": {
   "display_name": "Python 3",
   "language": "python",
   "name": "python3"
  },
  "language_info": {
   "codemirror_mode": {
    "name": "ipython",
    "version": 3
   },
   "file_extension": ".py",
   "mimetype": "text/x-python",
   "name": "python",
   "nbconvert_exporter": "python",
   "pygments_lexer": "ipython3",
   "version": "3.6.5"
  }
 },
 "nbformat": 4,
 "nbformat_minor": 2
}
