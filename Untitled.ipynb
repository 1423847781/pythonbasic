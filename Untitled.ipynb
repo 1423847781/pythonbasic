{
 "cells": [
  {
   "cell_type": "code",
   "execution_count": 6,
   "metadata": {},
   "outputs": [
    {
     "name": "stdout",
     "output_type": "stream",
     "text": [
      "不能等于1010\n",
      "a不能等于10\n"
     ]
    }
   ],
   "source": [
    "class errorNo10(Exception):\n",
    "    pass\n",
    "\n",
    "try:\n",
    "    a=int(input('不能等于10'))\n",
    "    if a==10:\n",
    "        raise errorNo10('a不能等于10')\n",
    "    print(a)\n",
    "except errorNo10 as e:\n",
    "    print(e)\n",
    "    "
   ]
  },
  {
   "cell_type": "code",
   "execution_count": null,
   "metadata": {},
   "outputs": [],
   "source": []
  }
 ],
 "metadata": {
  "kernelspec": {
   "display_name": "Python 3",
   "language": "python",
   "name": "python3"
  },
  "language_info": {
   "codemirror_mode": {
    "name": "ipython",
    "version": 3
   },
   "file_extension": ".py",
   "mimetype": "text/x-python",
   "name": "python",
   "nbconvert_exporter": "python",
   "pygments_lexer": "ipython3",
   "version": "3.6.5"
  }
 },
 "nbformat": 4,
 "nbformat_minor": 2
}
