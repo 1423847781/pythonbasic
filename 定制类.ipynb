{
 "cells": [
  {
   "cell_type": "markdown",
   "metadata": {},
   "source": [
    "### 定制类\n",
    "看到类似`__slots__`这种形如`__xxx__`的变量或者函数名就要注意，这些在Python中是有特殊用途的。\n",
    "\n",
    "`__slots__`我们已经知道怎么用了，`__len__()`方法我们也知道是为了能让class作用于len()函数。\n",
    "\n",
    "除此之外，Python的class中还有许多这样有特殊用途的函数，可以帮助我们定制类。\n",
    "\n",
    "#### `__str__`\n",
    "我们先定义一个Student类，打印一个实例："
   ]
  },
  {
   "cell_type": "code",
   "execution_count": 18,
   "metadata": {},
   "outputs": [
    {
     "name": "stdout",
     "output_type": "stream",
     "text": [
      "<学生对象：ss >\n"
     ]
    },
    {
     "data": {
      "text/plain": [
       "<学生对象：ss >"
      ]
     },
     "execution_count": 18,
     "metadata": {},
     "output_type": "execute_result"
    }
   ],
   "source": [
    "class Student(object):\n",
    "    def __init__(self, name):\n",
    "        self.name = name\n",
    "        \n",
    "    def __str__(self):\n",
    "        return  '<学生对象：%s >'%self.name\n",
    "    def __repr__(self):\n",
    "        return self.__str__()\n",
    "print(Student('ss'))\n",
    "Student('ss')"
   ]
  },
  {
   "cell_type": "code",
   "execution_count": 11,
   "metadata": {},
   "outputs": [
    {
     "name": "stdout",
     "output_type": "stream",
     "text": [
      "这个猫叫做hellokitty\n"
     ]
    },
    {
     "data": {
      "text/plain": [
       "这个猫叫做hellokitty"
      ]
     },
     "execution_count": 11,
     "metadata": {},
     "output_type": "execute_result"
    }
   ],
   "source": [
    "class Cat():\n",
    "    def __init__(self):\n",
    "        self.name = 'hellokitty'\n",
    "    def __str__(self):\n",
    "        return '这个猫叫做%s'%self.name\n",
    "    def __repr__(self):\n",
    "        return self.__str__()\n",
    "\n",
    "smallCat = Cat()\n",
    "#print(smallCat)===smallCat.__str__()\n",
    "#smallCat.__str__()\n",
    "smallCat.__str__()\n",
    "print(smallCat)\n",
    "#smallCat\n",
    "smallCat.__dir__()\n",
    "smallCat"
   ]
  },
  {
   "cell_type": "code",
   "execution_count": 3,
   "metadata": {},
   "outputs": [
    {
     "name": "stdout",
     "output_type": "stream",
     "text": [
      "Student object (name: Michael)\n"
     ]
    }
   ],
   "source": [
    "#定义好__str__()方法，返回一个好看的字符串就可以了：\n",
    "\n",
    "class Student(object):\n",
    "    def __init__(self, name):\n",
    "        self.name = name\n",
    "    def __str__(self):\n",
    "        return 'Student object (name: %s)' % self.name\n",
    "print(Student('Michael'))"
   ]
  },
  {
   "cell_type": "code",
   "execution_count": 4,
   "metadata": {},
   "outputs": [
    {
     "data": {
      "text/plain": [
       "<__main__.Student at 0x2669801a908>"
      ]
     },
     "execution_count": 4,
     "metadata": {},
     "output_type": "execute_result"
    }
   ],
   "source": [
    "s = Student('Michael')\n",
    "s"
   ]
  },
  {
   "cell_type": "code",
   "execution_count": 22,
   "metadata": {},
   "outputs": [
    {
     "name": "stdout",
     "output_type": "stream",
     "text": [
      "0\n",
      "1\n",
      "2\n",
      "3\n",
      "4\n",
      "5\n",
      "6\n",
      "7\n",
      "8\n",
      "9\n"
     ]
    },
    {
     "data": {
      "text/plain": [
       "[0, 1, 2, 3, 4, 5, 6, 7, 8, 9]"
      ]
     },
     "execution_count": 22,
     "metadata": {},
     "output_type": "execute_result"
    }
   ],
   "source": [
    "#解决办法是再定义一个__repr__()。但是通常__str__()和__repr__()代码都是一样的，所以，有个偷懒的写法：\n",
    "\n",
    "class Student(object):\n",
    "    def __init__(self, name,n):\n",
    "        self.name = name\n",
    "        self.n = n\n",
    "        self.initNum = -1\n",
    "    def __str__(self):\n",
    "        return 'Studebnt object (name=%s)' % self.name\n",
    "    \n",
    "    def __iter__(self):\n",
    "        return self\n",
    "    \n",
    "    def __next__(self):\n",
    "        self.initNum = self.initNum + 1\n",
    "        if self.initNum > (self.n-1):\n",
    "            raise StopIteration()\n",
    "        return self.initNum\n",
    "    \n",
    "    \n",
    "for i in Student('xm',10):\n",
    "    print(i)\n",
    "    \n",
    "list(Student('xm',10))\n",
    "        \n",
    "        "
   ]
  },
  {
   "cell_type": "code",
   "execution_count": 41,
   "metadata": {},
   "outputs": [
    {
     "name": "stdout",
     "output_type": "stream",
     "text": [
      "[1, 2, 3, 5, 8, 13, 21, 34, 55, 89]\n"
     ]
    },
    {
     "data": {
      "text/plain": [
       "55"
      ]
     },
     "execution_count": 41,
     "metadata": {},
     "output_type": "execute_result"
    }
   ],
   "source": [
    "#解决办法是再定义一个__repr__()。但是通常__str__()和__repr__()代码都是一样的，所以，有个偷懒的写法：\n",
    "\n",
    "class Student(object):\n",
    "    def __init__(self, name,n):\n",
    "        self.name = name\n",
    "        self.initN = 0\n",
    "        self.n = n\n",
    "        self.initNum = 0\n",
    "        self.initBack = 1\n",
    "    def __str__(self):\n",
    "        return 'Studebnt object (name=%s)' % self.name\n",
    "    \n",
    "    def __iter__(self):\n",
    "        return self\n",
    "    \n",
    "    def __next__(self):\n",
    "#         temp = self.initBack\n",
    "#         self.initBack = self.initNum + self.initBack\n",
    "#         self.initNum = temp\n",
    "        self.initN = self.initN + 1\n",
    "        self.initNum,self.initBack = self.initBack, self.initNum + self.initBack\n",
    "        if self.initN >  self.n:\n",
    "            raise StopIteration()\n",
    "        return self.initBack\n",
    "    def __len__(self):\n",
    "        return self.n\n",
    "    def __getitem__(self,key):\n",
    "        obj = Student('xx',self.n)\n",
    "        n = 0\n",
    "        result = None\n",
    "        while n<=key:\n",
    "            n = n + 1\n",
    "            result = obj.__next__()\n",
    "        return result\n",
    "\n",
    "a = Student('xm',10)\n",
    "# for i in a:\n",
    "#     print(i)\n",
    "    \n",
    "    \n",
    "    \n",
    "# len(a)\n",
    "\n",
    "print(list(a))\n",
    "# a[8]\n",
    "a[1:5]"
   ]
  },
  {
   "cell_type": "code",
   "execution_count": 14,
   "metadata": {},
   "outputs": [
    {
     "name": "stdout",
     "output_type": "stream",
     "text": [
      "123\n"
     ]
    },
    {
     "data": {
      "text/plain": [
       "13"
      ]
     },
     "execution_count": 14,
     "metadata": {},
     "output_type": "execute_result"
    }
   ],
   "source": [
    "#解决办法是再定义一个__repr__()。但是通常__str__()和__repr__()代码都是一样的，所以，有个偷懒的写法：\n",
    "\n",
    "class Student(object):\n",
    "    def __init__(self, name,n):\n",
    "        self.name = name\n",
    "        self.initN = 0\n",
    "        self.n = n\n",
    "        self.initNum = 0\n",
    "        self.initBack = 1\n",
    "    def __str__(self):\n",
    "        return 'Studebnt object (name=%s)' % self.name\n",
    "    \n",
    "    def __iter__(self):\n",
    "        return self\n",
    "    \n",
    "    def __next__(self):\n",
    "#         temp = self.initBack\n",
    "#         self.initBack = self.initNum + self.initBack\n",
    "#         self.initNum = temp\n",
    "        self.initN = self.initN + 1\n",
    "        self.initNum,self.initBack = self.initBack, self.initNum + self.initBack\n",
    "        if self.initN >  self.n:\n",
    "            raise StopIteration()\n",
    "        return self.initBack\n",
    "    def __len__(self):\n",
    "        return self.n\n",
    "    def __getitem__(self,key):\n",
    "        if isinstance(key,slice):\n",
    "            print('123')\n",
    "            start = key.start\n",
    "            stop = key.stop\n",
    "            step = key.step\n",
    "            newList = []\n",
    "            initN = 0\n",
    "            initNum = 0\n",
    "            initBack = 1\n",
    "            initStep = step\n",
    "            while initN <= self.n:\n",
    "                initNum,initBack = initBack,initNum + initBack\n",
    "                initN = initN + 1\n",
    "                if initN>start:\n",
    "                    if initStep == step:\n",
    "                        newList.append(initBack)\n",
    "                        initStep = 0\n",
    "                    initStep  = initStep + 1\n",
    "                    \n",
    "                    \n",
    "                if initN>stop:\n",
    "                    break\n",
    "            return newList\n",
    "        else:\n",
    "            obj = Student('xx',self.n)\n",
    "            n = 0\n",
    "            result = None\n",
    "            while n<=key:\n",
    "                n = n + 1\n",
    "                result = obj.__next__()\n",
    "            return result\n",
    "    def __call__(self,a,b):\n",
    "        print(123)\n",
    "        return a+b\n",
    "\n",
    "a = Student('xm',10)\n",
    "\n",
    "# a[1:10:2]\n",
    "# a[8]\n",
    "\n",
    "a(3,10)\n",
    "\n"
   ]
  },
  {
   "cell_type": "markdown",
   "metadata": {},
   "source": [
    "### 注意事项\n",
    "** 当我们的迭代器被for循环了，或者已经list过1次之后，在list或者是for循环就会报错，或者是得到空列表，是因为next()已经调用了，现在已经是抛出StopIteration()停止迭代的异常，所以就不能再for循环和next了 **"
   ]
  },
  {
   "cell_type": "markdown",
   "metadata": {},
   "source": [
    "### `__iter__`\n",
    "如果一个类想被用于for ... in循环，类似list或tuple那样，就必须实现一个`__iter__()`方法，该方法返回一个迭代对象，然后，Python的for循环就会不断调用该迭代对象的`__next__()`方法拿到循环的下一个值，直到遇到StopIteration错误时退出循环。\n",
    "\n",
    "我们以斐波那契数列为例，写一个Fib类，可以作用于for循环："
   ]
  },
  {
   "cell_type": "code",
   "execution_count": 6,
   "metadata": {
    "collapsed": true
   },
   "outputs": [],
   "source": [
    "class Fib(object):\n",
    "    def __init__(self):\n",
    "        self.a, self.b = 0, 1 # 初始化两个计数器a，b\n",
    "\n",
    "    def __iter__(self):\n",
    "        return self # 实例本身就是迭代对象，故返回自己\n",
    "\n",
    "    def __next__(self):\n",
    "        self.a, self.b = self.b, self.a + self.b # 计算下一个值\n",
    "        if self.a > 100000: # 退出循环的条件\n",
    "            raise StopIteration()\n",
    "        return self.a # 返回下一个值"
   ]
  },
  {
   "cell_type": "code",
   "execution_count": 14,
   "metadata": {},
   "outputs": [
    {
     "name": "stdout",
     "output_type": "stream",
     "text": [
      "1\n",
      "1\n",
      "2\n",
      "3\n",
      "5\n",
      "8\n",
      "13\n",
      "21\n",
      "34\n",
      "55\n"
     ]
    }
   ],
   "source": [
    "# 1 1 2 3 5 8....\n",
    "class  Fn():\n",
    "    def __init__(self,n):\n",
    "        self.a = 0\n",
    "        self.b = 1\n",
    "        self.count = 0\n",
    "        self.n = n\n",
    "    def __iter__(self):\n",
    "        return self\n",
    "    def __next__(self):\n",
    "        temp = self.a\n",
    "        self.a = self.b\n",
    "        self.b = temp + self.b\n",
    "        self.count = self.count + 1\n",
    "        if self.count>self.n:\n",
    "            raise StopIteration()\n",
    "        return self.a\n",
    "\n",
    "for item in Fn(10):\n",
    "    print(item)"
   ]
  },
  {
   "cell_type": "code",
   "execution_count": 7,
   "metadata": {},
   "outputs": [
    {
     "name": "stdout",
     "output_type": "stream",
     "text": [
      "1\n",
      "1\n",
      "2\n",
      "3\n",
      "5\n",
      "8\n",
      "13\n",
      "21\n",
      "34\n",
      "55\n",
      "89\n",
      "144\n",
      "233\n",
      "377\n",
      "610\n",
      "987\n",
      "1597\n",
      "2584\n",
      "4181\n",
      "6765\n",
      "10946\n",
      "17711\n",
      "28657\n",
      "46368\n",
      "75025\n"
     ]
    }
   ],
   "source": [
    "#试试把Fib实例作用于for循环：\n",
    "for n in Fib():\n",
    "    print(n)"
   ]
  },
  {
   "cell_type": "markdown",
   "metadata": {},
   "source": [
    "### `__getitem__`\n",
    "Fib实例虽然能作用于for循环，看起来和list有点像，但是，把它当成list来使用还是不行，比如，取第5个元素："
   ]
  },
  {
   "cell_type": "code",
   "execution_count": 8,
   "metadata": {},
   "outputs": [
    {
     "ename": "TypeError",
     "evalue": "'Fib' object does not support indexing",
     "output_type": "error",
     "traceback": [
      "\u001b[1;31m---------------------------------------------------------------------------\u001b[0m",
      "\u001b[1;31mTypeError\u001b[0m                                 Traceback (most recent call last)",
      "\u001b[1;32m<ipython-input-8-f91ed6abd284>\u001b[0m in \u001b[0;36m<module>\u001b[1;34m()\u001b[0m\n\u001b[1;32m----> 1\u001b[1;33m \u001b[0mFib\u001b[0m\u001b[1;33m(\u001b[0m\u001b[1;33m)\u001b[0m\u001b[1;33m[\u001b[0m\u001b[1;36m5\u001b[0m\u001b[1;33m]\u001b[0m\u001b[1;33m\u001b[0m\u001b[0m\n\u001b[0m",
      "\u001b[1;31mTypeError\u001b[0m: 'Fib' object does not support indexing"
     ]
    }
   ],
   "source": [
    "Fib()[5]"
   ]
  },
  {
   "cell_type": "code",
   "execution_count": 27,
   "metadata": {},
   "outputs": [
    {
     "name": "stdout",
     "output_type": "stream",
     "text": [
      "1 1 1\n"
     ]
    }
   ],
   "source": [
    "class Student():\n",
    "    def __init__(self,name):\n",
    "        self.name = name\n",
    "    def __getitem__(self,n):\n",
    "        if n ==1:\n",
    "            return self.name\n",
    "        else :\n",
    "            return n\n",
    "a = Student('小红')\n",
    "# a.name\n",
    "# a['key']\n",
    "sl = a[1:1:1]\n",
    "sl.__dir__()\n",
    "print(sl.start,sl.stop,sl.step)"
   ]
  },
  {
   "cell_type": "code",
   "execution_count": 9,
   "metadata": {
    "collapsed": true
   },
   "outputs": [],
   "source": [
    "#实现__getitem__()方法：\n",
    "\n",
    "class Fib(object):\n",
    "    def __getitem__(self, n):\n",
    "        a, b = 1, 1\n",
    "        for x in range(n):\n",
    "            a, b = b, a + b\n",
    "        return a"
   ]
  },
  {
   "cell_type": "code",
   "execution_count": 10,
   "metadata": {},
   "outputs": [
    {
     "data": {
      "text/plain": [
       "573147844013817084101"
      ]
     },
     "execution_count": 10,
     "metadata": {},
     "output_type": "execute_result"
    }
   ],
   "source": [
    "f = Fib()\n",
    "f[0]\n",
    "f[1]\n",
    "f[2]\n",
    "f[3]\n",
    "f[10]\n",
    "f[100]"
   ]
  },
  {
   "cell_type": "code",
   "execution_count": 11,
   "metadata": {},
   "outputs": [
    {
     "data": {
      "text/plain": [
       "[5, 6, 7, 8, 9]"
      ]
     },
     "execution_count": 11,
     "metadata": {},
     "output_type": "execute_result"
    }
   ],
   "source": [
    "list(range(100))[5:10]"
   ]
  },
  {
   "cell_type": "code",
   "execution_count": 12,
   "metadata": {
    "collapsed": true
   },
   "outputs": [],
   "source": [
    "class Fib(object):\n",
    "    def __getitem__(self, n):\n",
    "        if isinstance(n, int): # n是索引\n",
    "            a, b = 1, 1\n",
    "            for x in range(n):\n",
    "                a, b = b, a + b\n",
    "            return a\n",
    "        if isinstance(n, slice): # n是切片\n",
    "            start = n.start\n",
    "            stop = n.stop\n",
    "            if start is None:\n",
    "                start = 0\n",
    "            a, b = 1, 1\n",
    "            L = []\n",
    "            for x in range(stop):\n",
    "                if x >= start:\n",
    "                    L.append(a)\n",
    "                a, b = b, a + b\n",
    "            return L"
   ]
  },
  {
   "cell_type": "code",
   "execution_count": 13,
   "metadata": {},
   "outputs": [
    {
     "data": {
      "text/plain": [
       "[1, 1, 2, 3, 5]"
      ]
     },
     "execution_count": 13,
     "metadata": {},
     "output_type": "execute_result"
    }
   ],
   "source": [
    "#Fib的切片：\n",
    "f = Fib()\n",
    "f[0:5]"
   ]
  },
  {
   "cell_type": "markdown",
   "metadata": {},
   "source": [
    "也没有对负数作处理，所以，要正确实现一个`__getitem__()`还是有很多工作要做的。\n",
    "\n",
    "此外，如果把对象看成dict，`__getitem__()`的参数也可能是一个可以作key的object，例如str。\n",
    "\n",
    "与之对应的是`__setitem__()`方法，把对象视作list或dict来对集合赋值。最后，还有一个`__delitem__()`方法，用于删除某个元素。\n",
    "\n",
    "总之，通过上面的方法，我们自己定义的类表现得和Python自带的list、tuple、dict没什么区别，这完全归功于动态语言的“鸭子类型”，不需要强制继承某个接口。"
   ]
  },
  {
   "cell_type": "code",
   "execution_count": 36,
   "metadata": {},
   "outputs": [
    {
     "data": {
      "text/plain": [
       "'Michael'"
      ]
     },
     "execution_count": 36,
     "metadata": {},
     "output_type": "execute_result"
    }
   ],
   "source": [
    "#__getattr__\n",
    "#正常情况下，当我们调用类的方法或属性时，如果不存在，就会报错。比如定义Student类：\n",
    "\n",
    "class Student(object):\n",
    "    def __init__(self):\n",
    "        self.name = 'Michael'\n",
    "    def __getattr__(self,attr):\n",
    "        return '对不起，得不到属性'\n",
    "        \n",
    "a = Student()\n",
    "a.name\n",
    "a.bb\n",
    "a.name"
   ]
  },
  {
   "cell_type": "code",
   "execution_count": 16,
   "metadata": {
    "collapsed": true
   },
   "outputs": [],
   "source": [
    "#__getattr__()方法，动态返回一个属性。修改如下：\n",
    "class Student(object):\n",
    "\n",
    "    def __init__(self):\n",
    "        self.name = 'Michael'\n",
    "\n",
    "    def __getattr__(self, attr):\n",
    "        if attr=='score':\n",
    "            return 99"
   ]
  },
  {
   "cell_type": "markdown",
   "metadata": {},
   "source": [
    "**当调用不存在的属性时，比如score，Python解释器会试图调用__getattr__(self, 'score')来尝试获得属性，这样，我们就有机会返回score的值**"
   ]
  },
  {
   "cell_type": "code",
   "execution_count": 17,
   "metadata": {},
   "outputs": [
    {
     "data": {
      "text/plain": [
       "99"
      ]
     },
     "execution_count": 17,
     "metadata": {},
     "output_type": "execute_result"
    }
   ],
   "source": [
    "s = Student()\n",
    "s.name\n",
    "s.score"
   ]
  },
  {
   "cell_type": "code",
   "execution_count": 18,
   "metadata": {
    "collapsed": true
   },
   "outputs": [],
   "source": [
    "class Student(object):\n",
    "\n",
    "    def __getattr__(self, attr):\n",
    "        if attr=='age':\n",
    "            return lambda: 25"
   ]
  },
  {
   "cell_type": "markdown",
   "metadata": {},
   "source": [
    "#### 注意到任意调用如s.abc都会返回None，这是因为我们定义的__getattr__默认返回就是None。要让class只响应特定的几个属性，我们就要按照约定，抛出AttributeError的错误："
   ]
  },
  {
   "cell_type": "code",
   "execution_count": 19,
   "metadata": {
    "collapsed": true
   },
   "outputs": [],
   "source": [
    "\n",
    "\n",
    "class Student(object):\n",
    "\n",
    "    def __getattr__(self, attr):\n",
    "        if attr=='age':\n",
    "            return lambda: 25\n",
    "        raise AttributeError('\\'Student\\' object has no attribute \\'%s\\'' % attr)"
   ]
  },
  {
   "cell_type": "code",
   "execution_count": 20,
   "metadata": {
    "collapsed": true
   },
   "outputs": [],
   "source": [
    "#利用完全动态的__getattr__，我们可以写出一个链式调用：\n",
    "\n",
    "class Chain(object):\n",
    "\n",
    "    def __init__(self, path=''):\n",
    "        self._path = path\n",
    "\n",
    "    def __getattr__(self, path):\n",
    "        return Chain('%s/%s' % (self._path, path))\n",
    "\n",
    "    def __str__(self):\n",
    "        return self._path\n",
    "\n",
    "    __repr__ = __str__"
   ]
  },
  {
   "cell_type": "code",
   "execution_count": 21,
   "metadata": {},
   "outputs": [
    {
     "data": {
      "text/plain": [
       "/status/user/timeline/list"
      ]
     },
     "execution_count": 21,
     "metadata": {},
     "output_type": "execute_result"
    }
   ],
   "source": [
    "Chain().status.user.timeline.list"
   ]
  },
  {
   "cell_type": "markdown",
   "metadata": {},
   "source": [
    "### `__call__`\n",
    "一个对象实例可以有自己的属性和方法，当我们调用实例方法时，我们用instance.method()来调用。能不能直接在实例本身上调用呢？在Python中，答案是肯定的。\n",
    "\n",
    "任何类，只需要定义一个`__call__()`方法，就可以直接对实例进行调用。请看示例："
   ]
  },
  {
   "cell_type": "code",
   "execution_count": 22,
   "metadata": {
    "collapsed": true
   },
   "outputs": [],
   "source": [
    "class Student(object):\n",
    "    def __init__(self, name):\n",
    "        self.name = name\n",
    "\n",
    "    def __call__(self):\n",
    "        print('My name is %s.' % self.name)"
   ]
  },
  {
   "cell_type": "code",
   "execution_count": 23,
   "metadata": {},
   "outputs": [
    {
     "name": "stdout",
     "output_type": "stream",
     "text": [
      "My name is Michael.\n"
     ]
    }
   ],
   "source": [
    "s = Student('Michael')\n",
    "s() "
   ]
  },
  {
   "cell_type": "code",
   "execution_count": 3,
   "metadata": {},
   "outputs": [
    {
     "data": {
      "text/plain": [
       "'abc'"
      ]
     },
     "execution_count": 3,
     "metadata": {},
     "output_type": "execute_result"
    }
   ],
   "source": [
    "class Add():\n",
    "    def __init__(self):\n",
    "        self.a = 10\n",
    "        pass\n",
    "    def abc(self):\n",
    "        return 'abc'\n",
    "    def __call__(self,x,y):\n",
    "        return x+y+self.a\n",
    "    \n",
    "add1 = Add()\n",
    "# add1(2,3)\n",
    "dir(add1)\n",
    "add1.abc()"
   ]
  },
  {
   "cell_type": "markdown",
   "metadata": {},
   "source": [
    "`__call__()`还可以定义参数。对实例进行直接调用就好比对一个函数进行调用一样，所以你完全可以把对象看成函数，把函数看成对象，因为这两者之间本来就没啥根本的区别。\n",
    "\n",
    "如果你把对象看成函数，那么函数本身其实也可以在运行期动态创建出来，因为类的实例都是运行期创建出来的，这么一来，我们就模糊了对象和函数的界限。\n",
    "\n",
    "那么，怎么判断一个变量是对象还是函数呢？其实，更多的时候，我们需要**判断一个对象是否能被调用，能被调用的对象就是一个Callable对象**，比如函数和我们上面定义的带有`__call__()`的类实例："
   ]
  },
  {
   "cell_type": "code",
   "execution_count": 25,
   "metadata": {},
   "outputs": [
    {
     "data": {
      "text/plain": [
       "False"
      ]
     },
     "execution_count": 25,
     "metadata": {},
     "output_type": "execute_result"
    }
   ],
   "source": [
    "callable(max)\n",
    "callable([1, 2, 3])\n",
    "callable(None)\n",
    "callable('str')"
   ]
  },
  {
   "cell_type": "code",
   "execution_count": 41,
   "metadata": {},
   "outputs": [
    {
     "data": {
      "text/plain": [
       "True"
      ]
     },
     "execution_count": 41,
     "metadata": {},
     "output_type": "execute_result"
    }
   ],
   "source": [
    "callable(abs)"
   ]
  },
  {
   "cell_type": "code",
   "execution_count": 42,
   "metadata": {},
   "outputs": [
    {
     "data": {
      "text/plain": [
       "False"
      ]
     },
     "execution_count": 42,
     "metadata": {},
     "output_type": "execute_result"
    }
   ],
   "source": [
    "callable([1,2,3])"
   ]
  },
  {
   "cell_type": "code",
   "execution_count": 43,
   "metadata": {},
   "outputs": [
    {
     "ename": "TypeError",
     "evalue": "'list' object is not callable",
     "output_type": "error",
     "traceback": [
      "\u001b[1;31m---------------------------------------------------------------------------\u001b[0m",
      "\u001b[1;31mTypeError\u001b[0m                                 Traceback (most recent call last)",
      "\u001b[1;32m<ipython-input-43-43c25d4aa3fb>\u001b[0m in \u001b[0;36m<module>\u001b[1;34m()\u001b[0m\n\u001b[1;32m----> 1\u001b[1;33m \u001b[1;33m[\u001b[0m\u001b[1;36m1\u001b[0m\u001b[1;33m,\u001b[0m\u001b[1;36m2\u001b[0m\u001b[1;33m,\u001b[0m\u001b[1;36m3\u001b[0m\u001b[1;33m]\u001b[0m\u001b[1;33m(\u001b[0m\u001b[1;33m)\u001b[0m\u001b[1;33m\u001b[0m\u001b[0m\n\u001b[0m",
      "\u001b[1;31mTypeError\u001b[0m: 'list' object is not callable"
     ]
    }
   ],
   "source": [
    "[1,2,3]()"
   ]
  },
  {
   "cell_type": "code",
   "execution_count": 44,
   "metadata": {},
   "outputs": [
    {
     "data": {
      "text/plain": [
       "False"
      ]
     },
     "execution_count": 44,
     "metadata": {},
     "output_type": "execute_result"
    }
   ],
   "source": [
    "callable('str')"
   ]
  },
  {
   "cell_type": "code",
   "execution_count": 45,
   "metadata": {},
   "outputs": [
    {
     "ename": "TypeError",
     "evalue": "'str' object is not callable",
     "output_type": "error",
     "traceback": [
      "\u001b[1;31m---------------------------------------------------------------------------\u001b[0m",
      "\u001b[1;31mTypeError\u001b[0m                                 Traceback (most recent call last)",
      "\u001b[1;32m<ipython-input-45-6813efc573c9>\u001b[0m in \u001b[0;36m<module>\u001b[1;34m()\u001b[0m\n\u001b[1;32m----> 1\u001b[1;33m \u001b[1;34m'str'\u001b[0m\u001b[1;33m(\u001b[0m\u001b[1;33m)\u001b[0m\u001b[1;33m\u001b[0m\u001b[0m\n\u001b[0m",
      "\u001b[1;31mTypeError\u001b[0m: 'str' object is not callable"
     ]
    }
   ],
   "source": [
    "'str'()"
   ]
  },
  {
   "cell_type": "code",
   "execution_count": 46,
   "metadata": {},
   "outputs": [
    {
     "data": {
      "text/plain": [
       "True"
      ]
     },
     "execution_count": 46,
     "metadata": {},
     "output_type": "execute_result"
    }
   ],
   "source": [
    "callable(map)"
   ]
  },
  {
   "cell_type": "code",
   "execution_count": null,
   "metadata": {
    "collapsed": true
   },
   "outputs": [],
   "source": []
  }
 ],
 "metadata": {
  "kernelspec": {
   "display_name": "Python 3",
   "language": "python",
   "name": "python3"
  },
  "language_info": {
   "codemirror_mode": {
    "name": "ipython",
    "version": 3
   },
   "file_extension": ".py",
   "mimetype": "text/x-python",
   "name": "python",
   "nbconvert_exporter": "python",
   "pygments_lexer": "ipython3",
   "version": "3.6.5"
  }
 },
 "nbformat": 4,
 "nbformat_minor": 2
}
