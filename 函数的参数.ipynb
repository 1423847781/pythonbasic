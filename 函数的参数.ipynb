{
 "cells": [
  {
   "cell_type": "markdown",
   "metadata": {},
   "source": [
    "### 函数的参数\n",
    "定义函数的时候，我们把参数的名字和位置确定下来，函数的接口定义就完成了。对于函数的调用者来说，只需要知道如何传递正确的参数，以及函数将返回什么样的值就够了，函数内部的复杂逻辑被封装起来，调用者无需了解。\n",
    "\n",
    "Python的函数定义非常简单，但灵活度却非常大。除了正常定义的必选参数外，还可以使用默认参数、可变参数和关键字参数，使得函数定义出来的接口，不但能处理复杂的参数，还可以简化调用者的代码。\n",
    "\n",
    "位置参数\n",
    "我们先写一个计算x2的函数：\n",
    "```\n",
    "def power(x):\n",
    "    return x * x\n",
    "    ```\n",
    "对于power(x)函数，参数x就是一个位置参数。\n",
    "\n",
    "当我们调用power函数时，必须传入有且仅有的一个参数x：\n",
    "\n",
    "```\n",
    ">>> power(5)\n",
    "25\n",
    ">>> power(15)\n",
    "225\n",
    "```\n",
    "现在，如果我们要计算x3怎么办？可以再定义一个power3函数，但是如果要计算x4、x5……怎么办？我们不可能定义无限多个函数。\n",
    "\n",
    "你也许想到了，可以把power(x)修改为power(x, n)，用来计算xn，说干就干：\n",
    "```\n",
    "def power(x, n):\n",
    "    s = 1\n",
    "    while n > 0:\n",
    "        n = n - 1\n",
    "        s = s * x\n",
    "    return s\n",
    "```\n",
    "对于这个修改后的power(x, n)函数，可以计算任意n次方：\n",
    "```\n",
    ">>> power(5, 2)\n",
    "25\n",
    ">>> power(5, 3)\n",
    "125\n",
    "```\n",
    "修改后的power(x, n)函数有两个参数：x和n，这两个参数都是位置参数，调用函数时，传入的两个值按照位置顺序依次赋给参数x和n。"
   ]
  },
  {
   "cell_type": "markdown",
   "metadata": {},
   "source": [
    "### 默认参数\n",
    "新的power(x, n)函数定义没有问题，但是，旧的调用代码失败了，原因是我们增加了一个参数，导致旧的代码因为缺少一个参数而无法正常调用：\n",
    "```\n",
    ">>> power(5)\n",
    "Traceback (most recent call last):\n",
    "  File \"<stdin>\", line 1, in <module>\n",
    "TypeError: power() missing 1 required positional argument: 'n'\n",
    "Python的错误信息很明确：调用函数power()缺少了一个位置参数n。\n",
    "```\n",
    "这个时候，默认参数就排上用场了。由于我们经常计算x2，所以，完全可以把第二个参数n的默认值设定为2：\n",
    "\n"
   ]
  },
  {
   "cell_type": "code",
   "execution_count": 2,
   "metadata": {},
   "outputs": [
    {
     "data": {
      "text/plain": [
       "[100, 200, 300, 400, 500]"
      ]
     },
     "execution_count": 2,
     "metadata": {},
     "output_type": "execute_result"
    }
   ],
   "source": [
    "# def map1(L,fn):\n",
    "#     nList = []\n",
    "#     for item in L:\n",
    "#         if fn(item):\n",
    "#             nList.append(item)\n",
    "    \n",
    "#     return nList\n",
    "def map1(L,fn=lambda x:x**2):\n",
    "    nList = []\n",
    "    for item in L:\n",
    "        nList.append(fn(item))\n",
    "    return nList\n",
    "\n",
    "map1([1,2,3,4,5],fn=lambda x:x*100)\n",
    "#方便调用\n",
    "\n"
   ]
  },
  {
   "cell_type": "code",
   "execution_count": 36,
   "metadata": {},
   "outputs": [
    {
     "name": "stdout",
     "output_type": "stream",
     "text": [
      "x传字符串:True\n",
      "y传数字:11\n",
      "z传布尔值:str\n",
      "x传字符串:str\n",
      "y传数字:11\n",
      "z传布尔值:True\n"
     ]
    }
   ],
   "source": [
    "def a(x,y,z):\n",
    "    print(\"x传字符串:%s\"%x)\n",
    "    print(\"y传数字:%s\"%y)\n",
    "    print(\"z传布尔值:%s\"%z)\n",
    "\n",
    "a(True,11,'str')\n",
    "a(z=True,y=11,x='str')\n",
    "#在调用的时候，在参数前面加上参数名字，可以不按顺序传值"
   ]
  },
  {
   "cell_type": "code",
   "execution_count": 17,
   "metadata": {},
   "outputs": [
    {
     "name": "stdout",
     "output_type": "stream",
     "text": [
      "[1]\n",
      "[1, 1]\n"
     ]
    }
   ],
   "source": [
    "def abc(x,y=1):\n",
    "    y = y + 1\n",
    "    print(y)\n",
    "\n",
    "def abc(y=[]):\n",
    "    y.append(1)\n",
    "    print(y)\n",
    "\n",
    "\n",
    "abc()\n",
    "abc()\n",
    "\n",
    "# def abc():\n",
    "#     y = []\n",
    "#     y.append(1)\n",
    "#     print(y)\n",
    "    \n",
    "# def abc(a,**args):\n",
    "#     try:\n",
    "#         args['y']\n",
    "#     except:\n",
    "#         args['y']= []\n",
    "        \n",
    "#     print(args)\n",
    "# abc('123',y=10)\n"
   ]
  },
  {
   "cell_type": "code",
   "execution_count": 1,
   "metadata": {
    "collapsed": true
   },
   "outputs": [],
   "source": [
    "def power(x, n=2):\n",
    "    s = 1\n",
    "    while n > 0:\n",
    "        n = n - 1\n",
    "        s = s * x\n",
    "    return s\n"
   ]
  },
  {
   "cell_type": "markdown",
   "metadata": {},
   "source": [
    "这样，当我们调用power(5)时，相当于调用power(5, 2)：\n",
    "```\n",
    ">>> power(5)\n",
    "25\n",
    ">>> power(5, 2)\n",
    "25\n",
    "```\n",
    "而对于n > 2的其他情况，就必须明确地传入n，比如power(5, 3)。\n",
    "\n",
    "从上面的例子可以看出，默认参数可以简化函数的调用。设置默认参数时，有几点要注意：\n",
    "\n",
    "* **一是必选参数在前，默认参数在后，否则Python的解释器会报错（思考一下为什么默认参数不能放在必选参数前面）；**\n",
    "\n",
    "* **二是如何设置默认参数。**\n",
    "\n",
    "当函数有多个参数时，把变化大的参数放前面，变化小的参数放后面。变化小的参数就可以作为默认参数。\n",
    "\n",
    "使用默认参数有什么好处？最大的好处是能降低调用函数的难度。"
   ]
  },
  {
   "cell_type": "code",
   "execution_count": 2,
   "metadata": {
    "collapsed": true
   },
   "outputs": [],
   "source": [
    "def add_end(L=[]):\n",
    "    L.append('END')\n",
    "    return L"
   ]
  },
  {
   "cell_type": "code",
   "execution_count": 34,
   "metadata": {},
   "outputs": [
    {
     "name": "stdout",
     "output_type": "stream",
     "text": [
      "[1, 2, 3, 'student']\n"
     ]
    }
   ],
   "source": [
    "def addList(L=[]):\n",
    "    L.append('student')\n",
    "    return L\n",
    "li = [1,2,3]\n",
    "# addList(li)\n",
    "\n",
    "# addList()\n",
    "# addList()\n",
    "\n",
    "addList(li)\n",
    "print(li)\n",
    "\n"
   ]
  },
  {
   "cell_type": "markdown",
   "metadata": {},
   "source": [
    "**定义默认参数要牢记一点：默认参数必须指向不变对象！**"
   ]
  },
  {
   "cell_type": "markdown",
   "metadata": {},
   "source": [
    "### 可变参数\n",
    "在Python函数中，还可以定义可变参数。顾名思义，可变参数就是传入的参数个数是可变的，可以是1个、2个到任意个，还可以是0个。\n",
    "\n",
    "我们以数学题为例子，给定一组数字a，b，c……，请计算a2 + b2 + c2 + ……。\n",
    "\n",
    "要定义出这个函数，我们必须确定输入的参数。由于参数个数不确定，我们首先想到可以把a，b，c……作为一个list或tuple传进来，这样，函数可以定义如下：\n"
   ]
  },
  {
   "cell_type": "code",
   "execution_count": 3,
   "metadata": {
    "collapsed": true
   },
   "outputs": [],
   "source": [
    "def calc(numbers):\n",
    "    sum = 0\n",
    "    for n in numbers:\n",
    "        sum = sum + n * n\n",
    "    return sum"
   ]
  },
  {
   "cell_type": "code",
   "execution_count": 39,
   "metadata": {},
   "outputs": [
    {
     "name": "stdout",
     "output_type": "stream",
     "text": [
      "('天龙八部', '葵花宝典', '九阴真经', '乾坤大挪移', '玉女心经')\n"
     ]
    },
    {
     "data": {
      "text/plain": [
       "15"
      ]
     },
     "execution_count": 39,
     "metadata": {},
     "output_type": "execute_result"
    }
   ],
   "source": [
    "#a(1,3,4,5,6) ===>1+3+4+5+6\n",
    "def a(*books):\n",
    "    print(books)\n",
    "a('天龙八部','葵花宝典','九阴真经','乾坤大挪移','玉女心经')\n",
    "def add(*numbers):\n",
    "    result =0\n",
    "    for item in numbers:\n",
    "        result= result + item\n",
    "    return result\n",
    "add(1,2,3,4,5)"
   ]
  },
  {
   "cell_type": "code",
   "execution_count": 4,
   "metadata": {},
   "outputs": [
    {
     "data": {
      "text/plain": [
       "14"
      ]
     },
     "execution_count": 4,
     "metadata": {},
     "output_type": "execute_result"
    }
   ],
   "source": [
    "calc([1, 2, 3])"
   ]
  },
  {
   "cell_type": "markdown",
   "metadata": {},
   "source": [
    "可变参数，调用函数的方式可以简化成这样：\n",
    "```\n",
    ">>> calc(1, 2, 3)\n",
    "```"
   ]
  },
  {
   "cell_type": "code",
   "execution_count": 5,
   "metadata": {},
   "outputs": [
    {
     "data": {
      "text/plain": [
       "5"
      ]
     },
     "execution_count": 5,
     "metadata": {},
     "output_type": "execute_result"
    }
   ],
   "source": [
    "def calc(*numbers):\n",
    "    sum = 0\n",
    "    for n in numbers:\n",
    "        sum = sum + n * n\n",
    "    return sum\n",
    "calc(1, 2)"
   ]
  },
  {
   "cell_type": "markdown",
   "metadata": {},
   "source": [
    "已经有一个list或者tuple，要调用一个可变参数怎么办？可以这样做：\n",
    "```\n",
    ">>> nums = [1, 2, 3]\n",
    ">>> calc(nums[0], nums[1], nums[2])\n",
    "```\n",
    "这种写法当然是可行的，问题是太繁琐，所以Python允许你在list或tuple前面加一个*号，把list或tuple的元素变成可变参数传进去：\n",
    "\n"
   ]
  },
  {
   "cell_type": "code",
   "execution_count": 21,
   "metadata": {},
   "outputs": [
    {
     "name": "stdout",
     "output_type": "stream",
     "text": [
      "([1, 2, 3],)\n",
      "(1, 2, 3)\n"
     ]
    }
   ],
   "source": [
    "def calc(*args):\n",
    "    print(args)\n",
    "\n",
    "    \n",
    "nums = [1, 2, 3]\n",
    "calc(nums)\n",
    "calc(*nums)\n",
    "\n"
   ]
  },
  {
   "cell_type": "markdown",
   "metadata": {},
   "source": [
    "* **`*nums`表示把nums这个list的所有元素作为可变参数传进去。这种写法相当有用，而且很常见。**"
   ]
  },
  {
   "cell_type": "markdown",
   "metadata": {},
   "source": [
    "### 关键字参数\n",
    "可变参数允许你传入0个或任意个参数，这些可变参数在函数调用时自动组装为一个tuple。而关键字参数允许你传入0个或任意个含参数名的参数，这些关键字参数在函数内部自动组装为一个dict。请看示例：\n",
    "\n"
   ]
  },
  {
   "cell_type": "code",
   "execution_count": 23,
   "metadata": {},
   "outputs": [
    {
     "name": "stdout",
     "output_type": "stream",
     "text": [
      "{'name': '小黑', 'sex': 'boy', 'age': 18, 'city': 'guangzhou'}\n",
      "110\n"
     ]
    }
   ],
   "source": [
    "def man(studentNum,**person):\n",
    "    print(person)\n",
    "    print(studentNum)\n",
    "\n",
    "man(studentNum=110,name='小黑',sex='boy',age=18,city='guangzhou')"
   ]
  },
  {
   "cell_type": "code",
   "execution_count": 7,
   "metadata": {
    "collapsed": true
   },
   "outputs": [],
   "source": [
    "def person(name, age, **kw):\n",
    "    print('name:', name, 'age:', age, 'other:', kw)"
   ]
  },
  {
   "cell_type": "code",
   "execution_count": 9,
   "metadata": {},
   "outputs": [
    {
     "name": "stdout",
     "output_type": "stream",
     "text": [
      "name: Michael age: 30 other: {}\n"
     ]
    }
   ],
   "source": [
    "person('Michael', 30)"
   ]
  },
  {
   "cell_type": "markdown",
   "metadata": {},
   "source": [
    "### 命名关键字参数\n",
    "对于关键字参数，函数的调用者可以传入任意不受限制的关键字参数。至于到底传入了哪些，就需要在函数内部通过kw检查。\n",
    "\n",
    "仍以person()函数为例，我们希望检查是否有city和job参数：\n",
    "```\n",
    "def person(name, age, **kw):\n",
    "    if 'city' in kw:\n",
    "        # 有city参数\n",
    "        pass\n",
    "    if 'job' in kw:\n",
    "        # 有job参数\n",
    "        pass\n",
    "    print('name:', name, 'age:', age, 'other:', kw)\n",
    "```\n",
    "但是调用者仍可以传入不受限制的关键字参数：\n",
    "```\n",
    ">>> person('Jack', 24, city='Beijing', addr='Chaoyang', zipcode=123456)\n",
    "如果要限制关键字参数的名字，就可以用命名关键字参数，例如，只接收city和job作为关键字参数。这种方式定义的函数如下：\n",
    "```\n"
   ]
  },
  {
   "cell_type": "code",
   "execution_count": 32,
   "metadata": {},
   "outputs": [
    {
     "name": "stdout",
     "output_type": "stream",
     "text": [
      "xiaoming 16 guangzhou chengxuyuan\n",
      "{'sex': 'man', 'stuNum': '123456'}\n",
      "(1, 2, 3)\n",
      "a b\n",
      "d\n"
     ]
    }
   ],
   "source": [
    "def person(a,b,c='c',*q,name, age,  city, job,**others):\n",
    "    #必选参数（a,b）,默认参数c,可变参数q,命名关键字参数(name,age,city,job)，关键字参数others\n",
    "    print(name, age, city, job)\n",
    "    print(others)\n",
    "    print(q)\n",
    "    print(a,b)\n",
    "    print(c)\n",
    "    \n",
    "person('a','b','d',1,2,3,name='xiaoming',age=16,city='guangzhou',job='chengxuyuan',sex='man',stuNum='123456')\n"
   ]
  },
  {
   "cell_type": "code",
   "execution_count": 4,
   "metadata": {},
   "outputs": [
    {
     "name": "stdout",
     "output_type": "stream",
     "text": [
      "110\n",
      "小黑\n",
      "boy\n",
      "{'you': '667'}\n",
      "(16, 17)\n"
     ]
    }
   ],
   "source": [
    "def man(studentNum,*person,name,sex,**abc):\n",
    "    print(studentNum)\n",
    "    print(name)\n",
    "    print(sex)\n",
    "    print(abc)\n",
    "    print(person)\n",
    "\n",
    "man(110,16,17,name='小黑',sex='boy',you='667')"
   ]
  },
  {
   "cell_type": "code",
   "execution_count": 11,
   "metadata": {},
   "outputs": [
    {
     "name": "stdout",
     "output_type": "stream",
     "text": [
      "Jack 24 Beijing Engineer\n"
     ]
    }
   ],
   "source": [
    "# 和关键字参数**kw不同，命名关键字参数需要一个特殊分隔符*，*后面的参数被视为命名关键字参数。\n",
    "\n",
    "# 调用方式如下：\n",
    "person('Jack', 24, city='Beijing', job='Engineer')\n",
    "\n"
   ]
  },
  {
   "cell_type": "code",
   "execution_count": 13,
   "metadata": {},
   "outputs": [],
   "source": [
    "#如果函数定义中已经有了一个可变参数，后面跟着的命名关键字参数就不再需要一个特殊分隔符*了：\n",
    "\n",
    "def person(name, age, *args, city, job):\n",
    "    print(name, age, args, city, job)"
   ]
  },
  {
   "cell_type": "code",
   "execution_count": 14,
   "metadata": {},
   "outputs": [
    {
     "ename": "TypeError",
     "evalue": "person() missing 2 required keyword-only arguments: 'city' and 'job'",
     "output_type": "error",
     "traceback": [
      "\u001b[1;31m---------------------------------------------------------------------------\u001b[0m",
      "\u001b[1;31mTypeError\u001b[0m                                 Traceback (most recent call last)",
      "\u001b[1;32m<ipython-input-14-70c5f703212a>\u001b[0m in \u001b[0;36m<module>\u001b[1;34m()\u001b[0m\n\u001b[1;32m----> 1\u001b[1;33m \u001b[0mperson\u001b[0m\u001b[1;33m(\u001b[0m\u001b[1;34m'Jack'\u001b[0m\u001b[1;33m,\u001b[0m \u001b[1;36m24\u001b[0m\u001b[1;33m,\u001b[0m \u001b[1;34m'Beijing'\u001b[0m\u001b[1;33m,\u001b[0m \u001b[1;34m'Engineer'\u001b[0m\u001b[1;33m)\u001b[0m\u001b[1;33m\u001b[0m\u001b[0m\n\u001b[0m",
      "\u001b[1;31mTypeError\u001b[0m: person() missing 2 required keyword-only arguments: 'city' and 'job'"
     ]
    }
   ],
   "source": [
    "person('Jack', 24, 'Beijing', 'Engineer')"
   ]
  },
  {
   "cell_type": "code",
   "execution_count": 15,
   "metadata": {},
   "outputs": [
    {
     "name": "stdout",
     "output_type": "stream",
     "text": [
      "Jack 24 Beijing Engineer\n"
     ]
    }
   ],
   "source": [
    "def person(name, age, *, city='Beijing', job):\n",
    "    print(name, age, city, job)\n",
    "#由于命名关键字参数city具有默认值，调用时，可不传入city参数：\n",
    "person('Jack', 24, job='Engineer')"
   ]
  },
  {
   "cell_type": "code",
   "execution_count": 17,
   "metadata": {
    "collapsed": true
   },
   "outputs": [],
   "source": [
    "#使用命名关键字参数时，要特别注意，\n",
    "#如果没有可变参数，就必须加一个*作为特殊分隔符。如果缺少*，Python解释器将无法识别位置参数和命名关键字参数：\n",
    "\n",
    "def person(name, age, city, job):\n",
    "    # 缺少 *，city和job被视为位置参数\n",
    "    pass"
   ]
  },
  {
   "cell_type": "markdown",
   "metadata": {},
   "source": [
    "### 参数组合\n",
    "在Python中定义函数，可以用必选参数、默认参数、可变参数、关键字参数和命名关键字参数，这5种参数都可以组合使用。\n",
    "\n",
    "但是请注意，**参数定义的顺序必须是：必选参数、默认参数、可变参数、命名关键字参数和关键字参数。**"
   ]
  },
  {
   "cell_type": "code",
   "execution_count": 57,
   "metadata": {},
   "outputs": [
    {
     "name": "stdout",
     "output_type": "stream",
     "text": [
      "{'color': 'blue'}\n"
     ]
    }
   ],
   "source": [
    "def add(Dict):\n",
    "    print(Dict)\n",
    "\n",
    "a = {'color':'blue'}\n",
    "add(a)"
   ]
  },
  {
   "cell_type": "code",
   "execution_count": null,
   "metadata": {
    "collapsed": true
   },
   "outputs": [],
   "source": []
  }
 ],
 "metadata": {
  "kernelspec": {
   "display_name": "Python 3",
   "language": "python",
   "name": "python3"
  },
  "language_info": {
   "codemirror_mode": {
    "name": "ipython",
    "version": 3
   },
   "file_extension": ".py",
   "mimetype": "text/x-python",
   "name": "python",
   "nbconvert_exporter": "python",
   "pygments_lexer": "ipython3",
   "version": "3.6.5"
  }
 },
 "nbformat": 4,
 "nbformat_minor": 2
}
