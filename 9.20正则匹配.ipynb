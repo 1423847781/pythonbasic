{
 "cells": [
  {
   "cell_type": "code",
   "execution_count": 50,
   "metadata": {},
   "outputs": [
    {
     "name": "stdout",
     "output_type": "stream",
     "text": [
      "<_sre.SRE_Match object; span=(0, 9), match='Hello 215'>\n",
      "0\n",
      "9\n",
      "Hello 215\n",
      "(0, 9)\n"
     ]
    }
   ],
   "source": [
    "import re\n",
    "\n",
    "content='Hello 215 454 World_nvren is beauty q'\n",
    "# a=re.match('\\w{5}',content)\n",
    "\n",
    "a=re.match('Hello 215',content)\n",
    "print(a)\n",
    "print(a.start())\n",
    "print(a.end())\n",
    "print(a.group()) \n",
    "print(a.span())"
   ]
  },
  {
   "cell_type": "code",
   "execution_count": 63,
   "metadata": {},
   "outputs": [
    {
     "name": "stdout",
     "output_type": "stream",
     "text": [
      "<_sre.SRE_Match object; span=(0, 11), match='Hello 215 4'>\n",
      "0\n",
      "11\n",
      "Hello 215 4\n",
      "(0, 11)\n"
     ]
    }
   ],
   "source": [
    "import re\n",
    "\n",
    "content='Hello 215 454 World_nvren is beauty q Regex Demo'\n",
    "# a=re.match('\\w{5}\\s\\d{3}\\s\\d{3}\\s\\w{11}\\s\\w{2}\\s\\w{6}\\s\\w{1}',content)\n",
    "\n",
    "a=re.match('[a-z A-Z 0-9]{1,11}',content)\n",
    "# a=re.match('.*',content)\n",
    "\n",
    "# a=re.match('^h.*Demo$',content,re.I) re.I为不去区分大小写\n",
    "# a=re.match('Hello',content)\n",
    "print(a)\n",
    "print(a.start())\n",
    "print(a.end())\n",
    "print(a.group()) \n",
    "print(a.span())"
   ]
  },
  {
   "cell_type": "code",
   "execution_count": 5,
   "metadata": {},
   "outputs": [
    {
     "name": "stdout",
     "output_type": "stream",
     "text": [
      "<_sre.SRE_Match object; span=(0, 48), match='Hello 215 454 World_nvren is beauty q Regex Demo'>\n",
      "Hello 215 454 World_nvren is beauty q Regex Demo\n",
      "(0, 48)\n"
     ]
    }
   ],
   "source": [
    "import re\n",
    "content='Hello 215 454 World_nvren is beauty q Regex Demo'\n",
    "result=re.match('^He.*Demo$',content)\n",
    "print(result)\n",
    "print(result.group())\n",
    "print(result.span())"
   ]
  },
  {
   "cell_type": "markdown",
   "metadata": {},
   "source": [
    "## re.match\n",
    "re.match 尝试从字符串的起始位置匹配一个模式，如果不是起始位置匹配成功的话，match()就返回none。"
   ]
  },
  {
   "cell_type": "code",
   "execution_count": 2,
   "metadata": {},
   "outputs": [
    {
     "ename": "NameError",
     "evalue": "name 'pattern' is not defined",
     "output_type": "error",
     "traceback": [
      "\u001b[1;31m---------------------------------------------------------------------------\u001b[0m",
      "\u001b[1;31mNameError\u001b[0m                                 Traceback (most recent call last)",
      "\u001b[1;32m<ipython-input-2-417c52c60e61>\u001b[0m in \u001b[0;36m<module>\u001b[1;34m()\u001b[0m\n\u001b[0;32m      1\u001b[0m \u001b[1;32mimport\u001b[0m \u001b[0mre\u001b[0m\u001b[1;33m\u001b[0m\u001b[0m\n\u001b[1;32m----> 2\u001b[1;33m \u001b[0mre\u001b[0m\u001b[1;33m.\u001b[0m\u001b[0mmatch\u001b[0m\u001b[1;33m(\u001b[0m\u001b[0mpattern\u001b[0m\u001b[1;33m,\u001b[0m \u001b[0mstring\u001b[0m\u001b[1;33m,\u001b[0m \u001b[0mflags\u001b[0m\u001b[1;33m=\u001b[0m\u001b[1;36m0\u001b[0m\u001b[1;33m)\u001b[0m\u001b[1;33m\u001b[0m\u001b[0m\n\u001b[0m",
      "\u001b[1;31mNameError\u001b[0m: name 'pattern' is not defined"
     ]
    }
   ],
   "source": [
    "import re\n",
    "re.match(pattern, string, flags=0)"
   ]
  },
  {
   "cell_type": "code",
   "execution_count": 10,
   "metadata": {},
   "outputs": [
    {
     "name": "stdout",
     "output_type": "stream",
     "text": [
      "('World_nvren', 'egex', 'Demo')\n"
     ]
    },
    {
     "data": {
      "text/plain": [
       "'Demo'"
      ]
     },
     "execution_count": 10,
     "metadata": {},
     "output_type": "execute_result"
    }
   ],
   "source": [
    "import re\n",
    "content='Hello  4544215 World_nvren is beauty q Regex Demo'\n",
    "\n",
    "result=re.search('\\w{7} (\\w*) \\w{2}.{11}(\\w*) (\\w*)',content)\n",
    "result\n",
    "result.group()\n",
    "groups=result.groups()\n",
    "print(groups)\n",
    "groups[2]"
   ]
  },
  {
   "cell_type": "markdown",
   "metadata": {},
   "source": [
    "###  贪婪匹配"
   ]
  },
  {
   "cell_type": "code",
   "execution_count": 118,
   "metadata": {},
   "outputs": [
    {
     "name": "stdout",
     "output_type": "stream",
     "text": [
      "<_sre.SRE_Match object; span=(0, 49), match='Hello 48430215 World_nvren is beauty q Regex Demo>\n",
      "5\n"
     ]
    },
    {
     "data": {
      "text/plain": [
       "'5'"
      ]
     },
     "execution_count": 118,
     "metadata": {},
     "output_type": "execute_result"
    }
   ],
   "source": [
    "import re\n",
    "\n",
    "content='Hello 48430215 World_nvren is beauty q Regex Demo'\n",
    "result=re.match('^H.*(\\d+).*Demo$',content)\n",
    "print(result)\n",
    "print(result.group(1))\n",
    "result.group(1)"
   ]
  },
  {
   "cell_type": "code",
   "execution_count": 121,
   "metadata": {},
   "outputs": [
    {
     "name": "stdout",
     "output_type": "stream",
     "text": [
      "<_sre.SRE_Match object; span=(0, 49), match='Hello  4543215 World_nvren is beauty q Regex Demo>\n",
      "4543215\n"
     ]
    },
    {
     "data": {
      "text/plain": [
       "'Hello  4543215 World_nvren is beauty q Regex Demo'"
      ]
     },
     "execution_count": 121,
     "metadata": {},
     "output_type": "execute_result"
    }
   ],
   "source": [
    "import re\n",
    "#非贪婪匹配\n",
    "content='Hello  4543215 World_nvren is beauty q Regex Demo'\n",
    "result=re.match('^He.*?(\\d+).*Demo$',content)\n",
    "print(result)\n",
    "print(result.group(1))\n",
    "result.group()"
   ]
  },
  {
   "cell_type": "code",
   "execution_count": 98,
   "metadata": {},
   "outputs": [
    {
     "name": "stdout",
     "output_type": "stream",
     "text": [
      "RegexFlag.DOTALL\n",
      "RegexFlag.IGNORECASE\n",
      "4543215\n"
     ]
    },
    {
     "data": {
      "text/plain": [
       "'Hello  4543215 World_nvren\\nis beauty\\nq Regex Demo'"
      ]
     },
     "execution_count": 98,
     "metadata": {},
     "output_type": "execute_result"
    }
   ],
   "source": [
    "import re\n",
    "content='''Hello  4543215 World_nvren\n",
    "is beauty\n",
    "q Regex Demo\n",
    "'''\n",
    "\n",
    "print(re.S)\n",
    "print(re.I)\n",
    "result = re.match('^He.*?(\\d+).*?Demo$', content, re.S)\n",
    "print(result.group(1))\n",
    "result.group()"
   ]
  },
  {
   "cell_type": "code",
   "execution_count": 94,
   "metadata": {},
   "outputs": [
    {
     "name": "stdout",
     "output_type": "stream",
     "text": [
      "<_sre.SRE_Match object; span=(0, 15), match='price\\\\ is $5.00'>\n",
      "price\\ is $5.00\n"
     ]
    },
    {
     "data": {
      "text/plain": [
       "'price\\\\ is $5.00'"
      ]
     },
     "execution_count": 94,
     "metadata": {},
     "output_type": "execute_result"
    }
   ],
   "source": [
    "#转义\n",
    "\n",
    "import re\n",
    "\n",
    "content = 'price\\ is $5.00'\n",
    "result = re.match('price\\\\\\ is \\$5\\.00', content)\n",
    "print(result)\n",
    "print(result.group())\n",
    "result.group()\n",
    "content"
   ]
  },
  {
   "cell_type": "code",
   "execution_count": 97,
   "metadata": {},
   "outputs": [
    {
     "name": "stdout",
     "output_type": "stream",
     "text": [
      "<_sre.SRE_Match object; span=(0, 14), match='price is $5.00'>\n"
     ]
    },
    {
     "data": {
      "text/plain": [
       "()"
      ]
     },
     "execution_count": 97,
     "metadata": {},
     "output_type": "execute_result"
    }
   ],
   "source": [
    "import re\n",
    "content = 'price is $5.00'\n",
    "result = re.match('price is \\$5\\.00', content)\n",
    "print(result)\n",
    "result.groups()"
   ]
  },
  {
   "cell_type": "markdown",
   "metadata": {},
   "source": [
    "## re.search\n",
    "re.search 扫描整个字符串并返回第一个成功的匹配。"
   ]
  },
  {
   "cell_type": "code",
   "execution_count": 105,
   "metadata": {},
   "outputs": [
    {
     "name": "stdout",
     "output_type": "stream",
     "text": [
      "None\n"
     ]
    }
   ],
   "source": [
    "import re\n",
    "\n",
    "\n",
    "content = 'Extra stings Hello 1234567 World_This is a Regex Demo Extra stings'\n",
    "result = re.match('Hello.*?(\\d+).*?Demo', content)\n",
    "print(result)"
   ]
  },
  {
   "cell_type": "markdown",
   "metadata": {},
   "source": [
    "### re.findall 找出所有"
   ]
  },
  {
   "cell_type": "code",
   "execution_count": null,
   "metadata": {},
   "outputs": [],
   "source": []
  }
 ],
 "metadata": {
  "kernelspec": {
   "display_name": "Python 3",
   "language": "python",
   "name": "python3"
  },
  "language_info": {
   "codemirror_mode": {
    "name": "ipython",
    "version": 3
   },
   "file_extension": ".py",
   "mimetype": "text/x-python",
   "name": "python",
   "nbconvert_exporter": "python",
   "pygments_lexer": "ipython3",
   "version": "3.6.5"
  }
 },
 "nbformat": 4,
 "nbformat_minor": 2
}
