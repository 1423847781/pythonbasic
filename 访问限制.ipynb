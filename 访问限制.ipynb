{
 "cells": [
  {
   "cell_type": "markdown",
   "metadata": {},
   "source": [
    "### 访问限制\n",
    "在Class内部，可以有属性和方法，而外部代码可以通过直接调用实例变量的方法来操作数据，这样，就隐藏了内部的复杂逻辑。\n",
    "\n",
    "但是，从前面Student类的定义来看，外部代码还是可以自由地修改一个实例的name、score属性"
   ]
  },
  {
   "cell_type": "code",
   "execution_count": 4,
   "metadata": {},
   "outputs": [
    {
     "name": "stdout",
     "output_type": "stream",
     "text": [
      "我的名字是：xiaohei\n"
     ]
    }
   ],
   "source": [
    "class Student():\n",
    "    def __init__(self,name):\n",
    "        self.name = name\n",
    "        \n",
    "    def sayName(self):\n",
    "        print('我的名字是：%s'%self.name)\n",
    "    \n",
    "s1 = Student('xiaoming')\n",
    "s1.name = 'xiaohei'\n",
    "s1.sayName()\n",
    "\n",
    "#1/希望能够不让外界直接获取得到属性值\n",
    "#2/不希望挖外界可以直接更改这个值\n",
    "#3/但是这个属性可以在内部进行流转，内部可以设置/可以获取\n"
   ]
  },
  {
   "cell_type": "code",
   "execution_count": 1,
   "metadata": {},
   "outputs": [
    {
     "name": "stdout",
     "output_type": "stream",
     "text": [
      "['_Student__nickname', '__class__', '__delattr__', '__dict__', '__dir__', '__doc__', '__eq__', '__format__', '__ge__', '__getattribute__', '__gt__', '__hash__', '__init__', '__init_subclass__', '__le__', '__lt__', '__module__', '__ne__', '__new__', '__nickname', '__reduce__', '__reduce_ex__', '__repr__', '__setattr__', '__sizeof__', '__str__', '__subclasshook__', '__weakref__', 'name', 'sayName', 'sayNickname']\n",
      "这个别名是：隔壁老王\n",
      "['_Student__nickname', '__class__', '__delattr__', '__dict__', '__dir__', '__doc__', '__eq__', '__format__', '__ge__', '__getattribute__', '__gt__', '__hash__', '__init__', '__init_subclass__', '__le__', '__lt__', '__module__', '__ne__', '__new__', '__nickname', '__reduce__', '__reduce_ex__', '__repr__', '__setattr__', '__sizeof__', '__str__', '__subclasshook__', '__weakref__', 'name', 'sayName', 'sayNickname']\n",
      "这个别名是：飞天小喵\n"
     ]
    }
   ],
   "source": [
    "class Student():\n",
    "    def __init__(self,name):\n",
    "        self.name = name\n",
    "        #self.__属性的名称就可以设置这个私有变量\n",
    "        self.__nickname = '隔壁老王'\n",
    "        \n",
    "        \n",
    "    def sayName(self):\n",
    "        print('我的名字是：%s'%self.name)\n",
    "        \n",
    "    def sayNickname(self):\n",
    "        print(dir(self))\n",
    "        print('这个别名是：%s'%self._Student__nickname)\n",
    "#         print('这个别名是：%s'%self.__nickname)\n",
    "        \n",
    "        \n",
    "        \n",
    "        \n",
    "        \n",
    "s1 = Student('laowang')\n",
    "# s1.__nickname\n",
    "s1.__nickname = '老李'\n",
    "s1.sayNickname()\n",
    "\n",
    "#除了class内置方法，凡是在class方法内部使用__属性名时候，这个时候class内部会自动加上_类名，属性名由原来__属性改为，_类名__属性名\n",
    "\n",
    "\n",
    "# dir(s1)\n",
    "#放君子，但不妨小人\n",
    "# s1._Student__nickname = '飞天小喵'\n",
    "# s1.sayNickname()"
   ]
  },
  {
   "cell_type": "code",
   "execution_count": 3,
   "metadata": {},
   "outputs": [
    {
     "data": {
      "text/plain": [
       "99"
      ]
     },
     "execution_count": 3,
     "metadata": {},
     "output_type": "execute_result"
    }
   ],
   "source": [
    "bart.score = 99\n",
    "bart.score"
   ]
  },
  {
   "cell_type": "markdown",
   "metadata": {},
   "source": [
    "### 私有变量\n",
    "内部属性不被外部访问，可以把属性的名称前加上两个下划线__，在Python中，实例的变量名如果以__开头，就变成了一个私有变量（private），只有内部可以访问，外部不能访问，所以，我们把Student类改一改"
   ]
  },
  {
   "cell_type": "code",
   "execution_count": 5,
   "metadata": {},
   "outputs": [],
   "source": [
    "class Student(object):\n",
    "\n",
    "    def __init__(self, name, score):\n",
    "        self.__name = name\n",
    "        self.__score = score\n",
    "\n",
    "    def print_score(self):\n",
    "        print('%s: %s' % (self.__name, self.__score))\n",
    "# s1=Student('xiaohei')\n",
    "# s1.name=\"xiaohei\"\n",
    "# s1.age=\"18\""
   ]
  },
  {
   "cell_type": "code",
   "execution_count": 5,
   "metadata": {},
   "outputs": [
    {
     "ename": "AttributeError",
     "evalue": "'Student' object has no attribute '__name'",
     "output_type": "error",
     "traceback": [
      "\u001b[1;31m---------------------------------------------------------------------------\u001b[0m",
      "\u001b[1;31mAttributeError\u001b[0m                            Traceback (most recent call last)",
      "\u001b[1;32m<ipython-input-5-ed93bb580d2d>\u001b[0m in \u001b[0;36m<module>\u001b[1;34m()\u001b[0m\n\u001b[0;32m      1\u001b[0m \u001b[0mbart\u001b[0m \u001b[1;33m=\u001b[0m \u001b[0mStudent\u001b[0m\u001b[1;33m(\u001b[0m\u001b[1;34m'Bart Simpson'\u001b[0m\u001b[1;33m,\u001b[0m \u001b[1;36m59\u001b[0m\u001b[1;33m)\u001b[0m\u001b[1;33m\u001b[0m\u001b[0m\n\u001b[1;32m----> 2\u001b[1;33m \u001b[0mbart\u001b[0m\u001b[1;33m.\u001b[0m\u001b[0m__name\u001b[0m\u001b[1;33m\u001b[0m\u001b[0m\n\u001b[0m",
      "\u001b[1;31mAttributeError\u001b[0m: 'Student' object has no attribute '__name'"
     ]
    }
   ],
   "source": [
    "bart = Student('Bart Simpson', 59)\n",
    "bart.__name"
   ]
  },
  {
   "cell_type": "code",
   "execution_count": 30,
   "metadata": {},
   "outputs": [
    {
     "name": "stdout",
     "output_type": "stream",
     "text": [
      "我的小名是：二狗子\n",
      "修改成功\n",
      "我的小名是：旺财\n",
      "hello@mail.com\n",
      "对不起，你的不是邮箱账号\n",
      "邮箱账号修改成功\n",
      "123@qq.com\n",
      "1234\n"
     ]
    }
   ],
   "source": [
    "class Student():\n",
    "    def __init__(self,name,score,mail='hello@mail.com',nickname='二狗子'):\n",
    "        self.name = name\n",
    "        self.score = score\n",
    "        self.__nickname = nickname\n",
    "        self.__mail = mail\n",
    "    def sayName(self):\n",
    "        print('我的名字是：%s'%self.name)\n",
    "    def sayNickname(self):\n",
    "        print('我的小名是：%s'%self.__nickname)\n",
    "    def changeNickname(self,newName):\n",
    "        self.__nickname = newName\n",
    "        print('修改成功')\n",
    "    def changeMail(self,newMail):\n",
    "        if newMail.find('@')==-1:\n",
    "            print('对不起，你的不是邮箱账号')\n",
    "        else :\n",
    "            self.__mail = newMail\n",
    "            print('邮箱账号修改成功')\n",
    "    def getMail(self):\n",
    "        print(self.__mail)\n",
    "        \n",
    "        \n",
    "bart = Student('Bart Simpson', 59)\n",
    "bart.__nickname = '小白'\n",
    "bart.__nickname\n",
    "\n",
    "bart.sayNickname()\n",
    "bart.changeNickname('旺财')\n",
    "bart.sayNickname()\n",
    "bart.__nickname\n",
    "\n",
    "# print(bart.mail)\n",
    "# bart.mail = 21234\n",
    "# print(bart.mail)\n",
    "\n",
    "# help(str)\n",
    "# '123'.find('@')\n",
    "\n",
    "\n",
    "bart.getMail()\n",
    "bart.changeMail('1795738')\n",
    "bart.changeMail('123@qq.com')\n",
    "bart.getMail()\n",
    "\n",
    "\n",
    "bart.__dict__\n",
    "bart._Student__mail\n",
    "bart._Student__mail = '1234'\n",
    "bart.getMail()"
   ]
  },
  {
   "cell_type": "code",
   "execution_count": 9,
   "metadata": {
    "collapsed": true
   },
   "outputs": [],
   "source": [
    "#允许外部代码修改score怎么办？可以再给Student类增加set_score方法：\n",
    "class Student(object):\n",
    "    def set_score(self, score):\n",
    "        self.__score = score"
   ]
  },
  {
   "cell_type": "markdown",
   "metadata": {},
   "source": [
    "**在方法中，可以对参数做检查，避免传入无效的参数**"
   ]
  },
  {
   "cell_type": "code",
   "execution_count": 8,
   "metadata": {
    "collapsed": true
   },
   "outputs": [],
   "source": [
    "class Student(object):\n",
    "    def set_score(self, score):\n",
    "        if 0 <= score <= 100:\n",
    "            self.__score = score\n",
    "        else:\n",
    "            raise ValueError('bad score')"
   ]
  },
  {
   "cell_type": "markdown",
   "metadata": {},
   "source": [
    "#### 不能直接访问的原因\n",
    "不能直接访问__name是因为Python解释器对外把__name变量改成了_Student__name，所以，仍然可以通过_Student__name来访问__name变量："
   ]
  },
  {
   "cell_type": "code",
   "execution_count": 10,
   "metadata": {},
   "outputs": [
    {
     "data": {
      "text/plain": [
       "'Bart Simpson'"
      ]
     },
     "execution_count": 10,
     "metadata": {},
     "output_type": "execute_result"
    }
   ],
   "source": [
    "bart._Student__name"
   ]
  },
  {
   "cell_type": "markdown",
   "metadata": {},
   "source": [
    "### 注意下面的这种错误写法：\n",
    "```\n",
    "bart = Student('Bart Simpson', 59)\n",
    "bart.get_name()\n",
    "bart.__name = 'New Name' # 设置__name变量！\n",
    "bart.__name\n",
    "```"
   ]
  },
  {
   "cell_type": "code",
   "execution_count": null,
   "metadata": {
    "collapsed": true
   },
   "outputs": [],
   "source": []
  }
 ],
 "metadata": {
  "kernelspec": {
   "display_name": "Python 3",
   "language": "python",
   "name": "python3"
  },
  "language_info": {
   "codemirror_mode": {
    "name": "ipython",
    "version": 3
   },
   "file_extension": ".py",
   "mimetype": "text/x-python",
   "name": "python",
   "nbconvert_exporter": "python",
   "pygments_lexer": "ipython3",
   "version": "3.6.5"
  }
 },
 "nbformat": 4,
 "nbformat_minor": 2
}
