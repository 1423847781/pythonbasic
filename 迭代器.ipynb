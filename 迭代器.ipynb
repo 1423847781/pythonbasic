{
 "cells": [
  {
   "cell_type": "markdown",
   "metadata": {},
   "source": [
    "### 迭代器\n",
    "我们已经知道，可以直接作用于for循环的数据类型有以下几种：\n",
    "\n",
    "一类是集合数据类型，如list、tuple、dict、set、str等；\n",
    "\n",
    "一类是generator，包括生成器和带yield的generator function。\n",
    "\n",
    "**这些可以直接作用于for循环的对象统称为可迭代对象：Iterable**\n",
    "**可以被next()函数调用并不断返回下一个值的对象称为迭代器：Iterator**"
   ]
  },
  {
   "cell_type": "code",
   "execution_count": 10,
   "metadata": {},
   "outputs": [
    {
     "data": {
      "text/plain": [
       "False"
      ]
     },
     "execution_count": 10,
     "metadata": {},
     "output_type": "execute_result"
    }
   ],
   "source": [
    "#isinstance()判断一个对象是否是Iterable对象：\n",
    "from collections import Iterable\n",
    "isinstance([], Iterable)\n",
    "isinstance({}, Iterable)\n",
    "isinstance('abc', Iterable)\n",
    "isinstance((x for x in range(10)), Iterable)\n",
    "isinstance(100, Iterable)"
   ]
  },
  {
   "cell_type": "markdown",
   "metadata": {},
   "source": [
    "#### 可以被next()函数调用并不断返回下一个值的对象称为迭代器：Iterator"
   ]
  },
  {
   "cell_type": "code",
   "execution_count": 15,
   "metadata": {},
   "outputs": [
    {
     "name": "stdout",
     "output_type": "stream",
     "text": [
      "True\n",
      "False\n",
      "False\n",
      "False\n",
      "False\n"
     ]
    }
   ],
   "source": [
    "from collections import Iterator,Iterable\n",
    "print(isinstance((x for x in range(10)), Iterator))\n",
    "print(isinstance([], Iterator))\n",
    "print(isinstance({}, Iterator))\n",
    "print(isinstance('abc', Iterator))\n",
    "print(isinstance(range(10),Iterator))\n",
    "\n",
    "\n",
    "# def fib(max):\n",
    "#     n, a, b = 0, 0, 1\n",
    "#     ll = []\n",
    "#     while n < max:\n",
    "# #         print(b)\n",
    "#         yield b \n",
    "#         ll.append(b)\n",
    "#         a, b = b, a + b\n",
    "#         n = n + 1\n",
    "#     return ll\n",
    "\n",
    "# a =  fib(12)\n",
    "# b = (x for x in range(10))\n",
    "\n",
    "\n",
    "# print(isinstance(a,Iterator))\n",
    "# print(isinstance((x for x in range(10)), Iterator))\n",
    "\n",
    "# next(a)\n",
    "# next(b)\n",
    "# next([1,2,3])"
   ]
  },
  {
   "cell_type": "code",
   "execution_count": 9,
   "metadata": {},
   "outputs": [
    {
     "name": "stdout",
     "output_type": "stream",
     "text": [
      "1\n",
      "2\n",
      "3\n",
      "4\n",
      "5\n",
      "6\n"
     ]
    },
    {
     "ename": "StopIteration",
     "evalue": "",
     "output_type": "error",
     "traceback": [
      "\u001b[1;31m---------------------------------------------------------------------------\u001b[0m",
      "\u001b[1;31mStopIteration\u001b[0m                             Traceback (most recent call last)",
      "\u001b[1;32m<ipython-input-9-0a72adcfa731>\u001b[0m in \u001b[0;36m<module>\u001b[1;34m()\u001b[0m\n\u001b[0;32m      9\u001b[0m \u001b[1;31m# print(next(LL))\u001b[0m\u001b[1;33m\u001b[0m\u001b[1;33m\u001b[0m\u001b[0m\n\u001b[0;32m     10\u001b[0m \u001b[1;32mwhile\u001b[0m \u001b[1;32mTrue\u001b[0m\u001b[1;33m:\u001b[0m\u001b[1;33m\u001b[0m\u001b[0m\n\u001b[1;32m---> 11\u001b[1;33m    \u001b[0mprint\u001b[0m\u001b[1;33m(\u001b[0m\u001b[0mnext\u001b[0m\u001b[1;33m(\u001b[0m\u001b[0mLL\u001b[0m\u001b[1;33m)\u001b[0m\u001b[1;33m)\u001b[0m\u001b[1;33m\u001b[0m\u001b[0m\n\u001b[0m",
      "\u001b[1;31mStopIteration\u001b[0m: "
     ]
    }
   ],
   "source": [
    "L = [1,2,3,4,5,6]\n",
    "#next(L)\n",
    "l = range(0,11)\n",
    "#next(l)\n",
    "\n",
    "LL = iter(L)\n",
    "# LL\n",
    "# print(next(LL))\n",
    "# print(next(LL))\n",
    "while True:\n",
    "   print(next(LL)) "
   ]
  },
  {
   "cell_type": "code",
   "execution_count": 11,
   "metadata": {},
   "outputs": [
    {
     "data": {
      "text/plain": [
       "True"
      ]
     },
     "execution_count": 11,
     "metadata": {},
     "output_type": "execute_result"
    }
   ],
   "source": [
    "#把list、dict、str等Iterable变成Iterator可以使用iter()函数：\n",
    "# isinstance(iter([]), Iterator)\n",
    "# isinstance(iter('abc'), Iterator)\n",
    "from collections import Iterator\n",
    "isinstance(LL,Iterator)"
   ]
  },
  {
   "cell_type": "markdown",
   "metadata": {},
   "source": [
    "这是因为Python的Iterator对象表示的是一个数据流，Iterator对象可以被next()函数调用并不断返回下一个数据，直到没有数据时抛出StopIteration错误。可以把这个数据流看做是一个有序序列，但我们却不能提前知道序列的长度，只能不断通过next()函数实现按需计算下一个数据，所以Iterator的计算是惰性的，只有在需要返回下一个数据时它才会计算。\n",
    "\n",
    "**Iterator甚至可以表示一个无限大的数据流，例如全体自然数。\n",
    "而使用list是永远不可能存储全体自然数的。**"
   ]
  },
  {
   "cell_type": "markdown",
   "metadata": {},
   "source": [
    "### 小结\n",
    "凡是可作用于for循环的对象都是Iterable类型；\n",
    "\n",
    "凡是可作用于next()函数的对象都是Iterator类型，它们表示一个惰性计算的序列；\n",
    "\n",
    "集合数据类型如list、dict、str等是Iterable但不是Iterator，不过可以通过iter()函数获得一个Iterator对象。"
   ]
  },
  {
   "cell_type": "code",
   "execution_count": null,
   "metadata": {
    "collapsed": true
   },
   "outputs": [],
   "source": []
  }
 ],
 "metadata": {
  "kernelspec": {
   "display_name": "Python 3",
   "language": "python",
   "name": "python3"
  },
  "language_info": {
   "codemirror_mode": {
    "name": "ipython",
    "version": 3
   },
   "file_extension": ".py",
   "mimetype": "text/x-python",
   "name": "python",
   "nbconvert_exporter": "python",
   "pygments_lexer": "ipython3",
   "version": "3.6.5"
  }
 },
 "nbformat": 4,
 "nbformat_minor": 2
}
