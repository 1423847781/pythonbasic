{
 "cells": [
  {
   "cell_type": "markdown",
   "metadata": {},
   "source": [
    "## Jupyter Notebook\n",
    "Jupyther notebook ,也就是一般说的 Ipython notebook，是一个可以把代码、图像、注释、公式和作图集于一处，从而实现可读性分析的一种灵活的工具。 \n",
    "Jupyter延伸性很好，支持多种编程语言，可以很轻松地安装在个人电脑或者任何服务器上——只要有ssh或者http接入就可以啦。最棒的一点是，它完全免费哦。\n",
    "\n",
    "默认情况下，Jupyter Notebook 使用Python内核，这就是为什么它原名 IPython Notebook。Jupyter notebook是Jupyter项目的产物——Jupyter这个名字是它要服务的三种语言的缩写：Julia，PYThon和R，这个名字与“木星（jupiter）”谐音。\n",
    "\n",
    "### 1、快捷键\n",
    "高手们都知道，快捷键可以节省很多时间。Jupyter在顶部菜单提供了一个快捷键列表：Help > Keyboard Shortcuts 。每次更新Jupyter的时候，一定要看看这个列表，因为不断地有新的快捷键加进来。另外一个方法是使用Cmd + Shift + P (  Linux 和 Windows下 Ctrl + Shift + P亦可)调出命令面板。这个对话框可以让你通过名称来运行任何命令——当你不知道某个操作的快捷键，或者那个操作没有快捷键的时候尤其有用。这个功能与苹果电脑上的Spotlight搜索很像，一旦开始使用，你会欲罢不能。\n",
    "\n",
    "#### 常用快捷键\n",
    "* Esc + F 在代码中查找、替换，忽略输出。\n",
    "* Esc + O 在cell和输出结果间切换。\n",
    "* 选择多个cell: \n",
    "* Shift + J 或 Shift + Down 选择下一个cell。\n",
    "* Shift + K 或 Shift + Up 选择上一个cell。\n",
    "* 一旦选定cell，可以批量删除/拷贝/剪切/粘贴/运行。当你需要移动notebook的一部分时这个很有用。\n",
    "* Shift + M 合并cell. "
   ]
  },
  {
   "cell_type": "markdown",
   "metadata": {},
   "source": [
    "### 2、轻松链接到文档\n",
    "在Help 菜单下，你可以找到常见库的在线文档链接，包括Numpy，Pandas，Scipy和Matplotlib等。 \n",
    "另外，在库、方法或变量的前面打上?，即可打开相关语法的帮助文档。"
   ]
  },
  {
   "cell_type": "code",
   "execution_count": 3,
   "metadata": {},
   "outputs": [],
   "source": [
    "?str.replace"
   ]
  },
  {
   "cell_type": "code",
   "execution_count": 5,
   "metadata": {},
   "outputs": [
    {
     "name": "stdout",
     "output_type": "stream",
     "text": [
      "Help on method_descriptor:\n",
      "\n",
      "replace(...)\n",
      "    S.replace(old, new[, count]) -> str\n",
      "    \n",
      "    Return a copy of S with all occurrences of substring\n",
      "    old replaced by new.  If the optional argument count is\n",
      "    given, only the first count occurrences are replaced.\n",
      "\n"
     ]
    }
   ],
   "source": [
    "help(str.replace)"
   ]
  },
  {
   "cell_type": "markdown",
   "metadata": {},
   "source": [
    "### 3、Jupyter Magic - %run: 运行python代码\n",
    "\n",
    "%run 可以运行.py格式的python代码——这是众所周知的。不那么为人知晓的事实是它也可以运行其它的jupyter notebook文件，这一点很有用。 \n",
    "注意：使用%run 与导入一个python模块是不同的。"
   ]
  },
  {
   "cell_type": "code",
   "execution_count": 5,
   "metadata": {},
   "outputs": [
    {
     "name": "stderr",
     "output_type": "stream",
     "text": [
      "ERROR:root:File `'haha.py'` not found.\n"
     ]
    }
   ],
   "source": [
    "%run haha.py"
   ]
  },
  {
   "cell_type": "code",
   "execution_count": 1,
   "metadata": {},
   "outputs": [],
   "source": [
    "%run test.py"
   ]
  },
  {
   "cell_type": "markdown",
   "metadata": {},
   "source": [
    "### 4、Jupyter Magic -%load：从外部脚本中插入代码\n",
    "\n",
    "该操作用外部脚本替换当前cell。可以使用你的电脑中的一个文件作为来源，也可以使用URL。"
   ]
  },
  {
   "cell_type": "code",
   "execution_count": 2,
   "metadata": {},
   "outputs": [
    {
     "name": "stdout",
     "output_type": "stream",
     "text": [
      "It's main !\n"
     ]
    }
   ],
   "source": [
    "# %load haha.py\n",
    "#其次我们看一下__name__属性的常用情况\n",
    "\n",
    "\n",
    "def abc():\n",
    "    if __name__==\"__main__\":\n",
    "        print (\"It's main !\")\n",
    "    else:\n",
    "        print (\"It's not main !\")\n",
    "\n",
    "\n",
    "abc()"
   ]
  },
  {
   "cell_type": "code",
   "execution_count": 8,
   "metadata": {},
   "outputs": [
    {
     "name": "stdout",
     "output_type": "stream",
     "text": [
      "HelloWorld\n"
     ]
    }
   ],
   "source": [
    "# %load test.py\n",
    "a = 'HelloWorld'\n",
    "print(a)"
   ]
  },
  {
   "cell_type": "markdown",
   "metadata": {},
   "source": [
    "### 5、Jupyter Magic - %store: 在notebook文件之间传递变量\n",
    "\n",
    "%store 命令可以在两个notebook文件之间传递变量。\n",
    "\n",
    "In [62]:    data = 'this is the string I want to pass to different notebook'\n",
    "            \n",
    "            %store data\n",
    "            del data # This has deleted the variable\n",
    "            Stored 'data' (str)\n",
    "现在，在一个新的notebook文档里……\n",
    "\n",
    "In [1]: %store -r data\n",
    "        \n",
    "        print(data)"
   ]
  },
  {
   "cell_type": "code",
   "execution_count": 9,
   "metadata": {},
   "outputs": [
    {
     "name": "stdout",
     "output_type": "stream",
     "text": [
      "Stored 'dataabc' (str)\n"
     ]
    }
   ],
   "source": [
    "dataabc = 'helloWorld'\n",
    "%store dataabc"
   ]
  },
  {
   "cell_type": "markdown",
   "metadata": {},
   "source": [
    "### 6、Jupyter Magic - %who: 列出所有的全局变量\n",
    "\n",
    "不加任何参数， %who 命令可以列出所有的全局变量。加上参数 str 将只列出字符串型的全局变量。"
   ]
  },
  {
   "cell_type": "code",
   "execution_count": 3,
   "metadata": {},
   "outputs": [
    {
     "name": "stdout",
     "output_type": "stream",
     "text": [
      "one\t three\t two\t \n"
     ]
    }
   ],
   "source": [
    "one = \"for the money\"\n",
    "two = \"for the show\"\n",
    "three = \"to get ready now go cat go\" \n",
    "%who str"
   ]
  },
  {
   "cell_type": "markdown",
   "metadata": {},
   "source": [
    "### 7、Jupyter Magic – 计时\n",
    "\n",
    "有两种用于计时的jupyter magic命令： %%time 和 %timeit.当你有一些很耗时的代码，想要查清楚问题出在哪时，这两个命令非常给力。 \n",
    "仔细体会下我的描述哦。 \n",
    "%%time 会告诉你cell内代码的单次运行时间信息。\n",
    "\n",
    "In [4]: %%time\n",
    "        import time\n",
    "        for _ in range(1000):\n",
    "            time.sleep(0.01)# sleep for 0.01 seconds"
   ]
  },
  {
   "cell_type": "code",
   "execution_count": 11,
   "metadata": {},
   "outputs": [
    {
     "name": "stdout",
     "output_type": "stream",
     "text": [
      "Wall time: 1.03 s\n"
     ]
    }
   ],
   "source": [
    "%%time\n",
    "import time\n",
    "for _ in range(100):\n",
    "    time.sleep(0.01)# sleep for 0.01 seconds"
   ]
  },
  {
   "cell_type": "code",
   "execution_count": 11,
   "metadata": {},
   "outputs": [
    {
     "name": "stdout",
     "output_type": "stream",
     "text": [
      "The slowest run took 21.42 times longer than the fastest. This could mean that an intermediate result is being cached.\n",
      "10000 loops, best of 3: 61.3 µs per loop\n"
     ]
    }
   ],
   "source": [
    "# import numpy\n",
    "# %timeit numpy.random.normal(size=100)"
   ]
  },
  {
   "cell_type": "code",
   "execution_count": 12,
   "metadata": {},
   "outputs": [
    {
     "name": "stdout",
     "output_type": "stream",
     "text": [
      "23.8 µs ± 385 ns per loop (mean ± std. dev. of 7 runs, 10000 loops each)\n"
     ]
    }
   ],
   "source": [
    "def abc():\n",
    "    for item  in range(1000):\n",
    "        item  = 1\n",
    "%timeit abc()"
   ]
  },
  {
   "cell_type": "markdown",
   "metadata": {},
   "source": [
    "### 8、Jupyter Magic - %%writefile and %pycat:导出cell内容/显示外部脚本的内容\n",
    "\n",
    "使用%%writefile magic可以保存cell的内容到外部文件。 而%pycat功能相反，把外部文件语法高亮显示（以弹出窗方式）。"
   ]
  },
  {
   "cell_type": "code",
   "execution_count": 16,
   "metadata": {},
   "outputs": [
    {
     "name": "stdout",
     "output_type": "stream",
     "text": [
      "Overwriting pythoncode.py\n"
     ]
    }
   ],
   "source": [
    " %%writefile pythoncode.py\n",
    "\n",
    "import numpy\n",
    "def append_if_not_exists(arr, x):\n",
    "    if x not in arr:\n",
    "    arr.append(x)\n",
    "\n",
    "def some_useless_slow_function():\n",
    "    arr = list()\n",
    "    for i in range(10000):\n",
    "        x = numpy.random.randint(0, 10000)\n",
    "        append_if_not_exists(arr, x)"
   ]
  },
  {
   "cell_type": "code",
   "execution_count": 14,
   "metadata": {
    "collapsed": true
   },
   "outputs": [],
   "source": [
    "%pycat pythoncode.py"
   ]
  },
  {
   "cell_type": "code",
   "execution_count": 13,
   "metadata": {},
   "outputs": [
    {
     "name": "stdout",
     "output_type": "stream",
     "text": [
      "Writing tt.py\n"
     ]
    }
   ],
   "source": [
    "%%writefile tt.py\n",
    "def abc():\n",
    "    for item  in range(1000):\n",
    "        item  = 1"
   ]
  },
  {
   "cell_type": "code",
   "execution_count": null,
   "metadata": {},
   "outputs": [],
   "source": [
    "# %load tt.py\n",
    "def abc():\n",
    "    for item  in range(1000):\n",
    "        item  = 1"
   ]
  },
  {
   "cell_type": "markdown",
   "metadata": {},
   "source": [
    "### 9、Jupyter Magic - %prun: 告诉你程序中每个函数消耗的时间\n",
    "\n",
    "使用%prun+函数声明会给你一个按顺序排列的表格，显示每个内部函数的耗时情况，每次调用函数的耗时情况，以及累计耗时。"
   ]
  },
  {
   "cell_type": "code",
   "execution_count": 16,
   "metadata": {},
   "outputs": [
    {
     "name": "stdout",
     "output_type": "stream",
     "text": [
      " "
     ]
    }
   ],
   "source": [
    "%prun abc()"
   ]
  },
  {
   "cell_type": "markdown",
   "metadata": {},
   "source": [
    "### 10、末句函数不输出\n",
    "\n",
    "有时候不让末句的函数输出结果比较方便，比如在作图的时候，此时，只需在该函数末尾加上一个分号即可。"
   ]
  },
  {
   "cell_type": "code",
   "execution_count": 19,
   "metadata": {},
   "outputs": [],
   "source": [
    "3+4;"
   ]
  },
  {
   "cell_type": "markdown",
   "metadata": {},
   "source": [
    "### 11、运行Shell命令\n",
    "\n",
    "在notebook内部运行shell命令很简单，这样你就可以看到你的工作文件夹里有哪些数据集。\n",
    "\n",
    "In [7]: !ls *.csv"
   ]
  },
  {
   "cell_type": "code",
   "execution_count": 20,
   "metadata": {},
   "outputs": [
    {
     "name": "stdout",
     "output_type": "stream",
     "text": [
      "\n",
      "Windows IP 配置\n",
      "\n",
      "\n",
      "无线局域网适配器 本地连接* 8:\n",
      "\n",
      "   媒体状态  . . . . . . . . . . . . : 媒体已断开连接\n",
      "   连接特定的 DNS 后缀 . . . . . . . : \n",
      "\n",
      "无线局域网适配器 本地连接* 11:\n",
      "\n",
      "   媒体状态  . . . . . . . . . . . . : 媒体已断开连接\n",
      "   连接特定的 DNS 后缀 . . . . . . . : \n",
      "\n",
      "以太网适配器 以太网:\n",
      "\n",
      "   连接特定的 DNS 后缀 . . . . . . . : \n",
      "   本地链接 IPv6 地址. . . . . . . . : fe80::19d7:74d2:b8d8:106f%2\n",
      "   IPv4 地址 . . . . . . . . . . . . : 192.168.8.215\n",
      "   子网掩码  . . . . . . . . . . . . : 255.255.255.0\n",
      "   默认网关. . . . . . . . . . . . . : 192.168.8.1\n",
      "\n",
      "以太网适配器 VMware Network Adapter VMnet1:\n",
      "\n",
      "   连接特定的 DNS 后缀 . . . . . . . : \n",
      "   本地链接 IPv6 地址. . . . . . . . : fe80::c79:12c0:7b37:7115%6\n",
      "   IPv4 地址 . . . . . . . . . . . . : 192.168.223.1\n",
      "   子网掩码  . . . . . . . . . . . . : 255.255.255.0\n",
      "   默认网关. . . . . . . . . . . . . : \n",
      "\n",
      "以太网适配器 VMware Network Adapter VMnet8:\n",
      "\n",
      "   连接特定的 DNS 后缀 . . . . . . . : \n",
      "   本地链接 IPv6 地址. . . . . . . . : fe80::f0b8:1b45:56ed:6539%11\n",
      "   IPv4 地址 . . . . . . . . . . . . : 192.168.132.1\n",
      "   子网掩码  . . . . . . . . . . . . : 255.255.255.0\n",
      "   默认网关. . . . . . . . . . . . . : \n",
      "\n",
      "以太网适配器 蓝牙网络连接:\n",
      "\n",
      "   媒体状态  . . . . . . . . . . . . : 媒体已断开连接\n",
      "   连接特定的 DNS 后缀 . . . . . . . : \n",
      "\n",
      "无线局域网适配器 WLAN:\n",
      "\n",
      "   媒体状态  . . . . . . . . . . . . : 媒体已断开连接\n",
      "   连接特定的 DNS 后缀 . . . . . . . : DHCP HOST\n",
      "\n",
      "隧道适配器 本地连接* 12:\n",
      "\n",
      "   媒体状态  . . . . . . . . . . . . : 媒体已断开连接\n",
      "   连接特定的 DNS 后缀 . . . . . . . : \n"
     ]
    }
   ],
   "source": [
    "!ipconfig"
   ]
  },
  {
   "cell_type": "code",
   "execution_count": 21,
   "metadata": {},
   "outputs": [
    {
     "name": "stdout",
     "output_type": "stream",
     "text": [
      "文件夹 PATH 列表\n",
      "卷序列号为 000000D2 C14D:581B\n",
      "F:.\n",
      "└─.ipynb_checkpoints\n"
     ]
    }
   ],
   "source": [
    "!tree"
   ]
  },
  {
   "cell_type": "code",
   "execution_count": 22,
   "metadata": {},
   "outputs": [
    {
     "name": "stdout",
     "output_type": "stream",
     "text": [
      " 驱动器 F 中的卷没有标签。\n",
      " 卷的序列号是 C14D-581B\n",
      "\n",
      " F:\\sxt\\python\\pythonNotebook\\Python基础\\1python语法 的目录\n",
      "\n",
      "2018/09/10  14:30    <DIR>          .\n",
      "2018/09/10  14:30    <DIR>          ..\n",
      "2018/06/25  17:33    <DIR>          .ipynb_checkpoints\n",
      "2018/07/06  11:06            49,919 1Python语法基础.ipynb\n",
      "2018/09/10  14:21            17,038 2Python的运算符与表达式.ipynb\n",
      "2018/07/06  11:17         1,788,604 3Python 控制流、列表生成式.ipynb\n",
      "2018/07/06  11:29            33,853 Dict与Set.ipynb\n",
      "2018/09/10  14:30            13,983 JupyterNotebook教程.ipynb\n",
      "2018/06/25  17:33             3,306 Python练习题.ipynb\n",
      "2018/09/10  14:15                26 test.py\n",
      "2018/09/10  14:26                60 tt.py\n",
      "2018/07/06  11:29             7,066 列表与字典.ipynb\n",
      "2018/07/06  11:30            13,403 列表函数&方法.ipynb\n",
      "2018/07/06  11:31            22,992 字典内置函数&方法.ipynb\n",
      "2018/07/06  11:33            25,318 字符串format.ipynb\n",
      "2018/07/06  11:35             5,621 字符串和编码.ipynb\n",
      "2018/07/06  11:36             9,035 字符串格式化.ipynb\n",
      "2018/07/06  11:38             1,262 语法基础.ipynb\n",
      "2018/07/06  11:38             6,084 输入与输出.ipynb\n",
      "              16 个文件      1,997,570 字节\n",
      "               3 个目录 169,784,434,688 可用字节\n"
     ]
    }
   ],
   "source": [
    "!dir"
   ]
  },
  {
   "cell_type": "code",
   "execution_count": 27,
   "metadata": {},
   "outputs": [],
   "source": [
    "str.r*?"
   ]
  },
  {
   "cell_type": "code",
   "execution_count": null,
   "metadata": {},
   "outputs": [],
   "source": []
  }
 ],
 "metadata": {
  "kernelspec": {
   "display_name": "Python 3",
   "language": "python",
   "name": "python3"
  },
  "language_info": {
   "codemirror_mode": {
    "name": "ipython",
    "version": 3
   },
   "file_extension": ".py",
   "mimetype": "text/x-python",
   "name": "python",
   "nbconvert_exporter": "python",
   "pygments_lexer": "ipython3",
   "version": "3.6.5"
  }
 },
 "nbformat": 4,
 "nbformat_minor": 2
}
